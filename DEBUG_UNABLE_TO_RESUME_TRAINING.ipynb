{
  "nbformat": 4,
  "nbformat_minor": 0,
  "metadata": {
    "colab": {
      "name": "DEBUG: UNABLE TO RESUME TRAINING",
      "provenance": [],
      "collapsed_sections": [],
      "include_colab_link": true
    },
    "kernelspec": {
      "name": "python3",
      "display_name": "Python 3",
      "language": "python"
    },
    "language_info": {
      "name": "python",
      "version": "3.8.5"
    },
    "accelerator": "GPU"
  },
  "cells": [
    {
      "cell_type": "markdown",
      "metadata": {
        "id": "view-in-github",
        "colab_type": "text"
      },
      "source": [
        "<a href=\"https://colab.research.google.com/github/balandongiv/mmocr_tutorial/blob/main/DEBUG_UNABLE_TO_RESUME_TRAINING.ipynb\" target=\"_parent\"><img src=\"https://colab.research.google.com/assets/colab-badge.svg\" alt=\"Open In Colab\"/></a>"
      ]
    },
    {
      "cell_type": "markdown",
      "source": [
        "# DEBUG: UNABLE TO RESUME TRAINING\n",
        "\n"
      ],
      "metadata": {
        "id": "U-Xyj4cQrEQ1"
      }
    },
    {
      "cell_type": "markdown",
      "source": [
        "# Install MMOCR"
      ],
      "metadata": {
        "id": "Sfvz1sywQ9_4"
      }
    },
    {
      "cell_type": "markdown",
      "source": [
        "### Install Dependencies "
      ],
      "metadata": {
        "id": "Tw7u_baQpEUs"
      }
    },
    {
      "cell_type": "code",
      "execution_count": null,
      "source": [
        "%cd ..\n",
        "# Install mmcv-full thus we could use CUDA operators\n",
        "!pip install mmcv-full -f https://download.openmmlab.com/mmcv/dist/cu113/torch1.11.0/index.html\n",
        "\n",
        "# Install mmdetection\n",
        "!pip install mmdet\n",
        "\n",
        "# # Install mmocr\n",
        "!git clone https://github.com/open-mmlab/mmocr.git\n",
        "%cd mmocr\n",
        "!pip install -r requirements.txt\n",
        "!pip install -v -e ."
      ],
      "outputs": [],
      "metadata": {
        "id": "DwDY3puNNmhe",
        "tags": [
          "outputPrepend"
        ]
      }
    },
    {
      "cell_type": "markdown",
      "source": [
        "### Check Installed Dependencies Versions"
      ],
      "metadata": {
        "id": "DY64JCc0pEUu"
      }
    },
    {
      "cell_type": "code",
      "execution_count": 2,
      "source": [
        "# Check Pytorch installation\n",
        "import torch, torchvision\n",
        "print(torch.__version__, torch.cuda.is_available())\n",
        "\n",
        "# Check MMDetection installation\n",
        "import mmdet\n",
        "print(mmdet.__version__)\n",
        "\n",
        "# Check mmcv installation\n",
        "import mmcv\n",
        "from mmcv.ops import get_compiling_cuda_version, get_compiler_version\n",
        "print(mmcv.__version__)\n",
        "print(get_compiling_cuda_version())\n",
        "print(get_compiler_version())\n",
        "\n",
        "# Check mmocr installation\n",
        "import mmocr\n",
        "print(mmocr.__version__)\n",
        "\n",
        "%cd /mmocr/\n",
        "!ls"
      ],
      "outputs": [
        {
          "output_type": "stream",
          "name": "stdout",
          "text": [
            "1.11.0+cu113 True\n",
            "2.25.0\n",
            "1.5.3\n",
            "11.3\n",
            "GCC 7.3\n",
            "0.6.0\n",
            "/mmocr\n",
            "CITATION.cff  docs\t   mmocr.egg-info   requirements      setup.py\n",
            "configs       LICENSE\t   model-index.yml  requirements.txt  tests\n",
            "demo\t      MANIFEST.in  README.md\t    resources\t      tools\n",
            "docker\t      mmocr\t   README_zh-CN.md  setup.cfg\n"
          ]
        }
      ],
      "metadata": {
        "id": "JABQfPwQN52g",
        "colab": {
          "base_uri": "https://localhost:8080/"
        },
        "outputId": "54832da4-7ba1-4eb4-a122-e5da3b2551bd"
      }
    },
    {
      "cell_type": "markdown",
      "source": [
        "Lets download a `zip` which contain\n",
        "\n",
        "\n",
        "1.   Pretrain crnn model which has been train with `Syn90k` for 6 epochs with the name `epoch_6.pth`\n",
        "2.   List of images with its corresponding coco annotation stored under the folder `imgs`\n",
        "\n"
      ],
      "metadata": {
        "id": "W25M57hoJzxi"
      }
    },
    {
      "cell_type": "code",
      "source": [
        "\"\"\n",
        "# Download the zip file\n",
        "\n",
        "!gdown --id 1fKnXVj0Xf8SJmdvoSWrIlW2kxECC7r-8 --output /content/mmocr_debug.zip\n",
        "\n",
        "# Unzip the file\n",
        "!unzip /content/mmocr_debug.zip -d /content\n",
        "\n"
      ],
      "metadata": {
        "id": "DjANlnecu-lX"
      },
      "execution_count": null,
      "outputs": []
    },
    {
      "cell_type": "code",
      "source": [
        "\n",
        "# Convert from COCO to jsonl\n",
        "# train_img_prefix ='/content/mmocr_debug/val/mmocr_compatible_annotation/crops'\n",
        "# train_ann_filex = '/content/mmocr_debug/val/mmocr_compatible_annotation/train_label.jsonl'\n",
        "!python /mmocr/tools/data/common/labelme_converter.py /content/mmocr_debug/val /content/mmocr_debug/val /content/mmocr_debug/val/mmocr_compatible_annotation --tasks recog\n",
        "\n",
        "\n",
        "\n",
        "# Convert from COCO to jsonl\n",
        "# train_img_prefix ='/content/mmocr_debug/train/mmocr_compatible_annotation/crops'\n",
        "# train_ann_filex = '/content/mmocr_debug/train/mmocr_compatible_annotation/train_label.jsonl'\n",
        "\n",
        "!python /mmocr/tools/data/common/labelme_converter.py /content/mmocr_debug/train /content/mmocr_debug/train /content/mmocr_debug/train/mmocr_compatible_annotation --tasks recog"
      ],
      "metadata": {
        "colab": {
          "base_uri": "https://localhost:8080/"
        },
        "id": "6jx6wZcSNUYz",
        "outputId": "1a789119-249a-49ba-9be8-9fb7f4860d23"
      },
      "execution_count": 26,
      "outputs": [
        {
          "output_type": "stream",
          "name": "stdout",
          "text": [
            "[                                                  ] 0/21, elapsed: 0s, ETA:libpng warning: bKGD: invalid\n",
            "[  ] 1/21, 8.9 task/s, elapsed: 0s, ETA:     2slibpng warning: bKGD: invalid\n",
            "[  ] 2/21, 9.3 task/s, elapsed: 0s, ETA:     2slibpng warning: bKGD: invalid\n",
            "[  ] 3/21, 9.7 task/s, elapsed: 0s, ETA:     2slibpng warning: bKGD: invalid\n",
            "[  ] 4/21, 9.5 task/s, elapsed: 0s, ETA:     2slibpng warning: bKGD: invalid\n",
            "[  ] 5/21, 9.5 task/s, elapsed: 1s, ETA:     2slibpng warning: bKGD: invalid\n",
            "[  ] 6/21, 9.6 task/s, elapsed: 1s, ETA:     2slibpng warning: bKGD: invalid\n",
            "[  ] 7/21, 9.6 task/s, elapsed: 1s, ETA:     1slibpng warning: bKGD: invalid\n",
            "[  ] 8/21, 9.6 task/s, elapsed: 1s, ETA:     1slibpng warning: bKGD: invalid\n",
            "[  ] 9/21, 9.7 task/s, elapsed: 1s, ETA:     1slibpng warning: bKGD: invalid\n",
            "[  ] 10/21, 9.7 task/s, elapsed: 1s, ETA:     1slibpng warning: bKGD: invalid\n",
            "[> ] 11/21, 9.7 task/s, elapsed: 1s, ETA:     1slibpng warning: bKGD: invalid\n",
            "[> ] 12/21, 9.7 task/s, elapsed: 1s, ETA:     1slibpng warning: bKGD: invalid\n",
            "[> ] 13/21, 9.7 task/s, elapsed: 1s, ETA:     1slibpng warning: bKGD: invalid\n",
            "[> ] 14/21, 9.7 task/s, elapsed: 1s, ETA:     1slibpng warning: bKGD: invalid\n",
            "[> ] 15/21, 9.7 task/s, elapsed: 2s, ETA:     1slibpng warning: bKGD: invalid\n",
            "[> ] 16/21, 9.7 task/s, elapsed: 2s, ETA:     1slibpng warning: bKGD: invalid\n",
            "[> ] 17/21, 9.7 task/s, elapsed: 2s, ETA:     0slibpng warning: bKGD: invalid\n",
            "[> ] 18/21, 9.7 task/s, elapsed: 2s, ETA:     0slibpng warning: bKGD: invalid\n",
            "[> ] 19/21, 9.7 task/s, elapsed: 2s, ETA:     0slibpng warning: bKGD: invalid\n",
            "[> ] 20/21, 9.7 task/s, elapsed: 2s, ETA:     0slibpng warning: bKGD: invalid\n",
            "[>>] 21/21, 9.7 task/s, elapsed: 2s, ETA:     0s\n",
            "finish\n",
            "[                                                  ] 0/34, elapsed: 0s, ETA:libpng warning: bKGD: invalid\n",
            "[  ] 1/34, 9.2 task/s, elapsed: 0s, ETA:     4slibpng warning: bKGD: invalid\n",
            "[  ] 2/34, 9.6 task/s, elapsed: 0s, ETA:     3slibpng warning: bKGD: invalid\n",
            "[  ] 3/34, 9.7 task/s, elapsed: 0s, ETA:     3slibpng warning: bKGD: invalid\n",
            "[  ] 4/34, 9.7 task/s, elapsed: 0s, ETA:     3slibpng warning: bKGD: invalid\n",
            "[  ] 5/34, 9.7 task/s, elapsed: 1s, ETA:     3slibpng warning: bKGD: invalid\n",
            "[  ] 6/34, 9.7 task/s, elapsed: 1s, ETA:     3slibpng warning: bKGD: invalid\n",
            "[  ] 7/34, 9.7 task/s, elapsed: 1s, ETA:     3slibpng warning: bKGD: invalid\n",
            "[  ] 8/34, 9.6 task/s, elapsed: 1s, ETA:     3slibpng warning: bKGD: invalid\n",
            "[  ] 9/34, 9.5 task/s, elapsed: 1s, ETA:     3slibpng warning: bKGD: invalid\n",
            "[  ] 10/34, 9.6 task/s, elapsed: 1s, ETA:     3slibpng warning: bKGD: invalid\n",
            "[  ] 11/34, 9.6 task/s, elapsed: 1s, ETA:     2slibpng warning: bKGD: invalid\n",
            "[  ] 12/34, 9.6 task/s, elapsed: 1s, ETA:     2slibpng warning: bKGD: invalid\n",
            "[  ] 13/34, 9.7 task/s, elapsed: 1s, ETA:     2slibpng warning: bKGD: invalid\n",
            "[  ] 14/34, 9.7 task/s, elapsed: 1s, ETA:     2slibpng warning: bKGD: invalid\n",
            "[  ] 15/34, 9.7 task/s, elapsed: 2s, ETA:     2slibpng warning: bKGD: invalid\n",
            "[  ] 16/34, 9.7 task/s, elapsed: 2s, ETA:     2slibpng warning: bKGD: invalid\n",
            "[> ] 17/34, 9.7 task/s, elapsed: 2s, ETA:     2slibpng warning: bKGD: invalid\n",
            "[> ] 18/34, 9.8 task/s, elapsed: 2s, ETA:     2slibpng warning: bKGD: invalid\n",
            "[> ] 19/34, 9.7 task/s, elapsed: 2s, ETA:     2slibpng warning: bKGD: invalid\n",
            "[> ] 20/34, 9.7 task/s, elapsed: 2s, ETA:     1slibpng warning: bKGD: invalid\n",
            "[> ] 21/34, 9.8 task/s, elapsed: 2s, ETA:     1slibpng warning: bKGD: invalid\n",
            "[> ] 22/34, 9.8 task/s, elapsed: 2s, ETA:     1slibpng warning: bKGD: invalid\n",
            "[> ] 23/34, 9.8 task/s, elapsed: 2s, ETA:     1slibpng warning: bKGD: invalid\n",
            "[> ] 24/34, 9.8 task/s, elapsed: 2s, ETA:     1slibpng warning: bKGD: invalid\n",
            "[> ] 25/34, 9.8 task/s, elapsed: 3s, ETA:     1slibpng warning: bKGD: invalid\n",
            "[> ] 26/34, 9.8 task/s, elapsed: 3s, ETA:     1slibpng warning: bKGD: invalid\n",
            "[> ] 27/34, 9.8 task/s, elapsed: 3s, ETA:     1slibpng warning: bKGD: invalid\n",
            "[> ] 28/34, 9.8 task/s, elapsed: 3s, ETA:     1slibpng warning: bKGD: invalid\n",
            "[> ] 29/34, 9.8 task/s, elapsed: 3s, ETA:     1slibpng warning: bKGD: invalid\n",
            "[> ] 30/34, 9.8 task/s, elapsed: 3s, ETA:     0slibpng warning: bKGD: invalid\n",
            "[> ] 31/34, 9.8 task/s, elapsed: 3s, ETA:     0slibpng warning: bKGD: invalid\n",
            "[> ] 32/34, 9.8 task/s, elapsed: 3s, ETA:     0slibpng warning: bKGD: invalid\n",
            "[> ] 33/34, 9.7 task/s, elapsed: 3s, ETA:     0slibpng warning: bKGD: invalid\n",
            "[>>] 34/34, 9.7 task/s, elapsed: 3s, ETA:     0s\n",
            "finish\n"
          ]
        }
      ]
    },
    {
      "cell_type": "markdown",
      "source": [
        "## Resume training from the `epoch_6.pth` with a new list of crop `images`\n",
        "\n",
        "\n"
      ],
      "metadata": {
        "id": "HDjdg6L8ziYS"
      }
    },
    {
      "cell_type": "code",
      "source": [
        "import os.path as osp\n",
        "\n",
        "import mmcv\n",
        "from mmcv import Config\n",
        "from mmdet.apis import set_random_seed\n",
        "\n",
        "from mmocr.apis import train_detector\n",
        "from mmocr.datasets import build_dataset\n",
        "from mmocr.models import build_detector\n",
        "\n",
        "\n",
        "cfg = Config.fromfile('/content/mmocr_debug/cfg_debug_resume.py')\n",
        "\n",
        "seed = 0\n",
        "set_random_seed(0, deterministic=False)\n",
        "cfg.gpu_ids = range(1)\n",
        "\n",
        "# Let also limit the training to only 14 epochs\n",
        "\n",
        "cfg.runner = dict(type='EpochBasedRunner', max_epochs=14) # Default max_epochs is 1200\n",
        "\n",
        "#save the model every 2 epoch\n",
        "cfg.checkpoint_config = dict(interval=2) # Default the interval was set to 100\n",
        "\n",
        "print(f'Config:\\n{cfg.pretty_text}')\n",
        "\n",
        "# Build dataset\n",
        "datasets = [build_dataset(cfg.data.train)]\n",
        "#\n",
        "# # Build the detector\n",
        "model = build_detector(cfg.model, train_cfg=cfg.get('train_cfg'), test_cfg=cfg.get('test_cfg'))\n",
        "#\n",
        "# # Add an attribute for visualization convenience\n",
        "model.CLASSES = datasets[0].CLASSES\n",
        "\n",
        "# # Create work_dir\n",
        "mmcv.mkdir_or_exist(osp.abspath(cfg.work_dir))\n",
        "train_detector(model, datasets, cfg, distributed=False, validate=True)"
      ],
      "metadata": {
        "colab": {
          "base_uri": "https://localhost:8080/"
        },
        "id": "HUoqVVdRHcG3",
        "outputId": "2adc895e-1a69-4f55-b00d-5ab61c70decb"
      },
      "execution_count": 27,
      "outputs": [
        {
          "output_type": "stream",
          "name": "stderr",
          "text": [
            "/usr/local/lib/python3.7/dist-packages/torch/utils/data/dataloader.py:490: UserWarning: This DataLoader will create 4 worker processes in total. Our suggested max number of worker in current system is 2, which is smaller than what this DataLoader is going to create. Please be aware that excessive worker creation might get DataLoader running slow or even freeze, lower the worker number to avoid potential slowness/freeze if necessary.\n",
            "  cpuset_checked))\n",
            "2022-06-24 10:26:42,051 - mmocr - INFO - load checkpoint from local path: /content/mmocr_debug/epoch_6.pth\n",
            "2022-06-24 10:26:42,146 - mmocr - INFO - resumed epoch 6, iter 836184\n",
            "2022-06-24 10:26:42,148 - mmocr - INFO - Start running, host: root@7b1fd3e97bc2, work_dir: /content/mmocr_debug/resume\n",
            "2022-06-24 10:26:42,151 - mmocr - INFO - Hooks will be executed in the following order:\n",
            "before_run:\n",
            "(VERY_HIGH   ) StepLrUpdaterHook                  \n",
            "(NORMAL      ) CheckpointHook                     \n",
            "(NORMAL      ) EvalHook                           \n",
            "(VERY_LOW    ) TextLoggerHook                     \n",
            " -------------------- \n",
            "before_train_epoch:\n",
            "(VERY_HIGH   ) StepLrUpdaterHook                  \n",
            "(NORMAL      ) EvalHook                           \n",
            "(LOW         ) IterTimerHook                      \n",
            "(VERY_LOW    ) TextLoggerHook                     \n",
            " -------------------- \n",
            "before_train_iter:\n",
            "(VERY_HIGH   ) StepLrUpdaterHook                  \n",
            "(NORMAL      ) EvalHook                           \n",
            "(LOW         ) IterTimerHook                      \n",
            " -------------------- \n",
            "after_train_iter:\n",
            "(ABOVE_NORMAL) OptimizerHook                      \n",
            "(NORMAL      ) CheckpointHook                     \n",
            "(NORMAL      ) EvalHook                           \n",
            "(LOW         ) IterTimerHook                      \n",
            "(VERY_LOW    ) TextLoggerHook                     \n",
            " -------------------- \n",
            "after_train_epoch:\n",
            "(NORMAL      ) CheckpointHook                     \n",
            "(NORMAL      ) EvalHook                           \n",
            "(VERY_LOW    ) TextLoggerHook                     \n",
            " -------------------- \n",
            "before_val_epoch:\n",
            "(LOW         ) IterTimerHook                      \n",
            "(VERY_LOW    ) TextLoggerHook                     \n",
            " -------------------- \n",
            "before_val_iter:\n",
            "(LOW         ) IterTimerHook                      \n",
            " -------------------- \n",
            "after_val_iter:\n",
            "(LOW         ) IterTimerHook                      \n",
            " -------------------- \n",
            "after_val_epoch:\n",
            "(VERY_LOW    ) TextLoggerHook                     \n",
            " -------------------- \n",
            "after_run:\n",
            "(VERY_LOW    ) TextLoggerHook                     \n",
            " -------------------- \n",
            "2022-06-24 10:26:42,154 - mmocr - INFO - workflow: [('train', 1)], max: 14 epochs\n",
            "2022-06-24 10:26:42,157 - mmocr - INFO - Checkpoints will be saved to /content/mmocr_debug/resume by HardDiskBackend.\n"
          ]
        },
        {
          "output_type": "stream",
          "name": "stdout",
          "text": [
            "Config:\n",
            "log_config = dict(interval=5, hooks=[dict(type='TextLoggerHook')])\n",
            "dist_params = dict(backend='nccl')\n",
            "log_level = 'INFO'\n",
            "load_from = None\n",
            "resume_from = '/content/mmocr_debug/epoch_6.pth'\n",
            "workflow = [('train', 1)]\n",
            "opencv_num_threads = 0\n",
            "mp_start_method = 'fork'\n",
            "label_convertor = dict(\n",
            "    type='CTCConvertor', dict_type='DICT36', with_unknown=False, lower=True)\n",
            "model = dict(\n",
            "    type='CRNNNet',\n",
            "    preprocessor=None,\n",
            "    backbone=dict(type='VeryDeepVgg', leaky_relu=False, input_channels=1),\n",
            "    encoder=None,\n",
            "    decoder=dict(type='CRNNDecoder', in_channels=512, rnn_flag=True),\n",
            "    loss=dict(type='CTCLoss'),\n",
            "    label_convertor=dict(\n",
            "        type='CTCConvertor',\n",
            "        dict_type='DICT36',\n",
            "        with_unknown=False,\n",
            "        lower=True),\n",
            "    pretrained=None)\n",
            "img_norm_cfg = dict(mean=[127], std=[127])\n",
            "train_pipeline = [\n",
            "    dict(type='LoadImageFromFile', color_type='grayscale'),\n",
            "    dict(\n",
            "        type='ResizeOCR',\n",
            "        height=32,\n",
            "        min_width=100,\n",
            "        max_width=100,\n",
            "        keep_aspect_ratio=False),\n",
            "    dict(type='Normalize', mean=[127], std=[127]),\n",
            "    dict(type='DefaultFormatBundle'),\n",
            "    dict(\n",
            "        type='Collect',\n",
            "        keys=['img'],\n",
            "        meta_keys=['filename', 'resize_shape', 'text', 'valid_ratio'])\n",
            "]\n",
            "test_pipeline = [\n",
            "    dict(type='LoadImageFromFile', color_type='grayscale'),\n",
            "    dict(\n",
            "        type='ResizeOCR',\n",
            "        height=32,\n",
            "        min_width=32,\n",
            "        max_width=None,\n",
            "        keep_aspect_ratio=True),\n",
            "    dict(type='Normalize', mean=[127], std=[127]),\n",
            "    dict(type='DefaultFormatBundle'),\n",
            "    dict(\n",
            "        type='Collect',\n",
            "        keys=['img'],\n",
            "        meta_keys=[\n",
            "            'filename', 'resize_shape', 'valid_ratio', 'img_norm_cfg',\n",
            "            'ori_filename', 'img_shape', 'ori_shape'\n",
            "        ])\n",
            "]\n",
            "optimizer = dict(type='Adadelta', lr=1.0)\n",
            "optimizer_config = dict(grad_clip=None)\n",
            "lr_config = dict(policy='step', step=[])\n",
            "runner = dict(type='EpochBasedRunner', max_epochs=14)\n",
            "checkpoint_config = dict(interval=2)\n",
            "work_dir = '/content/mmocr_debug/resume'\n",
            "train_img_prefix = '/content/mmocr_debug/val/mmocr_compatible_annotation/crops'\n",
            "train_ann_filex = '/content/mmocr_debug/val/mmocr_compatible_annotation/train_label.jsonl'\n",
            "train1 = dict(\n",
            "    type='OCRDataset',\n",
            "    img_prefix='/content/mmocr_debug/val/mmocr_compatible_annotation/crops',\n",
            "    ann_file=\n",
            "    '/content/mmocr_debug/val/mmocr_compatible_annotation/train_label.jsonl',\n",
            "    loader=dict(\n",
            "        type='AnnFileLoader',\n",
            "        repeat=1,\n",
            "        file_format='txt',\n",
            "        file_storage_backend='disk',\n",
            "        parser=dict(type='LineJsonParser', keys=['filename', 'text'])),\n",
            "    pipeline=None,\n",
            "    test_mode=False)\n",
            "test1 = dict(\n",
            "    type='OCRDataset',\n",
            "    img_prefix='/content/mmocr_debug/val/mmocr_compatible_annotation/crops',\n",
            "    ann_file=\n",
            "    '/content/mmocr_debug/val/mmocr_compatible_annotation/train_label.jsonl',\n",
            "    loader=dict(\n",
            "        type='AnnFileLoader',\n",
            "        repeat=1,\n",
            "        file_format='txt',\n",
            "        file_storage_backend='disk',\n",
            "        parser=dict(type='LineJsonParser', keys=['filename', 'text'])),\n",
            "    pipeline=None,\n",
            "    test_mode=False)\n",
            "test_list = [\n",
            "    dict(\n",
            "        type='OCRDataset',\n",
            "        img_prefix='/content/mmocr_debug/val/mmocr_compatible_annotation/crops',\n",
            "        ann_file=\n",
            "        '/content/mmocr_debug/val/mmocr_compatible_annotation/train_label.jsonl',\n",
            "        loader=dict(\n",
            "            type='AnnFileLoader',\n",
            "            repeat=1,\n",
            "            file_format='txt',\n",
            "            file_storage_backend='disk',\n",
            "            parser=dict(type='LineJsonParser', keys=['filename', 'text'])),\n",
            "        pipeline=None,\n",
            "        test_mode=False)\n",
            "]\n",
            "train_list = [\n",
            "    dict(\n",
            "        type='OCRDataset',\n",
            "        img_prefix='/content/mmocr_debug/val/mmocr_compatible_annotation/crops',\n",
            "        ann_file=\n",
            "        '/content/mmocr_debug/val/mmocr_compatible_annotation/train_label.jsonl',\n",
            "        loader=dict(\n",
            "            type='AnnFileLoader',\n",
            "            repeat=1,\n",
            "            file_format='txt',\n",
            "            file_storage_backend='disk',\n",
            "            parser=dict(type='LineJsonParser', keys=['filename', 'text'])),\n",
            "        pipeline=None,\n",
            "        test_mode=False)\n",
            "]\n",
            "data = dict(\n",
            "    samples_per_gpu=64,\n",
            "    workers_per_gpu=4,\n",
            "    val_dataloader=dict(samples_per_gpu=1),\n",
            "    test_dataloader=dict(samples_per_gpu=1),\n",
            "    train=dict(\n",
            "        type='UniformConcatDataset',\n",
            "        datasets=[\n",
            "            dict(\n",
            "                type='OCRDataset',\n",
            "                img_prefix=\n",
            "                '/content/mmocr_debug/val/mmocr_compatible_annotation/crops',\n",
            "                ann_file=\n",
            "                '/content/mmocr_debug/val/mmocr_compatible_annotation/train_label.jsonl',\n",
            "                loader=dict(\n",
            "                    type='AnnFileLoader',\n",
            "                    repeat=1,\n",
            "                    file_format='txt',\n",
            "                    file_storage_backend='disk',\n",
            "                    parser=dict(\n",
            "                        type='LineJsonParser', keys=['filename', 'text'])),\n",
            "                pipeline=None,\n",
            "                test_mode=False)\n",
            "        ],\n",
            "        pipeline=[\n",
            "            dict(type='LoadImageFromFile', color_type='grayscale'),\n",
            "            dict(\n",
            "                type='ResizeOCR',\n",
            "                height=32,\n",
            "                min_width=100,\n",
            "                max_width=100,\n",
            "                keep_aspect_ratio=False),\n",
            "            dict(type='Normalize', mean=[127], std=[127]),\n",
            "            dict(type='DefaultFormatBundle'),\n",
            "            dict(\n",
            "                type='Collect',\n",
            "                keys=['img'],\n",
            "                meta_keys=['filename', 'resize_shape', 'text', 'valid_ratio'])\n",
            "        ]),\n",
            "    val=dict(\n",
            "        type='UniformConcatDataset',\n",
            "        datasets=[\n",
            "            dict(\n",
            "                type='OCRDataset',\n",
            "                img_prefix=\n",
            "                '/content/mmocr_debug/val/mmocr_compatible_annotation/crops',\n",
            "                ann_file=\n",
            "                '/content/mmocr_debug/val/mmocr_compatible_annotation/train_label.jsonl',\n",
            "                loader=dict(\n",
            "                    type='AnnFileLoader',\n",
            "                    repeat=1,\n",
            "                    file_format='txt',\n",
            "                    file_storage_backend='disk',\n",
            "                    parser=dict(\n",
            "                        type='LineJsonParser', keys=['filename', 'text'])),\n",
            "                pipeline=None,\n",
            "                test_mode=False)\n",
            "        ],\n",
            "        pipeline=[\n",
            "            dict(type='LoadImageFromFile', color_type='grayscale'),\n",
            "            dict(\n",
            "                type='ResizeOCR',\n",
            "                height=32,\n",
            "                min_width=32,\n",
            "                max_width=None,\n",
            "                keep_aspect_ratio=True),\n",
            "            dict(type='Normalize', mean=[127], std=[127]),\n",
            "            dict(type='DefaultFormatBundle'),\n",
            "            dict(\n",
            "                type='Collect',\n",
            "                keys=['img'],\n",
            "                meta_keys=[\n",
            "                    'filename', 'resize_shape', 'valid_ratio', 'img_norm_cfg',\n",
            "                    'ori_filename', 'img_shape', 'ori_shape'\n",
            "                ])\n",
            "        ]),\n",
            "    test=dict(\n",
            "        type='UniformConcatDataset',\n",
            "        datasets=[\n",
            "            dict(\n",
            "                type='OCRDataset',\n",
            "                img_prefix=\n",
            "                '/content/mmocr_debug/val/mmocr_compatible_annotation/crops',\n",
            "                ann_file=\n",
            "                '/content/mmocr_debug/val/mmocr_compatible_annotation/train_label.jsonl',\n",
            "                loader=dict(\n",
            "                    type='AnnFileLoader',\n",
            "                    repeat=1,\n",
            "                    file_format='txt',\n",
            "                    file_storage_backend='disk',\n",
            "                    parser=dict(\n",
            "                        type='LineJsonParser', keys=['filename', 'text'])),\n",
            "                pipeline=None,\n",
            "                test_mode=False)\n",
            "        ],\n",
            "        pipeline=[\n",
            "            dict(type='LoadImageFromFile', color_type='grayscale'),\n",
            "            dict(\n",
            "                type='ResizeOCR',\n",
            "                height=32,\n",
            "                min_width=32,\n",
            "                max_width=None,\n",
            "                keep_aspect_ratio=True),\n",
            "            dict(type='Normalize', mean=[127], std=[127]),\n",
            "            dict(type='DefaultFormatBundle'),\n",
            "            dict(\n",
            "                type='Collect',\n",
            "                keys=['img'],\n",
            "                meta_keys=[\n",
            "                    'filename', 'resize_shape', 'valid_ratio', 'img_norm_cfg',\n",
            "                    'ori_filename', 'img_shape', 'ori_shape'\n",
            "                ])\n",
            "        ]))\n",
            "evaluation = dict(interval=1, metric='acc')\n",
            "cudnn_benchmark = True\n",
            "gpu_ids = range(0, 1)\n",
            "\n",
            "[>>>>>>>>>>>>>>>>>>>>>>>>>>>>>>>>] 63/63, 80.6 task/s, elapsed: 1s, ETA:     0s"
          ]
        },
        {
          "output_type": "stream",
          "name": "stderr",
          "text": [
            "2022-06-24 10:26:45,412 - mmocr - INFO - \n",
            "Evaluating /content/mmocr_debug/val/mmocr_compatible_annotation/train_label.jsonl with 63 images now\n",
            "2022-06-24 10:26:45,418 - mmocr - INFO - Epoch(val) [7][63]\t0_char_recall: 0.7937, 0_char_precision: 0.8130, 0_word_acc: 0.0000, 0_word_acc_ignore_case: 0.6190, 0_word_acc_ignore_case_symbol: 0.6190, 0_1-N.E.D: 0.7937\n",
            "2022-06-24 10:26:47,782 - mmocr - INFO - Saving checkpoint at 8 epochs\n"
          ]
        },
        {
          "output_type": "stream",
          "name": "stdout",
          "text": [
            "[>>>>>>>>>>>>>>>>>>>>>>>>>>>>>>>>] 63/63, 81.5 task/s, elapsed: 1s, ETA:     0s"
          ]
        },
        {
          "output_type": "stream",
          "name": "stderr",
          "text": [
            "2022-06-24 10:26:49,073 - mmocr - INFO - \n",
            "Evaluating /content/mmocr_debug/val/mmocr_compatible_annotation/train_label.jsonl with 63 images now\n",
            "2022-06-24 10:26:49,076 - mmocr - INFO - Epoch(val) [8][63]\t0_char_recall: 0.8175, 0_char_precision: 0.8175, 0_word_acc: 0.0000, 0_word_acc_ignore_case: 0.6349, 0_word_acc_ignore_case_symbol: 0.6349, 0_1-N.E.D: 0.8122\n"
          ]
        },
        {
          "output_type": "stream",
          "name": "stdout",
          "text": [
            "[>>>>>>>>>>>>>>>>>>>>>>>>>>>>>>>>] 63/63, 84.7 task/s, elapsed: 1s, ETA:     0s"
          ]
        },
        {
          "output_type": "stream",
          "name": "stderr",
          "text": [
            "2022-06-24 10:26:52,406 - mmocr - INFO - \n",
            "Evaluating /content/mmocr_debug/val/mmocr_compatible_annotation/train_label.jsonl with 63 images now\n",
            "2022-06-24 10:26:52,412 - mmocr - INFO - Epoch(val) [9][63]\t0_char_recall: 0.8095, 0_char_precision: 0.8095, 0_word_acc: 0.0000, 0_word_acc_ignore_case: 0.6349, 0_word_acc_ignore_case_symbol: 0.6349, 0_1-N.E.D: 0.8095\n",
            "2022-06-24 10:26:54,762 - mmocr - INFO - Saving checkpoint at 10 epochs\n"
          ]
        },
        {
          "output_type": "stream",
          "name": "stdout",
          "text": [
            "[>>>>>>>>>>>>>>>>>>>>>>>>>>>>>>>>] 63/63, 79.9 task/s, elapsed: 1s, ETA:     0s"
          ]
        },
        {
          "output_type": "stream",
          "name": "stderr",
          "text": [
            "2022-06-24 10:26:56,063 - mmocr - INFO - \n",
            "Evaluating /content/mmocr_debug/val/mmocr_compatible_annotation/train_label.jsonl with 63 images now\n",
            "2022-06-24 10:26:56,067 - mmocr - INFO - Epoch(val) [10][63]\t0_char_recall: 0.8571, 0_char_precision: 0.8571, 0_word_acc: 0.0000, 0_word_acc_ignore_case: 0.7302, 0_word_acc_ignore_case_symbol: 0.7302, 0_1-N.E.D: 0.8571\n"
          ]
        },
        {
          "output_type": "stream",
          "name": "stdout",
          "text": [
            "[>>>>>>>>>>>>>>>>>>>>>>>>>>>>>>>>] 63/63, 86.1 task/s, elapsed: 1s, ETA:     0s"
          ]
        },
        {
          "output_type": "stream",
          "name": "stderr",
          "text": [
            "2022-06-24 10:26:59,281 - mmocr - INFO - \n",
            "Evaluating /content/mmocr_debug/val/mmocr_compatible_annotation/train_label.jsonl with 63 images now\n",
            "2022-06-24 10:26:59,285 - mmocr - INFO - Epoch(val) [11][63]\t0_char_recall: 0.8889, 0_char_precision: 0.8819, 0_word_acc: 0.0000, 0_word_acc_ignore_case: 0.7778, 0_word_acc_ignore_case_symbol: 0.7778, 0_1-N.E.D: 0.8836\n",
            "2022-06-24 10:27:01,646 - mmocr - INFO - Saving checkpoint at 12 epochs\n"
          ]
        },
        {
          "output_type": "stream",
          "name": "stdout",
          "text": [
            "[>>>>>>>>>>>>>>>>>>>>>>>>>>>>>>>>] 63/63, 76.9 task/s, elapsed: 1s, ETA:     0s"
          ]
        },
        {
          "output_type": "stream",
          "name": "stderr",
          "text": [
            "2022-06-24 10:27:02,975 - mmocr - INFO - \n",
            "Evaluating /content/mmocr_debug/val/mmocr_compatible_annotation/train_label.jsonl with 63 images now\n",
            "2022-06-24 10:27:02,979 - mmocr - INFO - Epoch(val) [12][63]\t0_char_recall: 0.8889, 0_char_precision: 0.8889, 0_word_acc: 0.0000, 0_word_acc_ignore_case: 0.7937, 0_word_acc_ignore_case_symbol: 0.7937, 0_1-N.E.D: 0.8889\n"
          ]
        },
        {
          "output_type": "stream",
          "name": "stdout",
          "text": [
            "[>>>>>>>>>>>>>>>>>>>>>>>>>>>>>>>>] 63/63, 81.3 task/s, elapsed: 1s, ETA:     0s"
          ]
        },
        {
          "output_type": "stream",
          "name": "stderr",
          "text": [
            "2022-06-24 10:27:06,229 - mmocr - INFO - \n",
            "Evaluating /content/mmocr_debug/val/mmocr_compatible_annotation/train_label.jsonl with 63 images now\n",
            "2022-06-24 10:27:06,232 - mmocr - INFO - Epoch(val) [13][63]\t0_char_recall: 0.8889, 0_char_precision: 0.8889, 0_word_acc: 0.0000, 0_word_acc_ignore_case: 0.7937, 0_word_acc_ignore_case_symbol: 0.7937, 0_1-N.E.D: 0.8889\n",
            "2022-06-24 10:27:08,587 - mmocr - INFO - Saving checkpoint at 14 epochs\n"
          ]
        },
        {
          "output_type": "stream",
          "name": "stdout",
          "text": [
            "[>>>>>>>>>>>>>>>>>>>>>>>>>>>>>>>>] 63/63, 76.8 task/s, elapsed: 1s, ETA:     0s"
          ]
        },
        {
          "output_type": "stream",
          "name": "stderr",
          "text": [
            "2022-06-24 10:27:09,910 - mmocr - INFO - \n",
            "Evaluating /content/mmocr_debug/val/mmocr_compatible_annotation/train_label.jsonl with 63 images now\n",
            "2022-06-24 10:27:09,915 - mmocr - INFO - Epoch(val) [14][63]\t0_char_recall: 0.8968, 0_char_precision: 0.8968, 0_word_acc: 0.0000, 0_word_acc_ignore_case: 0.8095, 0_word_acc_ignore_case_symbol: 0.8095, 0_1-N.E.D: 0.8968\n"
          ]
        }
      ]
    }
  ]
}