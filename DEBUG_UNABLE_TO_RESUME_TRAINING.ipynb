{
  "nbformat": 4,
  "nbformat_minor": 0,
  "metadata": {
    "colab": {
      "name": "DEBUG: UNABLE TO RESUME TRAINING",
      "provenance": [],
      "collapsed_sections": [],
      "include_colab_link": true
    },
    "kernelspec": {
      "name": "python3",
      "display_name": "Python 3",
      "language": "python"
    },
    "language_info": {
      "name": "python",
      "version": "3.8.5"
    },
    "accelerator": "GPU"
  },
  "cells": [
    {
      "cell_type": "markdown",
      "metadata": {
        "id": "view-in-github",
        "colab_type": "text"
      },
      "source": [
        "<a href=\"https://colab.research.google.com/github/balandongiv/mmocr_tutorial/blob/main/DEBUG_UNABLE_TO_RESUME_TRAINING.ipynb\" target=\"_parent\"><img src=\"https://colab.research.google.com/assets/colab-badge.svg\" alt=\"Open In Colab\"/></a>"
      ]
    },
    {
      "cell_type": "markdown",
      "source": [
        "# DEBUG: UNABLE TO RESUME TRAINING\n",
        "\n"
      ],
      "metadata": {
        "id": "U-Xyj4cQrEQ1"
      }
    },
    {
      "cell_type": "markdown",
      "source": [
        "# Install MMOCR"
      ],
      "metadata": {
        "id": "Sfvz1sywQ9_4"
      }
    },
    {
      "cell_type": "markdown",
      "source": [
        "### Install Dependencies "
      ],
      "metadata": {
        "id": "Tw7u_baQpEUs"
      }
    },
    {
      "cell_type": "code",
      "execution_count": null,
      "source": [
        "%cd ..\n",
        "# Install mmcv-full thus we could use CUDA operators\n",
        "!pip install mmcv-full -f https://download.openmmlab.com/mmcv/dist/cu113/torch1.11.0/index.html\n",
        "\n",
        "# Install mmdetection\n",
        "!pip install mmdet\n",
        "\n",
        "# # Install mmocr\n",
        "!git clone https://github.com/open-mmlab/mmocr.git\n",
        "%cd mmocr\n",
        "!pip install -r requirements.txt\n",
        "!pip install -v -e ."
      ],
      "outputs": [],
      "metadata": {
        "id": "DwDY3puNNmhe",
        "tags": [
          "outputPrepend"
        ]
      }
    },
    {
      "cell_type": "markdown",
      "source": [
        "### Check Installed Dependencies Versions"
      ],
      "metadata": {
        "id": "DY64JCc0pEUu"
      }
    },
    {
      "cell_type": "code",
      "execution_count": 2,
      "source": [
        "# Check Pytorch installation\n",
        "import torch, torchvision\n",
        "print(torch.__version__, torch.cuda.is_available())\n",
        "\n",
        "# Check MMDetection installation\n",
        "import mmdet\n",
        "print(mmdet.__version__)\n",
        "\n",
        "# Check mmcv installation\n",
        "import mmcv\n",
        "from mmcv.ops import get_compiling_cuda_version, get_compiler_version\n",
        "print(mmcv.__version__)\n",
        "print(get_compiling_cuda_version())\n",
        "print(get_compiler_version())\n",
        "\n",
        "# Check mmocr installation\n",
        "import mmocr\n",
        "print(mmocr.__version__)\n",
        "\n",
        "%cd /mmocr/\n",
        "!ls"
      ],
      "outputs": [
        {
          "output_type": "stream",
          "name": "stdout",
          "text": [
            "1.11.0+cu113 True\n",
            "2.25.0\n",
            "1.5.3\n",
            "11.3\n",
            "GCC 7.3\n",
            "0.6.0\n",
            "/mmocr\n",
            "CITATION.cff  docs\t   mmocr.egg-info   requirements      setup.py\n",
            "configs       LICENSE\t   model-index.yml  requirements.txt  tests\n",
            "demo\t      MANIFEST.in  README.md\t    resources\t      tools\n",
            "docker\t      mmocr\t   README_zh-CN.md  setup.cfg\n"
          ]
        }
      ],
      "metadata": {
        "id": "JABQfPwQN52g",
        "colab": {
          "base_uri": "https://localhost:8080/"
        },
        "outputId": "54832da4-7ba1-4eb4-a122-e5da3b2551bd"
      }
    },
    {
      "cell_type": "markdown",
      "source": [
        "Lets download a `zip` which contain\n",
        "\n",
        "\n",
        "1.   Pretrain crnn model which has been train with `Syn90k` for 6 epochs with the name `epoch_6.pth`\n",
        "2.   List of images with its corresponding coco annotation stored under the folder `imgs`\n",
        "\n"
      ],
      "metadata": {
        "id": "W25M57hoJzxi"
      }
    },
    {
      "cell_type": "code",
      "source": [
        "\"\"\n",
        "# Download the zip file\n",
        "\n",
        "!gdown --id 12c9lUxfDAzMa2TdLVcRR9AphrLcPB9tL --output /content/mmocr_debug.zip\n",
        "\n",
        "# Unzip the file\n",
        "!unzip /content/mmocr_debug.zip -d /content\n",
        "\n",
        "\n",
        "# Convert from COCO to jsonl\n",
        "!python /mmocr/tools/data/common/labelme_converter.py /content/mmocr_debug/imgs /content/mmocr_debug/imgs /content/mmocr_debug/imgs/mmocr_compatible_annotation --tasks recog"
      ],
      "metadata": {
        "id": "DjANlnecu-lX"
      },
      "execution_count": null,
      "outputs": []
    },
    {
      "cell_type": "markdown",
      "source": [
        "## Resume training from the `epoch_6.pth` with a new list of crop `images`\n",
        "\n",
        "\n"
      ],
      "metadata": {
        "id": "HDjdg6L8ziYS"
      }
    },
    {
      "cell_type": "code",
      "source": [
        "import os.path as osp\n",
        "\n",
        "import mmcv\n",
        "from mmcv import Config\n",
        "from mmdet.apis import set_random_seed\n",
        "\n",
        "from mmocr.apis import train_detector\n",
        "from mmocr.datasets import build_dataset\n",
        "from mmocr.models import build_detector\n",
        "\n",
        "\n",
        "cfg = Config.fromfile('/content/mmocr_debug/cfg_debug_resume.py')\n",
        "\n",
        "seed = 0\n",
        "set_random_seed(0, deterministic=False)\n",
        "cfg.gpu_ids = range(1)\n",
        "\n",
        "# Let also limit the training to only 14 epochs\n",
        "\n",
        "cfg.runner = dict(type='EpochBasedRunner', max_epochs=14) # Default max_epochs is 1200\n",
        "\n",
        "#save the model every 2 epoch\n",
        "cfg.checkpoint_config = dict(interval=2) # Default the interval was set to 100\n",
        "\n",
        "print(f'Config:\\n{cfg.pretty_text}')\n",
        "\n",
        "# Build dataset\n",
        "datasets = [build_dataset(cfg.data.train)]\n",
        "#\n",
        "# # Build the detector\n",
        "model = build_detector(cfg.model, train_cfg=cfg.get('train_cfg'), test_cfg=cfg.get('test_cfg'))\n",
        "#\n",
        "# # Add an attribute for visualization convenience\n",
        "model.CLASSES = datasets[0].CLASSES\n",
        "\n",
        "# # Create work_dir\n",
        "mmcv.mkdir_or_exist(osp.abspath(cfg.work_dir))\n",
        "train_detector(model, datasets, cfg, distributed=False, validate=True)"
      ],
      "metadata": {
        "colab": {
          "base_uri": "https://localhost:8080/"
        },
        "id": "HUoqVVdRHcG3",
        "outputId": "dd20cd19-94fe-46d9-e138-0020741742aa"
      },
      "execution_count": 18,
      "outputs": [
        {
          "output_type": "stream",
          "name": "stderr",
          "text": [
            "/usr/local/lib/python3.7/dist-packages/torch/utils/data/dataloader.py:490: UserWarning: This DataLoader will create 4 worker processes in total. Our suggested max number of worker in current system is 2, which is smaller than what this DataLoader is going to create. Please be aware that excessive worker creation might get DataLoader running slow or even freeze, lower the worker number to avoid potential slowness/freeze if necessary.\n",
            "  cpuset_checked))\n",
            "2022-06-24 10:05:05,336 - mmocr - INFO - load checkpoint from local path: /content/mmocr_debug/epoch_6.pth\n",
            "2022-06-24 10:05:05,429 - mmocr - INFO - resumed epoch 6, iter 836184\n",
            "2022-06-24 10:05:05,431 - mmocr - INFO - Start running, host: root@7b1fd3e97bc2, work_dir: /content/mmocr_debug/resume\n",
            "2022-06-24 10:05:05,435 - mmocr - INFO - Hooks will be executed in the following order:\n",
            "before_run:\n",
            "(VERY_HIGH   ) StepLrUpdaterHook                  \n",
            "(NORMAL      ) CheckpointHook                     \n",
            "(NORMAL      ) EvalHook                           \n",
            "(VERY_LOW    ) TextLoggerHook                     \n",
            " -------------------- \n",
            "before_train_epoch:\n",
            "(VERY_HIGH   ) StepLrUpdaterHook                  \n",
            "(NORMAL      ) EvalHook                           \n",
            "(LOW         ) IterTimerHook                      \n",
            "(VERY_LOW    ) TextLoggerHook                     \n",
            " -------------------- \n",
            "before_train_iter:\n",
            "(VERY_HIGH   ) StepLrUpdaterHook                  \n",
            "(NORMAL      ) EvalHook                           \n",
            "(LOW         ) IterTimerHook                      \n",
            " -------------------- \n",
            "after_train_iter:\n",
            "(ABOVE_NORMAL) OptimizerHook                      \n",
            "(NORMAL      ) CheckpointHook                     \n",
            "(NORMAL      ) EvalHook                           \n",
            "(LOW         ) IterTimerHook                      \n",
            "(VERY_LOW    ) TextLoggerHook                     \n",
            " -------------------- \n",
            "after_train_epoch:\n",
            "(NORMAL      ) CheckpointHook                     \n",
            "(NORMAL      ) EvalHook                           \n",
            "(VERY_LOW    ) TextLoggerHook                     \n",
            " -------------------- \n",
            "before_val_epoch:\n",
            "(LOW         ) IterTimerHook                      \n",
            "(VERY_LOW    ) TextLoggerHook                     \n",
            " -------------------- \n",
            "before_val_iter:\n",
            "(LOW         ) IterTimerHook                      \n",
            " -------------------- \n",
            "after_val_iter:\n",
            "(LOW         ) IterTimerHook                      \n",
            " -------------------- \n",
            "after_val_epoch:\n",
            "(VERY_LOW    ) TextLoggerHook                     \n",
            " -------------------- \n",
            "after_run:\n",
            "(VERY_LOW    ) TextLoggerHook                     \n",
            " -------------------- \n",
            "2022-06-24 10:05:05,436 - mmocr - INFO - workflow: [('train', 1)], max: 14 epochs\n",
            "2022-06-24 10:05:05,441 - mmocr - INFO - Checkpoints will be saved to /content/mmocr_debug/resume by HardDiskBackend.\n"
          ]
        },
        {
          "output_type": "stream",
          "name": "stdout",
          "text": [
            "Config:\n",
            "log_config = dict(interval=5, hooks=[dict(type='TextLoggerHook')])\n",
            "dist_params = dict(backend='nccl')\n",
            "log_level = 'INFO'\n",
            "load_from = None\n",
            "resume_from = '/content/mmocr_debug/epoch_6.pth'\n",
            "workflow = [('train', 1)]\n",
            "opencv_num_threads = 0\n",
            "mp_start_method = 'fork'\n",
            "label_convertor = dict(\n",
            "    type='CTCConvertor', dict_type='DICT36', with_unknown=False, lower=True)\n",
            "model = dict(\n",
            "    type='CRNNNet',\n",
            "    preprocessor=None,\n",
            "    backbone=dict(type='VeryDeepVgg', leaky_relu=False, input_channels=1),\n",
            "    encoder=None,\n",
            "    decoder=dict(type='CRNNDecoder', in_channels=512, rnn_flag=True),\n",
            "    loss=dict(type='CTCLoss'),\n",
            "    label_convertor=dict(\n",
            "        type='CTCConvertor',\n",
            "        dict_type='DICT36',\n",
            "        with_unknown=False,\n",
            "        lower=True),\n",
            "    pretrained=None)\n",
            "img_norm_cfg = dict(mean=[127], std=[127])\n",
            "train_pipeline = [\n",
            "    dict(type='LoadImageFromFile', color_type='grayscale'),\n",
            "    dict(\n",
            "        type='ResizeOCR',\n",
            "        height=32,\n",
            "        min_width=100,\n",
            "        max_width=100,\n",
            "        keep_aspect_ratio=False),\n",
            "    dict(type='Normalize', mean=[127], std=[127]),\n",
            "    dict(type='DefaultFormatBundle'),\n",
            "    dict(\n",
            "        type='Collect',\n",
            "        keys=['img'],\n",
            "        meta_keys=['filename', 'resize_shape', 'text', 'valid_ratio'])\n",
            "]\n",
            "test_pipeline = [\n",
            "    dict(type='LoadImageFromFile', color_type='grayscale'),\n",
            "    dict(\n",
            "        type='ResizeOCR',\n",
            "        height=32,\n",
            "        min_width=32,\n",
            "        max_width=None,\n",
            "        keep_aspect_ratio=True),\n",
            "    dict(type='Normalize', mean=[127], std=[127]),\n",
            "    dict(type='DefaultFormatBundle'),\n",
            "    dict(\n",
            "        type='Collect',\n",
            "        keys=['img'],\n",
            "        meta_keys=[\n",
            "            'filename', 'resize_shape', 'valid_ratio', 'img_norm_cfg',\n",
            "            'ori_filename', 'img_shape', 'ori_shape'\n",
            "        ])\n",
            "]\n",
            "optimizer = dict(type='Adadelta', lr=1.0)\n",
            "optimizer_config = dict(grad_clip=None)\n",
            "lr_config = dict(policy='step', step=[])\n",
            "runner = dict(type='EpochBasedRunner', max_epochs=14)\n",
            "checkpoint_config = dict(interval=2)\n",
            "root = '/home/cisir4/anaconda3/resources/ocsource'\n",
            "work_dir = '/content/mmocr_debug/resume'\n",
            "train_img_prefix = '/content/mmocr_debug/imgs/mmocr_compatible_annotation/crops'\n",
            "train_ann_filex = '/content/mmocr_debug/imgs/mmocr_compatible_annotation/train_label.jsonl'\n",
            "train1 = dict(\n",
            "    type='OCRDataset',\n",
            "    img_prefix='/content/mmocr_debug/imgs/mmocr_compatible_annotation/crops',\n",
            "    ann_file=\n",
            "    '/content/mmocr_debug/imgs/mmocr_compatible_annotation/train_label.jsonl',\n",
            "    loader=dict(\n",
            "        type='AnnFileLoader',\n",
            "        repeat=1,\n",
            "        file_format='txt',\n",
            "        file_storage_backend='disk',\n",
            "        parser=dict(type='LineJsonParser', keys=['filename', 'text'])),\n",
            "    pipeline=None,\n",
            "    test_mode=False)\n",
            "test1 = dict(\n",
            "    type='OCRDataset',\n",
            "    img_prefix='/content/mmocr_debug/imgs/mmocr_compatible_annotation/crops',\n",
            "    ann_file=\n",
            "    '/content/mmocr_debug/imgs/mmocr_compatible_annotation/train_label.jsonl',\n",
            "    loader=dict(\n",
            "        type='AnnFileLoader',\n",
            "        repeat=1,\n",
            "        file_format='txt',\n",
            "        file_storage_backend='disk',\n",
            "        parser=dict(type='LineJsonParser', keys=['filename', 'text'])),\n",
            "    pipeline=None,\n",
            "    test_mode=False)\n",
            "test_list = [\n",
            "    dict(\n",
            "        type='OCRDataset',\n",
            "        img_prefix=\n",
            "        '/content/mmocr_debug/imgs/mmocr_compatible_annotation/crops',\n",
            "        ann_file=\n",
            "        '/content/mmocr_debug/imgs/mmocr_compatible_annotation/train_label.jsonl',\n",
            "        loader=dict(\n",
            "            type='AnnFileLoader',\n",
            "            repeat=1,\n",
            "            file_format='txt',\n",
            "            file_storage_backend='disk',\n",
            "            parser=dict(type='LineJsonParser', keys=['filename', 'text'])),\n",
            "        pipeline=None,\n",
            "        test_mode=False)\n",
            "]\n",
            "train_list = [\n",
            "    dict(\n",
            "        type='OCRDataset',\n",
            "        img_prefix=\n",
            "        '/content/mmocr_debug/imgs/mmocr_compatible_annotation/crops',\n",
            "        ann_file=\n",
            "        '/content/mmocr_debug/imgs/mmocr_compatible_annotation/train_label.jsonl',\n",
            "        loader=dict(\n",
            "            type='AnnFileLoader',\n",
            "            repeat=1,\n",
            "            file_format='txt',\n",
            "            file_storage_backend='disk',\n",
            "            parser=dict(type='LineJsonParser', keys=['filename', 'text'])),\n",
            "        pipeline=None,\n",
            "        test_mode=False)\n",
            "]\n",
            "data = dict(\n",
            "    samples_per_gpu=64,\n",
            "    workers_per_gpu=4,\n",
            "    val_dataloader=dict(samples_per_gpu=1),\n",
            "    test_dataloader=dict(samples_per_gpu=1),\n",
            "    train=dict(\n",
            "        type='UniformConcatDataset',\n",
            "        datasets=[\n",
            "            dict(\n",
            "                type='OCRDataset',\n",
            "                img_prefix=\n",
            "                '/content/mmocr_debug/imgs/mmocr_compatible_annotation/crops',\n",
            "                ann_file=\n",
            "                '/content/mmocr_debug/imgs/mmocr_compatible_annotation/train_label.jsonl',\n",
            "                loader=dict(\n",
            "                    type='AnnFileLoader',\n",
            "                    repeat=1,\n",
            "                    file_format='txt',\n",
            "                    file_storage_backend='disk',\n",
            "                    parser=dict(\n",
            "                        type='LineJsonParser', keys=['filename', 'text'])),\n",
            "                pipeline=None,\n",
            "                test_mode=False)\n",
            "        ],\n",
            "        pipeline=[\n",
            "            dict(type='LoadImageFromFile', color_type='grayscale'),\n",
            "            dict(\n",
            "                type='ResizeOCR',\n",
            "                height=32,\n",
            "                min_width=100,\n",
            "                max_width=100,\n",
            "                keep_aspect_ratio=False),\n",
            "            dict(type='Normalize', mean=[127], std=[127]),\n",
            "            dict(type='DefaultFormatBundle'),\n",
            "            dict(\n",
            "                type='Collect',\n",
            "                keys=['img'],\n",
            "                meta_keys=['filename', 'resize_shape', 'text', 'valid_ratio'])\n",
            "        ]),\n",
            "    val=dict(\n",
            "        type='UniformConcatDataset',\n",
            "        datasets=[\n",
            "            dict(\n",
            "                type='OCRDataset',\n",
            "                img_prefix=\n",
            "                '/content/mmocr_debug/imgs/mmocr_compatible_annotation/crops',\n",
            "                ann_file=\n",
            "                '/content/mmocr_debug/imgs/mmocr_compatible_annotation/train_label.jsonl',\n",
            "                loader=dict(\n",
            "                    type='AnnFileLoader',\n",
            "                    repeat=1,\n",
            "                    file_format='txt',\n",
            "                    file_storage_backend='disk',\n",
            "                    parser=dict(\n",
            "                        type='LineJsonParser', keys=['filename', 'text'])),\n",
            "                pipeline=None,\n",
            "                test_mode=False)\n",
            "        ],\n",
            "        pipeline=[\n",
            "            dict(type='LoadImageFromFile', color_type='grayscale'),\n",
            "            dict(\n",
            "                type='ResizeOCR',\n",
            "                height=32,\n",
            "                min_width=32,\n",
            "                max_width=None,\n",
            "                keep_aspect_ratio=True),\n",
            "            dict(type='Normalize', mean=[127], std=[127]),\n",
            "            dict(type='DefaultFormatBundle'),\n",
            "            dict(\n",
            "                type='Collect',\n",
            "                keys=['img'],\n",
            "                meta_keys=[\n",
            "                    'filename', 'resize_shape', 'valid_ratio', 'img_norm_cfg',\n",
            "                    'ori_filename', 'img_shape', 'ori_shape'\n",
            "                ])\n",
            "        ]),\n",
            "    test=dict(\n",
            "        type='UniformConcatDataset',\n",
            "        datasets=[\n",
            "            dict(\n",
            "                type='OCRDataset',\n",
            "                img_prefix=\n",
            "                '/content/mmocr_debug/imgs/mmocr_compatible_annotation/crops',\n",
            "                ann_file=\n",
            "                '/content/mmocr_debug/imgs/mmocr_compatible_annotation/train_label.jsonl',\n",
            "                loader=dict(\n",
            "                    type='AnnFileLoader',\n",
            "                    repeat=1,\n",
            "                    file_format='txt',\n",
            "                    file_storage_backend='disk',\n",
            "                    parser=dict(\n",
            "                        type='LineJsonParser', keys=['filename', 'text'])),\n",
            "                pipeline=None,\n",
            "                test_mode=False)\n",
            "        ],\n",
            "        pipeline=[\n",
            "            dict(type='LoadImageFromFile', color_type='grayscale'),\n",
            "            dict(\n",
            "                type='ResizeOCR',\n",
            "                height=32,\n",
            "                min_width=32,\n",
            "                max_width=None,\n",
            "                keep_aspect_ratio=True),\n",
            "            dict(type='Normalize', mean=[127], std=[127]),\n",
            "            dict(type='DefaultFormatBundle'),\n",
            "            dict(\n",
            "                type='Collect',\n",
            "                keys=['img'],\n",
            "                meta_keys=[\n",
            "                    'filename', 'resize_shape', 'valid_ratio', 'img_norm_cfg',\n",
            "                    'ori_filename', 'img_shape', 'ori_shape'\n",
            "                ])\n",
            "        ]))\n",
            "evaluation = dict(interval=1, metric='acc')\n",
            "cudnn_benchmark = True\n",
            "gpu_ids = range(0, 1)\n",
            "\n",
            "[>>>>>>>>>>>>>>>>>>>>>>>>>>>>>>] 165/165, 93.3 task/s, elapsed: 2s, ETA:     0s"
          ]
        },
        {
          "output_type": "stream",
          "name": "stderr",
          "text": [
            "2022-06-24 10:05:09,982 - mmocr - INFO - \n",
            "Evaluating /content/mmocr_debug/imgs/mmocr_compatible_annotation/train_label.jsonl with 165 images now\n",
            "2022-06-24 10:05:09,990 - mmocr - INFO - Epoch(val) [7][165]\t0_char_recall: 0.9061, 0_char_precision: 0.9088, 0_word_acc: 0.0000, 0_word_acc_ignore_case: 0.8242, 0_word_acc_ignore_case_symbol: 0.8242, 0_1-N.E.D: 0.9061\n",
            "2022-06-24 10:05:12,605 - mmocr - INFO - Saving checkpoint at 8 epochs\n"
          ]
        },
        {
          "output_type": "stream",
          "name": "stdout",
          "text": [
            "[>>>>>>>>>>>>>>>>>>>>>>>>>>>>>>] 165/165, 98.1 task/s, elapsed: 2s, ETA:     0s"
          ]
        },
        {
          "output_type": "stream",
          "name": "stderr",
          "text": [
            "2022-06-24 10:05:14,873 - mmocr - INFO - \n",
            "Evaluating /content/mmocr_debug/imgs/mmocr_compatible_annotation/train_label.jsonl with 165 images now\n",
            "2022-06-24 10:05:14,883 - mmocr - INFO - Epoch(val) [8][165]\t0_char_recall: 0.9121, 0_char_precision: 0.9094, 0_word_acc: 0.0000, 0_word_acc_ignore_case: 0.8242, 0_word_acc_ignore_case_symbol: 0.8242, 0_1-N.E.D: 0.9101\n"
          ]
        },
        {
          "output_type": "stream",
          "name": "stdout",
          "text": [
            "[>>>>>>>>>>>>>>>>>>>>>>>>>>>>>] 165/165, 100.1 task/s, elapsed: 2s, ETA:     0s"
          ]
        },
        {
          "output_type": "stream",
          "name": "stderr",
          "text": [
            "2022-06-24 10:05:19,286 - mmocr - INFO - \n",
            "Evaluating /content/mmocr_debug/imgs/mmocr_compatible_annotation/train_label.jsonl with 165 images now\n",
            "2022-06-24 10:05:19,291 - mmocr - INFO - Epoch(val) [9][165]\t0_char_recall: 0.9121, 0_char_precision: 0.9149, 0_word_acc: 0.0000, 0_word_acc_ignore_case: 0.8303, 0_word_acc_ignore_case_symbol: 0.8303, 0_1-N.E.D: 0.9121\n",
            "2022-06-24 10:05:21,916 - mmocr - INFO - Saving checkpoint at 10 epochs\n"
          ]
        },
        {
          "output_type": "stream",
          "name": "stdout",
          "text": [
            "[>>>>>>>>>>>>>>>>>>>>>>>>>>>>>>] 165/165, 96.1 task/s, elapsed: 2s, ETA:     0s"
          ]
        },
        {
          "output_type": "stream",
          "name": "stderr",
          "text": [
            "2022-06-24 10:05:24,211 - mmocr - INFO - \n",
            "Evaluating /content/mmocr_debug/imgs/mmocr_compatible_annotation/train_label.jsonl with 165 images now\n",
            "2022-06-24 10:05:24,219 - mmocr - INFO - Epoch(val) [10][165]\t0_char_recall: 0.9061, 0_char_precision: 0.9144, 0_word_acc: 0.0000, 0_word_acc_ignore_case: 0.8182, 0_word_acc_ignore_case_symbol: 0.8182, 0_1-N.E.D: 0.9061\n"
          ]
        },
        {
          "output_type": "stream",
          "name": "stdout",
          "text": [
            "[>>>>>>>>>>>>>>>>>>>>>>>>>>>>>>] 165/165, 98.0 task/s, elapsed: 2s, ETA:     0s"
          ]
        },
        {
          "output_type": "stream",
          "name": "stderr",
          "text": [
            "2022-06-24 10:05:28,627 - mmocr - INFO - \n",
            "Evaluating /content/mmocr_debug/imgs/mmocr_compatible_annotation/train_label.jsonl with 165 images now\n",
            "2022-06-24 10:05:28,635 - mmocr - INFO - Epoch(val) [11][165]\t0_char_recall: 0.9212, 0_char_precision: 0.9268, 0_word_acc: 0.0000, 0_word_acc_ignore_case: 0.8485, 0_word_acc_ignore_case_symbol: 0.8485, 0_1-N.E.D: 0.9212\n",
            "2022-06-24 10:05:31,257 - mmocr - INFO - Saving checkpoint at 12 epochs\n"
          ]
        },
        {
          "output_type": "stream",
          "name": "stdout",
          "text": [
            "[>>>>>>>>>>>>>>>>>>>>>>>>>>>>>] 165/165, 101.1 task/s, elapsed: 2s, ETA:     0s"
          ]
        },
        {
          "output_type": "stream",
          "name": "stderr",
          "text": [
            "2022-06-24 10:05:33,477 - mmocr - INFO - \n",
            "Evaluating /content/mmocr_debug/imgs/mmocr_compatible_annotation/train_label.jsonl with 165 images now\n",
            "2022-06-24 10:05:33,486 - mmocr - INFO - Epoch(val) [12][165]\t0_char_recall: 0.9242, 0_char_precision: 0.9271, 0_word_acc: 0.0000, 0_word_acc_ignore_case: 0.8485, 0_word_acc_ignore_case_symbol: 0.8485, 0_1-N.E.D: 0.9222\n"
          ]
        },
        {
          "output_type": "stream",
          "name": "stdout",
          "text": [
            "[>>>>>>>>>>>>>>>>>>>>>>>>>>>>>>] 165/165, 91.6 task/s, elapsed: 2s, ETA:     0s"
          ]
        },
        {
          "output_type": "stream",
          "name": "stderr",
          "text": [
            "2022-06-24 10:05:38,009 - mmocr - INFO - \n",
            "Evaluating /content/mmocr_debug/imgs/mmocr_compatible_annotation/train_label.jsonl with 165 images now\n",
            "2022-06-24 10:05:38,018 - mmocr - INFO - Epoch(val) [13][165]\t0_char_recall: 0.9242, 0_char_precision: 0.9299, 0_word_acc: 0.0000, 0_word_acc_ignore_case: 0.8545, 0_word_acc_ignore_case_symbol: 0.8545, 0_1-N.E.D: 0.9242\n",
            "2022-06-24 10:05:40,658 - mmocr - INFO - Saving checkpoint at 14 epochs\n"
          ]
        },
        {
          "output_type": "stream",
          "name": "stdout",
          "text": [
            "[>>>>>>>>>>>>>>>>>>>>>>>>>>>>>>] 165/165, 95.8 task/s, elapsed: 2s, ETA:     0s"
          ]
        },
        {
          "output_type": "stream",
          "name": "stderr",
          "text": [
            "2022-06-24 10:05:42,935 - mmocr - INFO - \n",
            "Evaluating /content/mmocr_debug/imgs/mmocr_compatible_annotation/train_label.jsonl with 165 images now\n",
            "2022-06-24 10:05:42,943 - mmocr - INFO - Epoch(val) [14][165]\t0_char_recall: 0.9303, 0_char_precision: 0.9360, 0_word_acc: 0.0000, 0_word_acc_ignore_case: 0.8667, 0_word_acc_ignore_case_symbol: 0.8667, 0_1-N.E.D: 0.9303\n"
          ]
        }
      ]
    }
  ]
}