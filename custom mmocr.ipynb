{
  "nbformat": 4,
  "nbformat_minor": 0,
  "metadata": {
    "colab": {
      "name": "custom mmocr.ipynb",
      "provenance": [],
      "collapsed_sections": [],
      "include_colab_link": true
    },
    "kernelspec": {
      "name": "python3",
      "display_name": "Python 3",
      "language": "python"
    },
    "language_info": {
      "name": "python",
      "version": "3.8.5"
    },
    "accelerator": "GPU"
  },
  "cells": [
    {
      "cell_type": "markdown",
      "metadata": {
        "id": "view-in-github",
        "colab_type": "text"
      },
      "source": [
        "<a href=\"https://colab.research.google.com/github/balandongiv/mmocr_tutorial/blob/main/custom%20mmocr.ipynb\" target=\"_parent\"><img src=\"https://colab.research.google.com/assets/colab-badge.svg\" alt=\"Open In Colab\"/></a>"
      ]
    },
    {
      "cell_type": "markdown",
      "source": [
        "# MMOCR Tutorial\n",
        "\n",
        "Welcome to MMOCR! This is the **unofficial** colab tutorial for using MMOCR. In this tutorial, you will learn how to\n",
        "\n",
        "- Transform annotation in coco-like json format to MMOCR compatible format.\n",
        "- Set custom configuration file\n",
        "- Integrate mmocr config template extracted from `base` with user custom setting (Not sure if this is possible? or how to achieve:KIV)\n",
        "- Train a text recognizer with a toy dataset. "
      ],
      "metadata": {
        "id": "U-Xyj4cQrEQ1"
      }
    },
    {
      "cell_type": "markdown",
      "source": [
        "Authors: Rodney Petrus Balandong balandongiv@gmail.com"
      ],
      "metadata": {
        "id": "m_XABoECyCJA"
      }
    },
    {
      "cell_type": "markdown",
      "source": [
        "# Install MMOCR"
      ],
      "metadata": {
        "id": "Sfvz1sywQ9_4"
      }
    },
    {
      "cell_type": "markdown",
      "source": [
        "When installing dependencies for mmocr, please ensure that all the dependency versions are compatible with each other. For instance, if CUDA 10.1 is installed, then the Pytorch version must be compatible with cu10.1. Please see [getting_started.md](docs/getting_started.md) for more details. "
      ],
      "metadata": {
        "id": "q3fZP1LspEUp"
      }
    },
    {
      "cell_type": "code",
      "execution_count": 1,
      "source": [
        "%cd .."
      ],
      "outputs": [
        {
          "output_type": "stream",
          "name": "stdout",
          "text": [
            "/\n"
          ]
        }
      ],
      "metadata": {
        "id": "rB3qciTXpEUq",
        "colab": {
          "base_uri": "https://localhost:8080/"
        },
        "outputId": "5c7a04a9-d803-4f47-ad34-0441bd62e3df"
      }
    },
    {
      "cell_type": "markdown",
      "source": [
        "### Check PyTorch version"
      ],
      "metadata": {
        "id": "mSkZOdrMpEUr"
      }
    },
    {
      "cell_type": "code",
      "source": [
        "!pip show torch"
      ],
      "metadata": {
        "id": "eNvnx5XGAn0i",
        "colab": {
          "base_uri": "https://localhost:8080/"
        },
        "outputId": "bb819583-9097-432e-f806-ebeb41c08ba5"
      },
      "execution_count": 2,
      "outputs": [
        {
          "output_type": "stream",
          "name": "stdout",
          "text": [
            "Name: torch\n",
            "Version: 1.11.0+cu113\n",
            "Summary: Tensors and Dynamic neural networks in Python with strong GPU acceleration\n",
            "Home-page: https://pytorch.org/\n",
            "Author: PyTorch Team\n",
            "Author-email: packages@pytorch.org\n",
            "License: BSD-3\n",
            "Location: /usr/local/lib/python3.7/dist-packages\n",
            "Requires: typing-extensions\n",
            "Required-by: torchvision, torchtext, torchaudio, fastai\n"
          ]
        }
      ]
    },
    {
      "cell_type": "markdown",
      "source": [
        "### Install Dependencies "
      ],
      "metadata": {
        "id": "Tw7u_baQpEUs"
      }
    },
    {
      "cell_type": "code",
      "execution_count": null,
      "source": [
        "# Install mmcv-full thus we could use CUDA operators\n",
        "!pip install mmcv-full -f https://download.openmmlab.com/mmcv/dist/cu113/torch1.11.0/index.html\n",
        "\n",
        "# Install mmdetection\n",
        "!pip install mmdet\n",
        "\n",
        "# # Install mmocr\n",
        "!git clone https://github.com/open-mmlab/mmocr.git\n",
        "%cd mmocr\n",
        "!pip install -r requirements.txt\n",
        "!pip install -v -e ."
      ],
      "outputs": [],
      "metadata": {
        "id": "DwDY3puNNmhe",
        "tags": [
          "outputPrepend"
        ]
      }
    },
    {
      "cell_type": "markdown",
      "source": [
        "### Check Installed Dependencies Versions"
      ],
      "metadata": {
        "id": "DY64JCc0pEUu"
      }
    },
    {
      "cell_type": "code",
      "execution_count": null,
      "source": [
        "# Check Pytorch installation\n",
        "import torch, torchvision\n",
        "print(torch.__version__, torch.cuda.is_available())\n",
        "\n",
        "# Check MMDetection installation\n",
        "import mmdet\n",
        "print(mmdet.__version__)\n",
        "\n",
        "# Check mmcv installation\n",
        "import mmcv\n",
        "from mmcv.ops import get_compiling_cuda_version, get_compiler_version\n",
        "print(mmcv.__version__)\n",
        "print(get_compiling_cuda_version())\n",
        "print(get_compiler_version())\n",
        "\n",
        "# Check mmocr installation\n",
        "import mmocr\n",
        "print(mmocr.__version__)\n",
        "\n",
        "%cd /mmocr/\n",
        "!ls"
      ],
      "outputs": [],
      "metadata": {
        "id": "JABQfPwQN52g"
      }
    },
    {
      "cell_type": "markdown",
      "source": [
        "#Perform Training on a Toy Dataset with MMOCR Recognizer\n",
        "We now demonstrate how to perform training with an MMOCR recognizer. Since training a full academic dataset is time consuming (usually takes about several hours), we will train on the toy dataset for the SAR text recognition model and visualize the predictions.\n",
        "\n",
        "Training a dataset usually consists of the following steps:\n",
        "1. Convert the dataset into a format supported by MMOCR (e.g. COCO for text detection). The annotation file can be in either .txt or .lmdb format, depending on the size of the dataset. This step is usually applicable to customized datasets, since the datasets and annotation files we provide are already in supported formats. \n",
        "2. Modify the config for training. \n",
        "3. Train the model. \n",
        "\n"
      ],
      "metadata": {
        "id": "nYon41X7RTOT"
      }
    },
    {
      "cell_type": "markdown",
      "source": [
        "## About the Toy Dataset\n",
        "\n",
        "In this tutorial, we will be working with the dataset under the folder `toy_dataset`. \n",
        "\n",
        "Each of the image have the accompnying `annotation` file generated using the `labelme`\n",
        "\n",
        "The images were stored under the following path\n",
        "\n",
        "`/mmocr/tests/data/toy_dataset/imgs/test`\n",
        "\n",
        "The annotation were stored under  the following path\n",
        "\n",
        "`/mmocr/tests/data/toy_dataset/labelme`\n",
        "\n",
        "\n"
      ],
      "metadata": {
        "id": "FElJSp1vpEUz"
      }
    },
    {
      "cell_type": "code",
      "source": [
        "# Print list of images and annotation available under the`toy_dataset` folder\n",
        "!cat /mmocr/tests/data/toy_dataset/img_list.txt"
      ],
      "metadata": {
        "id": "FzyOZkrwCxEE"
      },
      "execution_count": null,
      "outputs": []
    },
    {
      "cell_type": "markdown",
      "source": [
        "We first get a sense of what the toy dataset looks like by visualizing one of the images and labels. "
      ],
      "metadata": {
        "id": "qLEON60YC1Lj"
      }
    },
    {
      "cell_type": "code",
      "execution_count": null,
      "source": [
        "import mmcv\n",
        "import matplotlib.pyplot as plt \n",
        "\n",
        "#To ensure we are in the root directory\n",
        "%cd .. \n",
        "\n",
        "img = mmcv.imread('/mmocr/tests/data/toy_dataset/imgs/test/img_1.jpg')\n",
        "\n",
        "plt.imshow(mmcv.bgr2rgb(img))\n",
        "plt.show()"
      ],
      "outputs": [],
      "metadata": {
        "id": "hZfd2pnqN5-Q"
      }
    },
    {
      "cell_type": "markdown",
      "source": [
        "Let visualise the annotation"
      ],
      "metadata": {
        "id": "O1V3V_4L_DHQ"
      }
    },
    {
      "cell_type": "code",
      "source": [
        "!cat /mmocr/tests/data/toy_dataset/labelme/img_1.json"
      ],
      "metadata": {
        "id": "ZP6Y4nLbFsYv"
      },
      "execution_count": null,
      "outputs": []
    },
    {
      "cell_type": "markdown",
      "source": [
        "## Prepare Annotation to MMOCR format \n",
        "\n",
        "Since the annotations are in COCO format, we need to firstly convert annotation in labelme format to MMOCR's annotation format using the `labelme_converter.py`.\n",
        "\n",
        "For this particular example, we will convert the labelme format annotation in `/mmocr/tests/data/toy_dataset/labelme` to MMOCR detection labels instances_training `.txt` and export the cropped image patches for recognition task to `/mmocr/tests/data/toy_dataset/crops`. It is worth to note that the following setting would not output the `test_label.txt` as there is no test set. This information is important  when assigning  `test_anno_file1` to `train_label.txt` in subsequent step.\n",
        "\n",
        "In Google colab, it is essential to add a `!` before the Python command.\n"
      ],
      "metadata": {
        "id": "HDjdg6L8ziYS"
      }
    },
    {
      "cell_type": "markdown",
      "source": [
        "For this particular dataset, preferable to use the `.jsonl` as the annotation output"
      ],
      "metadata": {
        "id": "K1gpyMVAgOg1"
      }
    },
    {
      "cell_type": "code",
      "source": [
        "!python /mmocr/tools/data/common/labelme_converter.py /mmocr/tests/data/toy_dataset/labelme /mmocr/tests/data/toy_dataset/imgs/test /mmocr/tests/data/toy_dataset --tasks recog --format jsonl"
      ],
      "metadata": {
        "colab": {
          "base_uri": "https://localhost:8080/"
        },
        "id": "Fur1PcDpgOCX",
        "outputId": "067e0db3-5315-4efd-96ac-73172fdd28fd"
      },
      "execution_count": 16,
      "outputs": [
        {
          "output_type": "stream",
          "name": "stdout",
          "text": [
            "[                                                  ] 0/10, elapsed: 0s, ETA:\r[  ] 1/10, 75.2 task/s, elapsed: 0s, ETA:     0s\r[  ] 2/10, 82.9 task/s, elapsed: 0s, ETA:     0s\r[  ] 3/10, 85.3 task/s, elapsed: 0s, ETA:     0s\r[  ] 4/10, 90.2 task/s, elapsed: 0s, ETA:     0s\r[> ] 5/10, 92.8 task/s, elapsed: 0s, ETA:     0s\r[> ] 6/10, 93.2 task/s, elapsed: 0s, ETA:     0s\r[> ] 7/10, 94.1 task/s, elapsed: 0s, ETA:     0s\r[> ] 8/10, 92.3 task/s, elapsed: 0s, ETA:     0s\r[> ] 9/10, 92.6 task/s, elapsed: 0s, ETA:     0s\r[>>] 10/10, 92.8 task/s, elapsed: 0s, ETA:     0s\n",
            "finish\n"
          ]
        }
      ]
    },
    {
      "cell_type": "markdown",
      "source": [
        "Let have a look what files has been generated from the previous calling"
      ],
      "metadata": {
        "id": "NVsw-hMkETbp"
      }
    },
    {
      "cell_type": "code",
      "source": [
        "# List of crop images that being crop in accordance to the bounding box\n",
        "import os\n",
        "root = '/mmocr/tests/data/toy_dataset' # Location where the annotation and crop images are being stored\n",
        "path_crop_img=os.path.join(root,'crops')\n",
        "print([os.path.join(path, name) for path, subdirs, files in os.walk(path_crop_img) for name in files])"
      ],
      "metadata": {
        "id": "X8kvWR3UE4KG",
        "colab": {
          "base_uri": "https://localhost:8080/"
        },
        "outputId": "0a92e209-94da-43aa-e3b4-b8b992863eb7"
      },
      "execution_count": 17,
      "outputs": [
        {
          "output_type": "stream",
          "name": "stdout",
          "text": [
            "['/mmocr/tests/data/toy_dataset/crops/img_6/crop_1.jpg', '/mmocr/tests/data/toy_dataset/crops/img_6/crop_0.jpg', '/mmocr/tests/data/toy_dataset/crops/img_8/crop_3.jpg', '/mmocr/tests/data/toy_dataset/crops/img_8/crop_1.jpg', '/mmocr/tests/data/toy_dataset/crops/img_8/crop_0.jpg', '/mmocr/tests/data/toy_dataset/crops/img_8/crop_2.jpg', '/mmocr/tests/data/toy_dataset/crops/img_10/crop_1.jpg', '/mmocr/tests/data/toy_dataset/crops/img_10/crop_0.jpg', '/mmocr/tests/data/toy_dataset/crops/img_10/crop_2.jpg', '/mmocr/tests/data/toy_dataset/crops/img_1/crop_3.jpg', '/mmocr/tests/data/toy_dataset/crops/img_1/crop_1.jpg', '/mmocr/tests/data/toy_dataset/crops/img_1/crop_0.jpg', '/mmocr/tests/data/toy_dataset/crops/img_1/crop_2.jpg', '/mmocr/tests/data/toy_dataset/crops/img_7/crop_1.jpg', '/mmocr/tests/data/toy_dataset/crops/img_7/crop_0.jpg', '/mmocr/tests/data/toy_dataset/crops/img_2/crop_1.jpg', '/mmocr/tests/data/toy_dataset/crops/img_2/crop_0.jpg', '/mmocr/tests/data/toy_dataset/crops/img_3/crop_1.jpg', '/mmocr/tests/data/toy_dataset/crops/img_3/crop_0.jpg', '/mmocr/tests/data/toy_dataset/crops/img_9/crop_1.jpg', '/mmocr/tests/data/toy_dataset/crops/img_9/crop_0.jpg']\n"
          ]
        }
      ]
    },
    {
      "cell_type": "markdown",
      "source": [
        "Lets visualise the MMOCR detection labels instances_training `.jsonl`"
      ],
      "metadata": {
        "id": "VmsBm8txF06t"
      }
    },
    {
      "cell_type": "code",
      "source": [
        "!cat /mmocr/tests/data/toy_dataset/train_label.jsonl"
      ],
      "metadata": {
        "id": "RFhKFgJZGJW-",
        "colab": {
          "base_uri": "https://localhost:8080/"
        },
        "outputId": "fc8808e2-8cbb-4f44-f1aa-bcf3ddeb7f1e"
      },
      "execution_count": 18,
      "outputs": [
        {
          "output_type": "stream",
          "name": "stdout",
          "text": [
            "{\"filename\": \"/mmocr/tests/data/toy_dataset/crops/img_9/crop_0.jpg\", \"text\": \"EXIT\"}\n",
            "{\"filename\": \"/mmocr/tests/data/toy_dataset/crops/img_9/crop_1.jpg\", \"text\": \"STAGE\"}\n",
            "{\"filename\": \"/mmocr/tests/data/toy_dataset/crops/img_6/crop_0.jpg\", \"text\": \"Reserve\"}\n",
            "{\"filename\": \"/mmocr/tests/data/toy_dataset/crops/img_6/crop_1.jpg\", \"text\": \"CAUTION\"}\n",
            "{\"filename\": \"/mmocr/tests/data/toy_dataset/crops/img_10/crop_0.jpg\", \"text\": \"HarbourFront\"}\n",
            "{\"filename\": \"/mmocr/tests/data/toy_dataset/crops/img_10/crop_1.jpg\", \"text\": \"CC22\"}\n",
            "{\"filename\": \"/mmocr/tests/data/toy_dataset/crops/img_10/crop_2.jpg\", \"text\": \"bua\"}\n",
            "{\"filename\": \"/mmocr/tests/data/toy_dataset/crops/img_2/crop_0.jpg\", \"text\": \"EXIT\"}\n",
            "{\"filename\": \"/mmocr/tests/data/toy_dataset/crops/img_2/crop_1.jpg\", \"text\": \"I2R\"}\n",
            "{\"filename\": \"/mmocr/tests/data/toy_dataset/crops/img_3/crop_0.jpg\", \"text\": \"fusionopolis\"}\n",
            "{\"filename\": \"/mmocr/tests/data/toy_dataset/crops/img_3/crop_1.jpg\", \"text\": \"fusionopolis\"}\n",
            "{\"filename\": \"/mmocr/tests/data/toy_dataset/crops/img_8/crop_0.jpg\", \"text\": \"WHY\"}\n",
            "{\"filename\": \"/mmocr/tests/data/toy_dataset/crops/img_8/crop_1.jpg\", \"text\": \"PAY\"}\n",
            "{\"filename\": \"/mmocr/tests/data/toy_dataset/crops/img_8/crop_2.jpg\", \"text\": \"FOR\"}\n",
            "{\"filename\": \"/mmocr/tests/data/toy_dataset/crops/img_8/crop_3.jpg\", \"text\": \"NOTHING?\"}\n",
            "{\"filename\": \"/mmocr/tests/data/toy_dataset/crops/img_1/crop_0.jpg\", \"text\": \"Genaxis Theatre\"}\n",
            "{\"filename\": \"/mmocr/tests/data/toy_dataset/crops/img_1/crop_1.jpg\", \"text\": \"[06]\"}\n",
            "{\"filename\": \"/mmocr/tests/data/toy_dataset/crops/img_1/crop_2.jpg\", \"text\": \"62-03\"}\n",
            "{\"filename\": \"/mmocr/tests/data/toy_dataset/crops/img_1/crop_3.jpg\", \"text\": \"Carpark\"}\n",
            "{\"filename\": \"/mmocr/tests/data/toy_dataset/crops/img_7/crop_0.jpg\", \"text\": \"citi\"}\n",
            "{\"filename\": \"/mmocr/tests/data/toy_dataset/crops/img_7/crop_1.jpg\", \"text\": \"smrt\"}\n"
          ]
        }
      ]
    },
    {
      "cell_type": "markdown",
      "source": [
        "## Configuration file\n",
        "\n",
        "The MMOCR's config system incorporate modular and inheritance design, which is convenient to conduct various experiments. \n",
        "\n",
        "**REMARK**\n",
        "The modular code in each cell is for explaination purpose, toward the end, the code will be paste in a `.py` file.\n",
        "\n",
        "\n",
        "The config file structure consist on the parameter `model`, `data & pipeline`, `training schedule`, and `runtime setting`. Please refer to [config file structure](https://mmocr.readthedocs.io/en/latest/tutorials/config.html#config-file-structure) for detailed documentation"
      ],
      "metadata": {
        "id": "i-GrV0xSkAc3"
      }
    },
    {
      "cell_type": "markdown",
      "source": [
        "Firstly, We can import predefine configurations as follow"
      ],
      "metadata": {
        "id": "bazeIZ60zvjA"
      }
    },
    {
      "cell_type": "markdown",
      "source": [
        ""
      ],
      "metadata": {
        "id": "35DverEs6d4b"
      }
    },
    {
      "cell_type": "markdown",
      "source": [
        "\n",
        "\n",
        "```\n",
        "_base_ = [\n",
        "    '/mmocr/configs/_base_/default_runtime.py',\n",
        "    '/mmocr/configs/_base_/recog_models/sar.py',\n",
        "    '/mmocr/configs/_base_/schedules/schedule_adam_step_5e.py',\n",
        "    '/mmocr/configs/_base_/recog_pipelines/sar_pipeline.py',\n",
        "]\n",
        "```\n",
        "The pipeline can be assigned as \n",
        "\n",
        "\n",
        "\n",
        "```\n",
        "train_pipeline = {{_base_.train_pipeline}}\n",
        "test_pipeline = {{_base_.test_pipeline}}\n",
        "```\n",
        "\n"
      ],
      "metadata": {
        "id": "FCjW6K2932zk"
      }
    },
    {
      "cell_type": "markdown",
      "source": [
        "Define the training and validation datasets\n",
        "\n",
        "```\n",
        "\n",
        "dataset_type = 'OCRDataset'\n",
        "root = '/mmocr/tests/data/toy_dataset' # Location where the annotation and crop images are being stored\n",
        "\n",
        "img_prefix ='/mmocr/tests/data/toy_dataset/crops'\n",
        "train_anno_file1 = '/mmocr/tests/data/toy_dataset/train_label.jsonl'\n",
        "test_anno_file1 = '/mmocr/tests/data/toy_dataset/train_label.jsonl'\n",
        "\n",
        "# Set up working dir to save files and logs.\n",
        "work_dir = '/mmocr/demo/tutorial_exps'\n",
        "\n",
        "\n",
        "\n",
        "loader_dt_train = dict(type='AnnFileLoader',\n",
        "                            repeat=1,                   \n",
        "                            file_format='txt',  # only txt and lmdb\n",
        "                            file_storage_backend='disk',\n",
        "                            parser=dict(type='LineJsonParser',\n",
        "                                        keys=['filename', 'text']))\n",
        "\n",
        "loader_dt_test = dict(type = 'AnnFileLoader',\n",
        "                        repeat = 1,\n",
        "                        file_format = 'txt',  # only txt and lmdb\n",
        "                        file_storage_backend = 'disk',\n",
        "                        parser = dict(type = 'LineJsonParser',\n",
        "                                    keys = ['filename', 'text']))\n",
        "\n",
        "\n",
        "train_datasets1 = dict(type='OCRDataset',\n",
        "                       img_prefix=img_prefix,\n",
        "                       ann_file=train_anno_file1,\n",
        "                       loader=loader_dt_train,\n",
        "                       pipeline=None,           \n",
        "                       test_mode=False)\n",
        "\n",
        "\n",
        "\n",
        "\n",
        "# For time being, assume the setting for training and validation is the same\n",
        "val_dataset = dict(type='OCRDataset',\n",
        "                   img_prefix=img_prefix,\n",
        "                   ann_file=test_anno_file1,\n",
        "                   loader=loader_dt_test,\n",
        "                   pipeline=None,              \n",
        "                   test_mode=True)\n",
        "\n",
        "\n",
        "train_list = [train_datasets1]\n",
        "test_list = [val_dataset]\n",
        "\n",
        "\n",
        "```\n",
        "It is also possible to have multiple dataset\n",
        "\n",
        "For example\n",
        "\n",
        "```\n",
        "train_list = [train_datasets1,train_datasets2,train_datasets3]\n",
        "test_list = [val_dataset,val_dataset2]\n",
        "```"
      ],
      "metadata": {
        "id": "azZObd1Z0raJ"
      }
    },
    {
      "cell_type": "markdown",
      "source": [
        "Finally, assign all the informations into the `data` dictionary\n",
        "\n",
        "```\n",
        "data = dict(\n",
        "    samples_per_gpu=64,\n",
        "    workers_per_gpu=4,\n",
        "    val_dataloader=dict(samples_per_gpu=1),\n",
        "    test_dataloader=dict(samples_per_gpu=1),\n",
        "    train=dict(\n",
        "        type='UniformConcatDataset',\n",
        "        datasets=train_list,\n",
        "        pipeline=train_pipeline),\n",
        "    val=dict(\n",
        "        type='UniformConcatDataset',\n",
        "        datasets=test_list,\n",
        "        pipeline=test_pipeline),\n",
        "    test=dict(\n",
        "        type='UniformConcatDataset',\n",
        "        datasets=test_list,\n",
        "        pipeline=test_pipeline))\n",
        "\n",
        "\n",
        "evaluation = dict(interval=1, metric='acc')\n",
        "\n",
        "cudnn_benchmark = True\n",
        "```"
      ],
      "metadata": {
        "id": "00GJwwJQ5h3H"
      }
    },
    {
      "cell_type": "markdown",
      "source": [
        "As mentioned, this `cfg` need to be stored in a `.py` file.\n",
        "\n",
        "Please refer this [tutorial](https://stackoverflow.com/a/58228374/6446053) on how to create a file in Google Colab.\n",
        "\n",
        "First create a `my_cfg.py` file at `/content/my_cfg.py`\n",
        "\n",
        "Then, copy and paste the following lines\n",
        "\n",
        "**REMARK** \n",
        "\n",
        "PLEASE DO NOT EXECUTE THE FOLLOWING CELL"
      ],
      "metadata": {
        "id": "8WKFkf1Z2e6l"
      }
    },
    {
      "cell_type": "code",
      "source": [
        "_base_ = [\n",
        "    '/mmocr/configs/_base_/default_runtime.py',\n",
        "    '/mmocr/configs/_base_/recog_models/sar.py',\n",
        "    '/mmocr/configs/_base_/schedules/schedule_adam_step_5e.py',\n",
        "    '/mmocr/configs/_base_/recog_pipelines/sar_pipeline.py',\n",
        "]\n",
        "\n",
        "train_pipeline = {{_base_.train_pipeline}}\n",
        "test_pipeline = {{_base_.test_pipeline}}\n",
        "\n",
        "dataset_type = 'OCRDataset'\n",
        "root = '/mmocr/tests/data/toy_dataset' # Location where the annotation and crop images are being stored\n",
        "\n",
        "img_prefix ='/mmocr/tests/data/toy_dataset/crops'\n",
        "train_anno_file1 = '/mmocr/tests/data/toy_dataset/train_label.jsonl'\n",
        "test_anno_file1 = '/mmocr/tests/data/toy_dataset/train_label.jsonl'\n",
        "\n",
        "# Set up working dir to save files and logs.\n",
        "work_dir = '/mmocr/demo/tutorial_exps'\n",
        "\n",
        "\n",
        "\n",
        "loader_dt_train = dict(type='AnnFileLoader',\n",
        "                            repeat=1,                   \n",
        "                            file_format='txt',  # only txt and lmdb\n",
        "                            file_storage_backend='disk',\n",
        "                            parser=dict(type='LineJsonParser',\n",
        "                                        keys=['filename', 'text']))\n",
        "\n",
        "loader_dt_test = dict(type = 'AnnFileLoader',\n",
        "                        repeat = 1,\n",
        "                        file_format = 'txt',  # only txt and lmdb\n",
        "                        file_storage_backend = 'disk',\n",
        "                        parser = dict(type = 'LineJsonParser',\n",
        "                                    keys = ['filename', 'text']))\n",
        "\n",
        "\n",
        "train_datasets1 = dict(type='OCRDataset',\n",
        "                       img_prefix=img_prefix,\n",
        "                       ann_file=train_anno_file1,\n",
        "                       loader=loader_dt_train,\n",
        "                       pipeline=None,           \n",
        "                       test_mode=False)\n",
        "\n",
        "\n",
        "\n",
        "\n",
        "# For time being, assume the setting for training and validation is the same\n",
        "val_dataset = dict(type='OCRDataset',\n",
        "                   img_prefix=img_prefix,\n",
        "                   ann_file=test_anno_file1,\n",
        "                   loader=loader_dt_test,\n",
        "                   pipeline=None,              \n",
        "                   test_mode=True)\n",
        "\n",
        "\n",
        "train_list = [train_datasets1]\n",
        "test_list = [val_dataset]\n",
        "\n",
        "\n",
        "data = dict(\n",
        "    samples_per_gpu=64,\n",
        "    workers_per_gpu=4,\n",
        "    val_dataloader=dict(samples_per_gpu=1),\n",
        "    test_dataloader=dict(samples_per_gpu=1),\n",
        "    train=dict(\n",
        "        type='UniformConcatDataset',\n",
        "        datasets=train_list,\n",
        "        pipeline=train_pipeline),\n",
        "    val=dict(\n",
        "        type='UniformConcatDataset',\n",
        "        datasets=test_list,\n",
        "        pipeline=test_pipeline),\n",
        "    test=dict(\n",
        "        type='UniformConcatDataset',\n",
        "        datasets=test_list,\n",
        "        pipeline=test_pipeline))\n",
        "\n",
        "\n",
        "evaluation = dict(interval=1, metric='acc')\n",
        "\n",
        "cudnn_benchmark = True\n",
        "\n",
        "\n",
        "gpu_ids = range(1)"
      ],
      "metadata": {
        "id": "WjIXZRhK6Kvq"
      },
      "execution_count": null,
      "outputs": []
    },
    {
      "cell_type": "markdown",
      "source": [
        "In order to perform inference for SAR on colab, we need to adjust the config values to accommodate some of the settings of colab such as the number of GPU available. "
      ],
      "metadata": {
        "id": "AOLdCnfeYlu0"
      }
    },
    {
      "cell_type": "code",
      "execution_count": null,
      "source": [
        "from mmdet.apis import set_random_seed\n",
        "\n",
        "\n",
        "# The original learning rate (LR) is set for 8-GPU training.\n",
        "# We divide it by 8 since we only use one GPU.\n",
        "\n",
        "optimizer = dict(type = 'Adam', \n",
        "                 lr = 0.001 / 8)\n",
        "\n",
        "\n",
        "lr_config = dict(policy = 'step', \n",
        "                 step = [3, 4], \n",
        "                 warmup = None  # Set warmup to None when work in Colab\n",
        "                 ) \n",
        "\n",
        "\n",
        "log_config = dict(\n",
        "                  interval = 40,  # Choose to log training results every 40 images to reduce the size of log file. \n",
        "                  hooks = [dict(type = 'TextLoggerHook')])\n",
        "\n",
        "# Set seed thus the results are more reproducible\n",
        "seed = 0\n",
        "set_random_seed(0, deterministic=False)\n",
        "gpu_ids = range(1)\n"
      ],
      "outputs": [],
      "metadata": {
        "id": "67OJ6oAvN6NA"
      }
    },
    {
      "cell_type": "markdown",
      "source": [
        "Lets create the configration file"
      ],
      "metadata": {
        "id": "Tp2_REBignfH"
      }
    },
    {
      "cell_type": "code",
      "source": [
        "from mmcv import Config\n",
        "\n",
        "cfg = Config.fromfile('/content/my_cfg.py')"
      ],
      "metadata": {
        "id": "CmQgFAV_9783"
      },
      "execution_count": 24,
      "outputs": []
    },
    {
      "cell_type": "markdown",
      "source": [
        "## Train the SAR Text Recognizer \n",
        "Finally, we train the SAR text recognizer on the toy dataset for five epochs. \n",
        "\n",
        "This steps took about ~ 5 minutes to complete or <15 if Colab is connected with GPU \n"
      ],
      "metadata": {
        "id": "TZj5vyqEmulE"
      }
    },
    {
      "cell_type": "code",
      "source": [
        "from mmdet.apis import set_random_seed\n",
        "from mmocr.datasets import build_dataset\n",
        "from mmocr.models import build_detector\n",
        "from mmocr.apis import train_detector\n",
        "import os.path as osp\n",
        "\n",
        "seed = 0\n",
        "set_random_seed(0, deterministic=False)\n",
        "cfg.gpu_ids = range(1)\n",
        "\n",
        "# Let also limit the training to only 5 epochs\n",
        "\n",
        "cfg.runner = dict(type='EpochBasedRunner', max_epochs=6) # Default max_epochs is 1200\n",
        "\n",
        "#save the model every 5 epoch\n",
        "cfg.checkpoint_config = dict(interval=2) # Default the interval was set to 100\n",
        "\n",
        "print(f'Config:\\n{cfg.pretty_text}')\n",
        "\n",
        "# Build dataset\n",
        "datasets = [build_dataset(cfg.data.train)]\n",
        "#\n",
        "# # Build the detector\n",
        "model = build_detector(cfg.model, train_cfg=cfg.get('train_cfg'), test_cfg=cfg.get('test_cfg'))\n",
        "#\n",
        "# # Add an attribute for visualization convenience\n",
        "model.CLASSES = datasets[0].CLASSES\n",
        "\n",
        "# # Create work_dir\n",
        "mmcv.mkdir_or_exist(osp.abspath(cfg.work_dir))\n",
        "train_detector(model, datasets, cfg, distributed=False, validate=True)"
      ],
      "metadata": {
        "id": "aGtuC29ys8Ej",
        "cellView": "code",
        "colab": {
          "base_uri": "https://localhost:8080/"
        },
        "outputId": "8f989a8c-b7e2-49a3-fa79-9c9fb96e0f3d"
      },
      "execution_count": 26,
      "outputs": [
        {
          "output_type": "stream",
          "name": "stderr",
          "text": [
            "Exception ignored in: <function _TemporaryFileCloser.__del__ at 0x7fcb172034d0>\n",
            "Traceback (most recent call last):\n",
            "  File \"/usr/lib/python3.7/tempfile.py\", line 587, in __del__\n",
            "    self.close()\n",
            "  File \"/usr/lib/python3.7/tempfile.py\", line 583, in close\n",
            "    unlink(self.name)\n",
            "FileNotFoundError: [Errno 2] No such file or directory: '/tmp/tmpqopwvy_2/tmpy9yqt40e.py'\n"
          ]
        },
        {
          "output_type": "stream",
          "name": "stdout",
          "text": [
            "Config:\n",
            "log_config = dict(interval=5, hooks=[dict(type='TextLoggerHook')])\n",
            "dist_params = dict(backend='nccl')\n",
            "log_level = 'INFO'\n",
            "load_from = None\n",
            "resume_from = None\n",
            "workflow = [('train', 1)]\n",
            "opencv_num_threads = 0\n",
            "mp_start_method = 'fork'\n",
            "label_convertor = dict(\n",
            "    type='AttnConvertor', dict_type='DICT90', with_unknown=True)\n",
            "model = dict(\n",
            "    type='SARNet',\n",
            "    backbone=dict(type='ResNet31OCR'),\n",
            "    encoder=dict(\n",
            "        type='SAREncoder', enc_bi_rnn=False, enc_do_rnn=0.1, enc_gru=False),\n",
            "    decoder=dict(\n",
            "        type='ParallelSARDecoder',\n",
            "        enc_bi_rnn=False,\n",
            "        dec_bi_rnn=False,\n",
            "        dec_do_rnn=0,\n",
            "        dec_gru=False,\n",
            "        pred_dropout=0.1,\n",
            "        d_k=512,\n",
            "        pred_concat=True),\n",
            "    loss=dict(type='SARLoss'),\n",
            "    label_convertor=dict(\n",
            "        type='AttnConvertor', dict_type='DICT90', with_unknown=True),\n",
            "    max_seq_len=30)\n",
            "optimizer = dict(type='Adam', lr=0.001)\n",
            "optimizer_config = dict(grad_clip=None)\n",
            "lr_config = dict(policy='step', step=[3, 4])\n",
            "runner = dict(type='EpochBasedRunner', max_epochs=6)\n",
            "checkpoint_config = dict(interval=2)\n",
            "img_norm_cfg = dict(mean=[0.5, 0.5, 0.5], std=[0.5, 0.5, 0.5])\n",
            "train_pipeline = [\n",
            "    dict(type='LoadImageFromFile'),\n",
            "    dict(\n",
            "        type='ResizeOCR',\n",
            "        height=48,\n",
            "        min_width=48,\n",
            "        max_width=160,\n",
            "        keep_aspect_ratio=True,\n",
            "        width_downsample_ratio=0.25),\n",
            "    dict(type='ToTensorOCR'),\n",
            "    dict(type='NormalizeOCR', mean=[0.5, 0.5, 0.5], std=[0.5, 0.5, 0.5]),\n",
            "    dict(\n",
            "        type='Collect',\n",
            "        keys=['img'],\n",
            "        meta_keys=[\n",
            "            'filename', 'ori_shape', 'resize_shape', 'text', 'valid_ratio'\n",
            "        ])\n",
            "]\n",
            "test_pipeline = [\n",
            "    dict(type='LoadImageFromFile'),\n",
            "    dict(\n",
            "        type='MultiRotateAugOCR',\n",
            "        rotate_degrees=[0, 90, 270],\n",
            "        transforms=[\n",
            "            dict(\n",
            "                type='ResizeOCR',\n",
            "                height=48,\n",
            "                min_width=48,\n",
            "                max_width=160,\n",
            "                keep_aspect_ratio=True,\n",
            "                width_downsample_ratio=0.25),\n",
            "            dict(type='ToTensorOCR'),\n",
            "            dict(\n",
            "                type='NormalizeOCR', mean=[0.5, 0.5, 0.5], std=[0.5, 0.5,\n",
            "                                                                0.5]),\n",
            "            dict(\n",
            "                type='Collect',\n",
            "                keys=['img'],\n",
            "                meta_keys=[\n",
            "                    'filename', 'ori_shape', 'resize_shape', 'valid_ratio',\n",
            "                    'img_norm_cfg', 'ori_filename', 'img_shape'\n",
            "                ])\n",
            "        ])\n",
            "]\n",
            "dataset_type = 'OCRDataset'\n",
            "root = '/mmocr/tests/data/toy_dataset'\n",
            "img_prefix = '/mmocr/tests/data/toy_dataset/crops'\n",
            "train_anno_file1 = '/mmocr/tests/data/toy_dataset/train_label.jsonl'\n",
            "test_anno_file1 = '/mmocr/tests/data/toy_dataset/train_label.jsonl'\n",
            "work_dir = '/mmocr/demo/tutorial_exps'\n",
            "loader_dt_train = dict(\n",
            "    type='AnnFileLoader',\n",
            "    repeat=1,\n",
            "    file_format='txt',\n",
            "    file_storage_backend='disk',\n",
            "    parser=dict(type='LineJsonParser', keys=['filename', 'text']))\n",
            "loader_dt_test = dict(\n",
            "    type='AnnFileLoader',\n",
            "    repeat=1,\n",
            "    file_format='txt',\n",
            "    file_storage_backend='disk',\n",
            "    parser=dict(type='LineJsonParser', keys=['filename', 'text']))\n",
            "train_datasets1 = dict(\n",
            "    type='OCRDataset',\n",
            "    img_prefix='/mmocr/tests/data/toy_dataset/crops',\n",
            "    ann_file='/mmocr/tests/data/toy_dataset/train_label.jsonl',\n",
            "    loader=dict(\n",
            "        type='AnnFileLoader',\n",
            "        repeat=1,\n",
            "        file_format='txt',\n",
            "        file_storage_backend='disk',\n",
            "        parser=dict(type='LineJsonParser', keys=['filename', 'text'])),\n",
            "    pipeline=None,\n",
            "    test_mode=False)\n",
            "val_dataset = dict(\n",
            "    type='OCRDataset',\n",
            "    img_prefix='/mmocr/tests/data/toy_dataset/crops',\n",
            "    ann_file='/mmocr/tests/data/toy_dataset/train_label.jsonl',\n",
            "    loader=dict(\n",
            "        type='AnnFileLoader',\n",
            "        repeat=1,\n",
            "        file_format='txt',\n",
            "        file_storage_backend='disk',\n",
            "        parser=dict(type='LineJsonParser', keys=['filename', 'text'])),\n",
            "    pipeline=None,\n",
            "    test_mode=True)\n",
            "train_list = [\n",
            "    dict(\n",
            "        type='OCRDataset',\n",
            "        img_prefix='/mmocr/tests/data/toy_dataset/crops',\n",
            "        ann_file='/mmocr/tests/data/toy_dataset/train_label.jsonl',\n",
            "        loader=dict(\n",
            "            type='AnnFileLoader',\n",
            "            repeat=1,\n",
            "            file_format='txt',\n",
            "            file_storage_backend='disk',\n",
            "            parser=dict(type='LineJsonParser', keys=['filename', 'text'])),\n",
            "        pipeline=None,\n",
            "        test_mode=False)\n",
            "]\n",
            "test_list = [\n",
            "    dict(\n",
            "        type='OCRDataset',\n",
            "        img_prefix='/mmocr/tests/data/toy_dataset/crops',\n",
            "        ann_file='/mmocr/tests/data/toy_dataset/train_label.jsonl',\n",
            "        loader=dict(\n",
            "            type='AnnFileLoader',\n",
            "            repeat=1,\n",
            "            file_format='txt',\n",
            "            file_storage_backend='disk',\n",
            "            parser=dict(type='LineJsonParser', keys=['filename', 'text'])),\n",
            "        pipeline=None,\n",
            "        test_mode=True)\n",
            "]\n",
            "data = dict(\n",
            "    samples_per_gpu=64,\n",
            "    workers_per_gpu=4,\n",
            "    val_dataloader=dict(samples_per_gpu=1),\n",
            "    test_dataloader=dict(samples_per_gpu=1),\n",
            "    train=dict(\n",
            "        type='UniformConcatDataset',\n",
            "        datasets=[\n",
            "            dict(\n",
            "                type='OCRDataset',\n",
            "                img_prefix='/mmocr/tests/data/toy_dataset/crops',\n",
            "                ann_file='/mmocr/tests/data/toy_dataset/train_label.jsonl',\n",
            "                loader=dict(\n",
            "                    type='AnnFileLoader',\n",
            "                    repeat=1,\n",
            "                    file_format='txt',\n",
            "                    file_storage_backend='disk',\n",
            "                    parser=dict(\n",
            "                        type='LineJsonParser', keys=['filename', 'text'])),\n",
            "                pipeline=None,\n",
            "                test_mode=False)\n",
            "        ],\n",
            "        pipeline=[\n",
            "            dict(type='LoadImageFromFile'),\n",
            "            dict(\n",
            "                type='ResizeOCR',\n",
            "                height=48,\n",
            "                min_width=48,\n",
            "                max_width=160,\n",
            "                keep_aspect_ratio=True,\n",
            "                width_downsample_ratio=0.25),\n",
            "            dict(type='ToTensorOCR'),\n",
            "            dict(\n",
            "                type='NormalizeOCR', mean=[0.5, 0.5, 0.5], std=[0.5, 0.5,\n",
            "                                                                0.5]),\n",
            "            dict(\n",
            "                type='Collect',\n",
            "                keys=['img'],\n",
            "                meta_keys=[\n",
            "                    'filename', 'ori_shape', 'resize_shape', 'text',\n",
            "                    'valid_ratio'\n",
            "                ])\n",
            "        ]),\n",
            "    val=dict(\n",
            "        type='UniformConcatDataset',\n",
            "        datasets=[\n",
            "            dict(\n",
            "                type='OCRDataset',\n",
            "                img_prefix='/mmocr/tests/data/toy_dataset/crops',\n",
            "                ann_file='/mmocr/tests/data/toy_dataset/train_label.jsonl',\n",
            "                loader=dict(\n",
            "                    type='AnnFileLoader',\n",
            "                    repeat=1,\n",
            "                    file_format='txt',\n",
            "                    file_storage_backend='disk',\n",
            "                    parser=dict(\n",
            "                        type='LineJsonParser', keys=['filename', 'text'])),\n",
            "                pipeline=None,\n",
            "                test_mode=True)\n",
            "        ],\n",
            "        pipeline=[\n",
            "            dict(type='LoadImageFromFile'),\n",
            "            dict(\n",
            "                type='MultiRotateAugOCR',\n",
            "                rotate_degrees=[0, 90, 270],\n",
            "                transforms=[\n",
            "                    dict(\n",
            "                        type='ResizeOCR',\n",
            "                        height=48,\n",
            "                        min_width=48,\n",
            "                        max_width=160,\n",
            "                        keep_aspect_ratio=True,\n",
            "                        width_downsample_ratio=0.25),\n",
            "                    dict(type='ToTensorOCR'),\n",
            "                    dict(\n",
            "                        type='NormalizeOCR',\n",
            "                        mean=[0.5, 0.5, 0.5],\n",
            "                        std=[0.5, 0.5, 0.5]),\n",
            "                    dict(\n",
            "                        type='Collect',\n",
            "                        keys=['img'],\n",
            "                        meta_keys=[\n",
            "                            'filename', 'ori_shape', 'resize_shape',\n",
            "                            'valid_ratio', 'img_norm_cfg', 'ori_filename',\n",
            "                            'img_shape'\n",
            "                        ])\n",
            "                ])\n",
            "        ]),\n",
            "    test=dict(\n",
            "        type='UniformConcatDataset',\n",
            "        datasets=[\n",
            "            dict(\n",
            "                type='OCRDataset',\n",
            "                img_prefix='/mmocr/tests/data/toy_dataset/crops',\n",
            "                ann_file='/mmocr/tests/data/toy_dataset/train_label.jsonl',\n",
            "                loader=dict(\n",
            "                    type='AnnFileLoader',\n",
            "                    repeat=1,\n",
            "                    file_format='txt',\n",
            "                    file_storage_backend='disk',\n",
            "                    parser=dict(\n",
            "                        type='LineJsonParser', keys=['filename', 'text'])),\n",
            "                pipeline=None,\n",
            "                test_mode=True)\n",
            "        ],\n",
            "        pipeline=[\n",
            "            dict(type='LoadImageFromFile'),\n",
            "            dict(\n",
            "                type='MultiRotateAugOCR',\n",
            "                rotate_degrees=[0, 90, 270],\n",
            "                transforms=[\n",
            "                    dict(\n",
            "                        type='ResizeOCR',\n",
            "                        height=48,\n",
            "                        min_width=48,\n",
            "                        max_width=160,\n",
            "                        keep_aspect_ratio=True,\n",
            "                        width_downsample_ratio=0.25),\n",
            "                    dict(type='ToTensorOCR'),\n",
            "                    dict(\n",
            "                        type='NormalizeOCR',\n",
            "                        mean=[0.5, 0.5, 0.5],\n",
            "                        std=[0.5, 0.5, 0.5]),\n",
            "                    dict(\n",
            "                        type='Collect',\n",
            "                        keys=['img'],\n",
            "                        meta_keys=[\n",
            "                            'filename', 'ori_shape', 'resize_shape',\n",
            "                            'valid_ratio', 'img_norm_cfg', 'ori_filename',\n",
            "                            'img_shape'\n",
            "                        ])\n",
            "                ])\n",
            "        ]))\n",
            "evaluation = dict(interval=1, metric='acc')\n",
            "gpu_ids = range(0, 1)\n",
            "cudnn_benchmark = True\n",
            "\n"
          ]
        },
        {
          "output_type": "stream",
          "name": "stderr",
          "text": [
            "/usr/local/lib/python3.7/dist-packages/torch/utils/data/dataloader.py:490: UserWarning: This DataLoader will create 4 worker processes in total. Our suggested max number of worker in current system is 2, which is smaller than what this DataLoader is going to create. Please be aware that excessive worker creation might get DataLoader running slow or even freeze, lower the worker number to avoid potential slowness/freeze if necessary.\n",
            "  cpuset_checked))\n",
            "2022-06-24 13:57:20,717 - mmocr - INFO - Start running, host: root@d2b4cf609006, work_dir: /mmocr/demo/tutorial_exps\n",
            "2022-06-24 13:57:20,718 - mmocr - INFO - Hooks will be executed in the following order:\n",
            "before_run:\n",
            "(VERY_HIGH   ) StepLrUpdaterHook                  \n",
            "(NORMAL      ) CheckpointHook                     \n",
            "(NORMAL      ) EvalHook                           \n",
            "(VERY_LOW    ) TextLoggerHook                     \n",
            " -------------------- \n",
            "before_train_epoch:\n",
            "(VERY_HIGH   ) StepLrUpdaterHook                  \n",
            "(NORMAL      ) EvalHook                           \n",
            "(LOW         ) IterTimerHook                      \n",
            "(VERY_LOW    ) TextLoggerHook                     \n",
            " -------------------- \n",
            "before_train_iter:\n",
            "(VERY_HIGH   ) StepLrUpdaterHook                  \n",
            "(NORMAL      ) EvalHook                           \n",
            "(LOW         ) IterTimerHook                      \n",
            " -------------------- \n",
            "after_train_iter:\n",
            "(ABOVE_NORMAL) OptimizerHook                      \n",
            "(NORMAL      ) CheckpointHook                     \n",
            "(NORMAL      ) EvalHook                           \n",
            "(LOW         ) IterTimerHook                      \n",
            "(VERY_LOW    ) TextLoggerHook                     \n",
            " -------------------- \n",
            "after_train_epoch:\n",
            "(NORMAL      ) CheckpointHook                     \n",
            "(NORMAL      ) EvalHook                           \n",
            "(VERY_LOW    ) TextLoggerHook                     \n",
            " -------------------- \n",
            "before_val_epoch:\n",
            "(LOW         ) IterTimerHook                      \n",
            "(VERY_LOW    ) TextLoggerHook                     \n",
            " -------------------- \n",
            "before_val_iter:\n",
            "(LOW         ) IterTimerHook                      \n",
            " -------------------- \n",
            "after_val_iter:\n",
            "(LOW         ) IterTimerHook                      \n",
            " -------------------- \n",
            "after_val_epoch:\n",
            "(VERY_LOW    ) TextLoggerHook                     \n",
            " -------------------- \n",
            "after_run:\n",
            "(VERY_LOW    ) TextLoggerHook                     \n",
            " -------------------- \n",
            "2022-06-24 13:57:20,723 - mmocr - INFO - workflow: [('train', 1)], max: 6 epochs\n",
            "2022-06-24 13:57:20,726 - mmocr - INFO - Checkpoints will be saved to /mmocr/demo/tutorial_exps by HardDiskBackend.\n",
            "/usr/local/lib/python3.7/dist-packages/torch/nn/functional.py:780: UserWarning: Note that order of the arguments: ceil_mode and return_indices will changeto match the args list in nn.MaxPool2d in a future release.\n",
            "  warnings.warn(\"Note that order of the arguments: ceil_mode and return_indices will change\"\n"
          ]
        },
        {
          "output_type": "stream",
          "name": "stdout",
          "text": [
            "[>>>>>>>>>>>>>>>>>>>>>>>>>>>>>>>>>] 21/21, 9.0 task/s, elapsed: 2s, ETA:     0s"
          ]
        },
        {
          "output_type": "stream",
          "name": "stderr",
          "text": [
            "2022-06-24 13:57:26,590 - mmocr - INFO - \n",
            "Evaluating /mmocr/tests/data/toy_dataset/train_label.jsonl with 21 images now\n",
            "2022-06-24 13:57:26,598 - mmocr - INFO - Epoch(val) [1][21]\t0_char_recall: 0.1613, 0_char_precision: 0.0317, 0_word_acc: 0.0000, 0_word_acc_ignore_case: 0.0000, 0_word_acc_ignore_case_symbol: 0.0000, 0_1-N.E.D: 0.0286\n",
            "2022-06-24 13:57:29,692 - mmocr - INFO - Saving checkpoint at 2 epochs\n"
          ]
        },
        {
          "output_type": "stream",
          "name": "stdout",
          "text": [
            "[>>>>>>>>>>>>>>>>>>>>>>>>>>>>>>>>>] 21/21, 8.4 task/s, elapsed: 3s, ETA:     0s"
          ]
        },
        {
          "output_type": "stream",
          "name": "stderr",
          "text": [
            "2022-06-24 13:57:37,040 - mmocr - INFO - \n",
            "Evaluating /mmocr/tests/data/toy_dataset/train_label.jsonl with 21 images now\n",
            "2022-06-24 13:57:37,043 - mmocr - INFO - Epoch(val) [2][21]\t0_char_recall: 0.0000, 0_char_precision: 0.0000, 0_word_acc: 0.0000, 0_word_acc_ignore_case: 0.0000, 0_word_acc_ignore_case_symbol: 0.0000, 0_1-N.E.D: 0.0000\n"
          ]
        },
        {
          "output_type": "stream",
          "name": "stdout",
          "text": [
            "[>>>>>>>>>>>>>>>>>>>>>>>>>>>>>>>>>] 21/21, 8.7 task/s, elapsed: 2s, ETA:     0s"
          ]
        },
        {
          "output_type": "stream",
          "name": "stderr",
          "text": [
            "2022-06-24 13:57:42,822 - mmocr - INFO - \n",
            "Evaluating /mmocr/tests/data/toy_dataset/train_label.jsonl with 21 images now\n",
            "2022-06-24 13:57:42,828 - mmocr - INFO - Epoch(val) [3][21]\t0_char_recall: 0.0000, 0_char_precision: 0.0000, 0_word_acc: 0.0000, 0_word_acc_ignore_case: 0.0000, 0_word_acc_ignore_case_symbol: 0.0000, 0_1-N.E.D: 0.0000\n",
            "2022-06-24 13:57:46,038 - mmocr - INFO - Saving checkpoint at 4 epochs\n"
          ]
        },
        {
          "output_type": "stream",
          "name": "stdout",
          "text": [
            "[>>>>>>>>>>>>>>>>>>>>>>>>>>>>>>>>>] 21/21, 8.3 task/s, elapsed: 3s, ETA:     0s"
          ]
        },
        {
          "output_type": "stream",
          "name": "stderr",
          "text": [
            "2022-06-24 13:57:52,952 - mmocr - INFO - \n",
            "Evaluating /mmocr/tests/data/toy_dataset/train_label.jsonl with 21 images now\n",
            "2022-06-24 13:57:52,955 - mmocr - INFO - Epoch(val) [4][21]\t0_char_recall: 0.0000, 0_char_precision: 0.0000, 0_word_acc: 0.0000, 0_word_acc_ignore_case: 0.0000, 0_word_acc_ignore_case_symbol: 0.0000, 0_1-N.E.D: 0.0000\n"
          ]
        },
        {
          "output_type": "stream",
          "name": "stdout",
          "text": [
            "[>>>>>>>>>>>>>>>>>>>>>>>>>>>>>>>>>] 21/21, 8.7 task/s, elapsed: 2s, ETA:     0s"
          ]
        },
        {
          "output_type": "stream",
          "name": "stderr",
          "text": [
            "2022-06-24 13:57:58,733 - mmocr - INFO - \n",
            "Evaluating /mmocr/tests/data/toy_dataset/train_label.jsonl with 21 images now\n",
            "2022-06-24 13:57:58,738 - mmocr - INFO - Epoch(val) [5][21]\t0_char_recall: 0.0000, 0_char_precision: 0.0000, 0_word_acc: 0.0000, 0_word_acc_ignore_case: 0.0000, 0_word_acc_ignore_case_symbol: 0.0000, 0_1-N.E.D: 0.0000\n",
            "2022-06-24 13:58:01,966 - mmocr - INFO - Saving checkpoint at 6 epochs\n"
          ]
        },
        {
          "output_type": "stream",
          "name": "stdout",
          "text": [
            "[>>>>>>>>>>>>>>>>>>>>>>>>>>>>>>>>>] 21/21, 8.3 task/s, elapsed: 3s, ETA:     0s"
          ]
        },
        {
          "output_type": "stream",
          "name": "stderr",
          "text": [
            "2022-06-24 13:58:08,876 - mmocr - INFO - \n",
            "Evaluating /mmocr/tests/data/toy_dataset/train_label.jsonl with 21 images now\n",
            "2022-06-24 13:58:08,883 - mmocr - INFO - Epoch(val) [6][21]\t0_char_recall: 0.0000, 0_char_precision: 0.0000, 0_word_acc: 0.0000, 0_word_acc_ignore_case: 0.0000, 0_word_acc_ignore_case_symbol: 0.0000, 0_1-N.E.D: 0.0000\n"
          ]
        }
      ]
    },
    {
      "cell_type": "markdown",
      "source": [
        "## Test and Visualize the Predictions\n",
        "\n",
        "For completeness, we also perform testing on the latest checkpoint and evaluate the results with hmean-iou metrics. The predictions are saved in the ./outputs file. "
      ],
      "metadata": {
        "id": "sklydRNXnfJk"
      }
    },
    {
      "cell_type": "code",
      "source": [
        "# Visualize the testing image.\n",
        "img='/mmocr/tests/data/toy_dataset/imgs/test/img_1.jpg' # This should be an overfit, since we testing an image that has been used for training!\n",
        "\n",
        "_img = mmcv.imread(img)\n",
        "plt.figure(figsize=(4, 4))\n",
        "plt.imshow(mmcv.bgr2rgb(_img))\n",
        "plt.show()"
      ],
      "metadata": {
        "id": "UcaZm7qY3yGT",
        "colab": {
          "base_uri": "https://localhost:8080/",
          "height": 177
        },
        "outputId": "0667e54e-08dc-4a61-c034-bfa5922d0b0b"
      },
      "execution_count": null,
      "outputs": [
        {
          "output_type": "display_data",
          "data": {
            "text/plain": [
              "<Figure size 288x288 with 1 Axes>"
            ],
            "image/png": "[encoded data removed]"
          },
          "metadata": {
            "needs_background": "light"
          }
        }
      ]
    },
    {
      "cell_type": "code",
      "source": [
        "print(cfg.work_dir)"
      ],
      "metadata": {
        "colab": {
          "base_uri": "https://localhost:8080/"
        },
        "id": "zFRom8nBEppE",
        "outputId": "772de652-1f38-4b91-8b97-6172f71c86d3"
      },
      "execution_count": null,
      "outputs": [
        {
          "output_type": "stream",
          "name": "stdout",
          "text": [
            "/mmocr/demo/tutorial_exps\n"
          ]
        }
      ]
    },
    {
      "cell_type": "code",
      "execution_count": null,
      "source": [
        "from mmocr.apis import init_detector, model_inference\n",
        "\n",
        "\n",
        "img='/mmocr/tests/data/toy_dataset/imgs/test/img_1.jpg'  # This should be an overfit, since we testing an image that has been used for training!\n",
        "\n",
        "\n",
        "\n",
        "checkpoint=os.path.join(cfg.work_dir,'epoch_5.pth')\n",
        "\n",
        "\n",
        "out_file = 'outputs/1036169s.jpg'   # Rendered image save location\n",
        "\n",
        "model = init_detector(cfg, checkpoint, device=\"cuda:0\")\n",
        "if model.cfg.data.test['type'] == 'ConcatDataset':\n",
        "    model.cfg.data.test.pipeline = model.cfg.data.test['datasets'][0].pipeline\n",
        "\n",
        "# Lets do inference to the image using the model that we just train.\n",
        "result = model_inference(model, img)\n",
        "print(f'result: {result}')\n",
        "\n",
        "img = model.show_result(img, result, \n",
        "                        out_file=out_file, \n",
        "                        show=False)\n",
        "\n",
        "mmcv.imwrite(img, out_file)"
      ],
      "outputs": [
        {
          "output_type": "stream",
          "name": "stdout",
          "text": [
            "load checkpoint from local path: /mmocr/demo/tutorial_exps/epoch_5.pth\n",
            "result: {'text': 'Nhhhhhhhhhhhhhhhhhhhhhhhhhhhhh', 'score': 0.015963149319092432}\n"
          ]
        },
        {
          "output_type": "stream",
          "name": "stderr",
          "text": [
            "/usr/local/lib/python3.7/dist-packages/torch/nn/functional.py:780: UserWarning: Note that order of the arguments: ceil_mode and return_indices will changeto match the args list in nn.MaxPool2d in a future release.\n",
            "  warnings.warn(\"Note that order of the arguments: ceil_mode and return_indices will change\"\n"
          ]
        },
        {
          "output_type": "execute_result",
          "data": {
            "text/plain": [
              "True"
            ]
          },
          "metadata": {},
          "execution_count": 42
        }
      ],
      "metadata": {
        "id": "-HbXY7uUpEU1",
        "colab": {
          "base_uri": "https://localhost:8080/"
        },
        "outputId": "21efe7b9-173f-4772-8218-2d4140910dfb"
      }
    },
    {
      "cell_type": "code",
      "execution_count": null,
      "source": [
        "# Visualize the results\n",
        "predicted_img = mmcv.imread('./outputs/1036169s.jpg')\n",
        "plt.figure(figsize=(4, 4))\n",
        "plt.imshow(mmcv.bgr2rgb(predicted_img))\n",
        "plt.show()"
      ],
      "outputs": [
        {
          "output_type": "display_data",
          "data": {
            "text/plain": [
              "<Figure size 288x288 with 1 Axes>"
            ],
            "image/png": "[encoded data removed]"
          },
          "metadata": {
            "needs_background": "light"
          }
        }
      ],
      "metadata": {
        "id": "k3s27QIGQCnT",
        "colab": {
          "base_uri": "https://localhost:8080/",
          "height": 268
        },
        "outputId": "e52b8617-804c-4815-bc70-2f0afb3ae2c4"
      }
    },
    {
      "cell_type": "markdown",
      "source": [
        "# Training from existing training point\n",
        "\n",
        "### TODO"
      ],
      "metadata": {
        "id": "xzVev3FMGc3q"
      }
    },
    {
      "cell_type": "code",
      "source": [
        "# detection\n",
        "\n",
        "!wget https://download.openmmlab.com/mmocr/textdet/textsnake/textsnake_r50_fpn_unet_1200e_ctw1500-27f65b64.pth\n",
        "\n"
      ],
      "metadata": {
        "id": "-JX0iYsiT6LQ",
        "outputId": "c2e8ee8d-4c06-4af8-fc1e-224b5bb31506",
        "colab": {
          "base_uri": "https://localhost:8080/"
        }
      },
      "execution_count": null,
      "outputs": [
        {
          "output_type": "stream",
          "name": "stdout",
          "text": [
            "--2022-05-21 06:31:00--  https://download.openmmlab.com/mmocr/textdet/textsnake/textsnake_r50_fpn_unet_1200e_ctw1500-27f65b64.pth\n",
            "Resolving download.openmmlab.com (download.openmmlab.com)... 47.252.96.28\n",
            "Connecting to download.openmmlab.com (download.openmmlab.com)|47.252.96.28|:443... connected.\n",
            "HTTP request sent, awaiting response... 200 OK\n",
            "Length: 145703066 (139M) [application/octet-stream]\n",
            "Saving to: ‘textsnake_r50_fpn_unet_1200e_ctw1500-27f65b64.pth’\n",
            "\n",
            "textsnake_r50_fpn_u 100%[===================>] 138.95M  7.70MB/s    in 16s     \n",
            "\n",
            "2022-05-21 06:31:17 (8.49 MB/s) - ‘textsnake_r50_fpn_unet_1200e_ctw1500-27f65b64.pth’ saved [145703066/145703066]\n",
            "\n"
          ]
        }
      ]
    },
    {
      "cell_type": "code",
      "source": [
        "# recognation\n",
        "\n",
        "!wget https://download.openmmlab.com/mmocr/textrecog/sar/sar_r31_parallel_decoder_academic-dba3a4a3.pth"
      ],
      "metadata": {
        "id": "fkEhofANUDD7",
        "outputId": "15240e9d-33ef-43d5-ca53-105384d82745",
        "colab": {
          "base_uri": "https://localhost:8080/"
        }
      },
      "execution_count": null,
      "outputs": [
        {
          "output_type": "stream",
          "name": "stdout",
          "text": [
            "--2022-05-21 06:31:28--  https://download.openmmlab.com/mmocr/textrecog/sar/sar_r31_parallel_decoder_academic-dba3a4a3.pth\n",
            "Resolving download.openmmlab.com (download.openmmlab.com)... 47.252.96.28\n",
            "Connecting to download.openmmlab.com (download.openmmlab.com)|47.252.96.28|:443... connected.\n",
            "HTTP request sent, awaiting response... 200 OK\n",
            "Length: 229956710 (219M) [application/octet-stream]\n",
            "Saving to: ‘sar_r31_parallel_decoder_academic-dba3a4a3.pth’\n",
            "\n",
            "sar_r31_parallel_de 100%[===================>] 219.30M  8.73MB/s    in 27s     \n",
            "\n",
            "2022-05-21 06:31:56 (8.23 MB/s) - ‘sar_r31_parallel_decoder_academic-dba3a4a3.pth’ saved [229956710/229956710]\n",
            "\n"
          ]
        }
      ]
    },
    {
      "cell_type": "code",
      "source": [
        "# %cd /mmocr/mmocr\n",
        "# !ls"
      ],
      "metadata": {
        "id": "9beDV1xAR-3H",
        "outputId": "30f8afa1-b68e-4cb0-d8f9-30b266306b07",
        "colab": {
          "base_uri": "https://localhost:8080/"
        }
      },
      "execution_count": null,
      "outputs": [
        {
          "output_type": "stream",
          "name": "stdout",
          "text": [
            "/mmocr/mmocr\n",
            "apis  core  datasets  __init__.py  models  __pycache__\tutils  version.py\n"
          ]
        }
      ]
    },
    {
      "cell_type": "code",
      "source": [
        "# from mmocr.utils.ocr import MMOCR\n",
        "# mmocr = MMOCR(det='TextSnake', recog='SAR')"
      ],
      "metadata": {
        "id": "bMTxRjcgR8qv"
      },
      "execution_count": null,
      "outputs": []
    }
  ]
}