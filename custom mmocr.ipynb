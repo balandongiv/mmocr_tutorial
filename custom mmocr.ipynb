{
  "nbformat": 4,
  "nbformat_minor": 0,
  "metadata": {
    "colab": {
      "name": "custom mmocr.ipynb",
      "provenance": [],
      "collapsed_sections": [],
      "include_colab_link": true
    },
    "kernelspec": {
      "name": "python3",
      "display_name": "Python 3",
      "language": "python"
    },
    "language_info": {
      "name": "python",
      "version": "3.8.5"
    },
    "accelerator": "GPU"
  },
  "cells": [
    {
      "cell_type": "markdown",
      "metadata": {
        "id": "view-in-github",
        "colab_type": "text"
      },
      "source": [
        "<a href=\"https://colab.research.google.com/github/balandongiv/mmocr_tutorial/blob/main/custom%20mmocr.ipynb\" target=\"_parent\"><img src=\"https://colab.research.google.com/assets/colab-badge.svg\" alt=\"Open In Colab\"/></a>"
      ]
    },
    {
      "cell_type": "markdown",
      "source": [
        "# MMOCR Tutorial\n",
        "\n",
        "Welcome to MMOCR! This is the **unofficial** colab tutorial for using MMOCR. In this tutorial, you will learn how to\n",
        "\n",
        "- Transform annotation in coco-like json format to MMOCR compatible format.\n",
        "- Set custom configuration file\n",
        "- Integrate mmocr config template extracted from `base` with user custom setting (Not sure if this is possible? or how to achieve:KIV)\n",
        "- Train a text recognizer with a toy dataset. "
      ],
      "metadata": {
        "id": "U-Xyj4cQrEQ1"
      }
    },
    {
      "cell_type": "markdown",
      "source": [
        "# Install MMOCR"
      ],
      "metadata": {
        "id": "Sfvz1sywQ9_4"
      }
    },
    {
      "cell_type": "markdown",
      "source": [
        "When installing dependencies for mmocr, please ensure that all the dependency versions are compatible with each other. For instance, if CUDA 10.1 is installed, then the Pytorch version must be compatible with cu10.1. Please see [getting_started.md](docs/getting_started.md) for more details. "
      ],
      "metadata": {
        "id": "q3fZP1LspEUp"
      }
    },
    {
      "cell_type": "code",
      "execution_count": 1,
      "source": [
        "%cd .."
      ],
      "outputs": [
        {
          "output_type": "stream",
          "name": "stdout",
          "text": [
            "/\n"
          ]
        }
      ],
      "metadata": {
        "id": "rB3qciTXpEUq",
        "colab": {
          "base_uri": "https://localhost:8080/"
        },
        "outputId": "0ea91fc2-0d3a-4343-a1a7-31ac1c9461a3"
      }
    },
    {
      "cell_type": "markdown",
      "source": [
        "### Check PyTorch version"
      ],
      "metadata": {
        "id": "mSkZOdrMpEUr"
      }
    },
    {
      "cell_type": "code",
      "source": [
        "!pip show torch"
      ],
      "metadata": {
        "id": "eNvnx5XGAn0i",
        "colab": {
          "base_uri": "https://localhost:8080/"
        },
        "outputId": "cac405b8-3efc-431b-ddef-f1b5e36f9927"
      },
      "execution_count": 2,
      "outputs": [
        {
          "output_type": "stream",
          "name": "stdout",
          "text": [
            "Name: torch\n",
            "Version: 1.11.0+cu113\n",
            "Summary: Tensors and Dynamic neural networks in Python with strong GPU acceleration\n",
            "Home-page: https://pytorch.org/\n",
            "Author: PyTorch Team\n",
            "Author-email: packages@pytorch.org\n",
            "License: BSD-3\n",
            "Location: /usr/local/lib/python3.7/dist-packages\n",
            "Requires: typing-extensions\n",
            "Required-by: torchvision, torchtext, torchaudio, fastai\n"
          ]
        }
      ]
    },
    {
      "cell_type": "markdown",
      "source": [
        "### Install Dependencies "
      ],
      "metadata": {
        "id": "Tw7u_baQpEUs"
      }
    },
    {
      "cell_type": "code",
      "execution_count": 3,
      "source": [
        "# Install mmcv-full thus we could use CUDA operators\n",
        "!pip install mmcv-full -f https://download.openmmlab.com/mmcv/dist/cu113/torch1.11.0/index.html\n",
        "\n",
        "# Install mmdetection\n",
        "!pip install mmdet\n",
        "\n",
        "# # Install mmocr\n",
        "!git clone https://github.com/open-mmlab/mmocr.git\n",
        "%cd mmocr\n",
        "!pip install -r requirements.txt\n",
        "!pip install -v -e ."
      ],
      "outputs": [
        {
          "output_type": "stream",
          "name": "stdout",
          "text": [
            "Looking in links: https://download.openmmlab.com/mmcv/dist/cu113/torch1.11.0/index.html\n",
            "Collecting mmcv-full\n",
            "  Downloading https://download.openmmlab.com/mmcv/dist/cu113/torch1.11.0/mmcv_full-1.5.1-cp37-cp37m-manylinux1_x86_64.whl (37.7 MB)\n",
            "\u001b[K     |████████████████████████████████| 37.7 MB 74 kB/s \n",
            "\u001b[?25hRequirement already satisfied: opencv-python>=3 in /usr/local/lib/python3.7/dist-packages (from mmcv-full) (4.1.2.30)\n",
            "Requirement already satisfied: numpy in /usr/local/lib/python3.7/dist-packages (from mmcv-full) (1.21.6)\n",
            "Collecting addict\n",
            "  Downloading addict-2.4.0-py3-none-any.whl (3.8 kB)\n",
            "Requirement already satisfied: Pillow in /usr/local/lib/python3.7/dist-packages (from mmcv-full) (7.1.2)\n",
            "Collecting yapf\n",
            "  Downloading yapf-0.32.0-py2.py3-none-any.whl (190 kB)\n",
            "\u001b[K     |████████████████████████████████| 190 kB 17.7 MB/s \n",
            "\u001b[?25hRequirement already satisfied: pyyaml in /usr/local/lib/python3.7/dist-packages (from mmcv-full) (3.13)\n",
            "Requirement already satisfied: packaging in /usr/local/lib/python3.7/dist-packages (from mmcv-full) (21.3)\n",
            "Requirement already satisfied: pyparsing!=3.0.5,>=2.0.2 in /usr/local/lib/python3.7/dist-packages (from packaging->mmcv-full) (3.0.9)\n",
            "Installing collected packages: yapf, addict, mmcv-full\n",
            "Successfully installed addict-2.4.0 mmcv-full-1.5.1 yapf-0.32.0\n",
            "Collecting mmdet\n",
            "  Downloading mmdet-2.24.1-py3-none-any.whl (1.4 MB)\n",
            "\u001b[K     |████████████████████████████████| 1.4 MB 29.2 MB/s \n",
            "\u001b[?25hCollecting terminaltables\n",
            "  Downloading terminaltables-3.1.10-py2.py3-none-any.whl (15 kB)\n",
            "Requirement already satisfied: numpy in /usr/local/lib/python3.7/dist-packages (from mmdet) (1.21.6)\n",
            "Requirement already satisfied: six in /usr/local/lib/python3.7/dist-packages (from mmdet) (1.15.0)\n",
            "Requirement already satisfied: pycocotools in /usr/local/lib/python3.7/dist-packages (from mmdet) (2.0.4)\n",
            "Requirement already satisfied: matplotlib in /usr/local/lib/python3.7/dist-packages (from mmdet) (3.2.2)\n",
            "Requirement already satisfied: cycler>=0.10 in /usr/local/lib/python3.7/dist-packages (from matplotlib->mmdet) (0.11.0)\n",
            "Requirement already satisfied: kiwisolver>=1.0.1 in /usr/local/lib/python3.7/dist-packages (from matplotlib->mmdet) (1.4.2)\n",
            "Requirement already satisfied: pyparsing!=2.0.4,!=2.1.2,!=2.1.6,>=2.0.1 in /usr/local/lib/python3.7/dist-packages (from matplotlib->mmdet) (3.0.9)\n",
            "Requirement already satisfied: python-dateutil>=2.1 in /usr/local/lib/python3.7/dist-packages (from matplotlib->mmdet) (2.8.2)\n",
            "Requirement already satisfied: typing-extensions in /usr/local/lib/python3.7/dist-packages (from kiwisolver>=1.0.1->matplotlib->mmdet) (4.2.0)\n",
            "Installing collected packages: terminaltables, mmdet\n",
            "Successfully installed mmdet-2.24.1 terminaltables-3.1.10\n",
            "Cloning into 'mmocr'...\n",
            "remote: Enumerating objects: 6551, done.\u001b[K\n",
            "remote: Counting objects: 100% (484/484), done.\u001b[K\n",
            "remote: Compressing objects: 100% (353/353), done.\u001b[K\n",
            "remote: Total 6551 (delta 234), reused 268 (delta 124), pack-reused 6067\u001b[K\n",
            "Receiving objects: 100% (6551/6551), 13.18 MiB | 38.66 MiB/s, done.\n",
            "Resolving deltas: 100% (4012/4012), done.\n",
            "/mmocr\n",
            "Requirement already satisfied: numpy in /usr/local/lib/python3.7/dist-packages (from -r requirements/build.txt (line 2)) (1.21.6)\n",
            "Collecting pyclipper\n",
            "  Downloading pyclipper-1.3.0.post2-cp37-cp37m-manylinux_2_5_x86_64.manylinux1_x86_64.whl (603 kB)\n",
            "\u001b[K     |████████████████████████████████| 603 kB 29.7 MB/s \n",
            "\u001b[?25hRequirement already satisfied: torch>=1.1 in /usr/local/lib/python3.7/dist-packages (from -r requirements/build.txt (line 4)) (1.11.0+cu113)\n",
            "Requirement already satisfied: imgaug in /usr/local/lib/python3.7/dist-packages (from -r requirements/runtime.txt (line 1)) (0.2.9)\n",
            "Collecting lanms-neo==1.0.2\n",
            "  Downloading lanms_neo-1.0.2.tar.gz (39 kB)\n",
            "  Installing build dependencies ... \u001b[?25l\u001b[?25hdone\n",
            "  Getting requirements to build wheel ... \u001b[?25l\u001b[?25hdone\n",
            "    Preparing wheel metadata ... \u001b[?25l\u001b[?25hdone\n",
            "Requirement already satisfied: lmdb in /usr/local/lib/python3.7/dist-packages (from -r requirements/runtime.txt (line 3)) (0.99)\n",
            "Requirement already satisfied: matplotlib in /usr/local/lib/python3.7/dist-packages (from -r requirements/runtime.txt (line 4)) (3.2.2)\n",
            "Requirement already satisfied: opencv-python<=4.5.4.60 in /usr/local/lib/python3.7/dist-packages (from -r requirements/runtime.txt (line 6)) (4.1.2.30)\n",
            "Requirement already satisfied: pycocotools in /usr/local/lib/python3.7/dist-packages (from -r requirements/runtime.txt (line 8)) (2.0.4)\n",
            "Collecting rapidfuzz\n",
            "  Downloading rapidfuzz-2.0.11-cp37-cp37m-manylinux_2_17_x86_64.manylinux2014_x86_64.whl (1.8 MB)\n",
            "\u001b[K     |████████████████████████████████| 1.8 MB 60.8 MB/s \n",
            "\u001b[?25hRequirement already satisfied: scikit-image in /usr/local/lib/python3.7/dist-packages (from -r requirements/runtime.txt (line 10)) (0.18.3)\n",
            "Collecting asynctest\n",
            "  Downloading asynctest-0.13.0-py3-none-any.whl (26 kB)\n",
            "Collecting codecov\n",
            "  Downloading codecov-2.1.12-py2.py3-none-any.whl (16 kB)\n",
            "Collecting flake8\n",
            "  Downloading flake8-4.0.1-py2.py3-none-any.whl (64 kB)\n",
            "\u001b[K     |████████████████████████████████| 64 kB 3.6 MB/s \n",
            "\u001b[?25hCollecting isort\n",
            "  Downloading isort-5.10.1-py3-none-any.whl (103 kB)\n",
            "\u001b[K     |████████████████████████████████| 103 kB 71.7 MB/s \n",
            "\u001b[?25hCollecting kwarray\n",
            "  Downloading kwarray-0.6.0-py3-none-any.whl (78 kB)\n",
            "\u001b[K     |████████████████████████████████| 78 kB 9.0 MB/s \n",
            "\u001b[?25hRequirement already satisfied: pytest in /usr/local/lib/python3.7/dist-packages (from -r requirements/tests.txt (line 7)) (3.6.4)\n",
            "Collecting pytest-cov\n",
            "  Downloading pytest_cov-3.0.0-py3-none-any.whl (20 kB)\n",
            "Collecting pytest-runner\n",
            "  Downloading pytest_runner-6.0.0-py3-none-any.whl (7.2 kB)\n",
            "Collecting ubelt\n",
            "  Downloading ubelt-1.0.1-py3-none-any.whl (151 kB)\n",
            "\u001b[K     |████████████████████████████████| 151 kB 74.1 MB/s \n",
            "\u001b[?25hCollecting xdoctest>=0.10.0\n",
            "  Downloading xdoctest-1.0.0-py3-none-any.whl (117 kB)\n",
            "\u001b[K     |████████████████████████████████| 117 kB 79.5 MB/s \n",
            "\u001b[?25hRequirement already satisfied: yapf in /usr/local/lib/python3.7/dist-packages (from -r requirements/tests.txt (line 12)) (0.32.0)\n",
            "Requirement already satisfied: typing-extensions in /usr/local/lib/python3.7/dist-packages (from torch>=1.1->-r requirements/build.txt (line 4)) (4.2.0)\n",
            "Requirement already satisfied: six in /usr/local/lib/python3.7/dist-packages (from xdoctest>=0.10.0->-r requirements/tests.txt (line 11)) (1.15.0)\n",
            "Requirement already satisfied: Shapely in /usr/local/lib/python3.7/dist-packages (from imgaug->-r requirements/runtime.txt (line 1)) (1.8.2)\n",
            "Requirement already satisfied: Pillow in /usr/local/lib/python3.7/dist-packages (from imgaug->-r requirements/runtime.txt (line 1)) (7.1.2)\n",
            "Requirement already satisfied: imageio in /usr/local/lib/python3.7/dist-packages (from imgaug->-r requirements/runtime.txt (line 1)) (2.4.1)\n",
            "Requirement already satisfied: scipy in /usr/local/lib/python3.7/dist-packages (from imgaug->-r requirements/runtime.txt (line 1)) (1.4.1)\n",
            "Requirement already satisfied: PyWavelets>=1.1.1 in /usr/local/lib/python3.7/dist-packages (from scikit-image->-r requirements/runtime.txt (line 10)) (1.3.0)\n",
            "Requirement already satisfied: tifffile>=2019.7.26 in /usr/local/lib/python3.7/dist-packages (from scikit-image->-r requirements/runtime.txt (line 10)) (2021.11.2)\n",
            "Requirement already satisfied: networkx>=2.0 in /usr/local/lib/python3.7/dist-packages (from scikit-image->-r requirements/runtime.txt (line 10)) (2.6.3)\n",
            "Requirement already satisfied: python-dateutil>=2.1 in /usr/local/lib/python3.7/dist-packages (from matplotlib->-r requirements/runtime.txt (line 4)) (2.8.2)\n",
            "Requirement already satisfied: cycler>=0.10 in /usr/local/lib/python3.7/dist-packages (from matplotlib->-r requirements/runtime.txt (line 4)) (0.11.0)\n",
            "Requirement already satisfied: pyparsing!=2.0.4,!=2.1.2,!=2.1.6,>=2.0.1 in /usr/local/lib/python3.7/dist-packages (from matplotlib->-r requirements/runtime.txt (line 4)) (3.0.9)\n",
            "Requirement already satisfied: kiwisolver>=1.0.1 in /usr/local/lib/python3.7/dist-packages (from matplotlib->-r requirements/runtime.txt (line 4)) (1.4.2)\n",
            "Collecting jarowinkler<1.1.0,>=1.0.2\n",
            "  Downloading jarowinkler-1.0.2-cp37-cp37m-manylinux_2_17_x86_64.manylinux2014_x86_64.whl (103 kB)\n",
            "\u001b[K     |████████████████████████████████| 103 kB 70.1 MB/s \n",
            "\u001b[?25hRequirement already satisfied: coverage in /usr/local/lib/python3.7/dist-packages (from codecov->-r requirements/tests.txt (line 2)) (3.7.1)\n",
            "Requirement already satisfied: requests>=2.7.9 in /usr/local/lib/python3.7/dist-packages (from codecov->-r requirements/tests.txt (line 2)) (2.23.0)\n",
            "Requirement already satisfied: certifi>=2017.4.17 in /usr/local/lib/python3.7/dist-packages (from requests>=2.7.9->codecov->-r requirements/tests.txt (line 2)) (2021.10.8)\n",
            "Requirement already satisfied: idna<3,>=2.5 in /usr/local/lib/python3.7/dist-packages (from requests>=2.7.9->codecov->-r requirements/tests.txt (line 2)) (2.10)\n",
            "Requirement already satisfied: chardet<4,>=3.0.2 in /usr/local/lib/python3.7/dist-packages (from requests>=2.7.9->codecov->-r requirements/tests.txt (line 2)) (3.0.4)\n",
            "Requirement already satisfied: urllib3!=1.25.0,!=1.25.1,<1.26,>=1.21.1 in /usr/local/lib/python3.7/dist-packages (from requests>=2.7.9->codecov->-r requirements/tests.txt (line 2)) (1.24.3)\n",
            "Collecting mccabe<0.7.0,>=0.6.0\n",
            "  Downloading mccabe-0.6.1-py2.py3-none-any.whl (8.6 kB)\n",
            "Collecting pyflakes<2.5.0,>=2.4.0\n",
            "  Downloading pyflakes-2.4.0-py2.py3-none-any.whl (69 kB)\n",
            "\u001b[K     |████████████████████████████████| 69 kB 10.1 MB/s \n",
            "\u001b[?25hCollecting importlib-metadata<4.3\n",
            "  Downloading importlib_metadata-4.2.0-py3-none-any.whl (16 kB)\n",
            "Collecting pycodestyle<2.9.0,>=2.8.0\n",
            "  Downloading pycodestyle-2.8.0-py2.py3-none-any.whl (42 kB)\n",
            "\u001b[K     |████████████████████████████████| 42 kB 1.2 MB/s \n",
            "\u001b[?25hRequirement already satisfied: zipp>=0.5 in /usr/local/lib/python3.7/dist-packages (from importlib-metadata<4.3->flake8->-r requirements/tests.txt (line 3)) (3.8.0)\n",
            "Requirement already satisfied: attrs>=17.4.0 in /usr/local/lib/python3.7/dist-packages (from pytest->-r requirements/tests.txt (line 7)) (21.4.0)\n",
            "Requirement already satisfied: atomicwrites>=1.0 in /usr/local/lib/python3.7/dist-packages (from pytest->-r requirements/tests.txt (line 7)) (1.4.0)\n",
            "Requirement already satisfied: pluggy<0.8,>=0.5 in /usr/local/lib/python3.7/dist-packages (from pytest->-r requirements/tests.txt (line 7)) (0.7.1)\n",
            "Requirement already satisfied: more-itertools>=4.0.0 in /usr/local/lib/python3.7/dist-packages (from pytest->-r requirements/tests.txt (line 7)) (8.13.0)\n",
            "Requirement already satisfied: setuptools in /usr/local/lib/python3.7/dist-packages (from pytest->-r requirements/tests.txt (line 7)) (57.4.0)\n",
            "Requirement already satisfied: py>=1.5.0 in /usr/local/lib/python3.7/dist-packages (from pytest->-r requirements/tests.txt (line 7)) (1.11.0)\n",
            "Collecting coverage[toml]>=5.2.1\n",
            "  Downloading coverage-6.3.3-cp37-cp37m-manylinux_2_5_x86_64.manylinux1_x86_64.manylinux_2_17_x86_64.manylinux2014_x86_64.whl (207 kB)\n",
            "\u001b[K     |████████████████████████████████| 207 kB 65.9 MB/s \n",
            "\u001b[?25hCollecting pytest\n",
            "  Downloading pytest-7.1.2-py3-none-any.whl (297 kB)\n",
            "\u001b[K     |████████████████████████████████| 297 kB 64.1 MB/s \n",
            "\u001b[?25hRequirement already satisfied: packaging in /usr/local/lib/python3.7/dist-packages (from pytest->-r requirements/tests.txt (line 7)) (21.3)\n",
            "Requirement already satisfied: tomli>=1.0.0 in /usr/local/lib/python3.7/dist-packages (from pytest->-r requirements/tests.txt (line 7)) (2.0.1)\n",
            "  Downloading pytest-7.1.1-py3-none-any.whl (297 kB)\n",
            "\u001b[K     |████████████████████████████████| 297 kB 79.7 MB/s \n",
            "\u001b[?25h  Downloading pytest-7.1.0-py3-none-any.whl (297 kB)\n",
            "\u001b[K     |████████████████████████████████| 297 kB 68.8 MB/s \n",
            "\u001b[?25h  Downloading pytest-7.0.1-py3-none-any.whl (296 kB)\n",
            "\u001b[K     |████████████████████████████████| 296 kB 60.3 MB/s \n",
            "\u001b[?25h  Downloading pytest-7.0.0-py3-none-any.whl (296 kB)\n",
            "\u001b[K     |████████████████████████████████| 296 kB 75.1 MB/s \n",
            "\u001b[?25h  Downloading pytest-6.2.5-py3-none-any.whl (280 kB)\n",
            "\u001b[K     |████████████████████████████████| 280 kB 81.3 MB/s \n",
            "\u001b[?25hCollecting toml\n",
            "  Downloading toml-0.10.2-py2.py3-none-any.whl (16 kB)\n",
            "Collecting pytest\n",
            "  Downloading pytest-6.2.4-py3-none-any.whl (280 kB)\n",
            "\u001b[K     |████████████████████████████████| 280 kB 81.8 MB/s \n",
            "\u001b[?25h  Downloading pytest-6.2.3-py3-none-any.whl (280 kB)\n",
            "\u001b[K     |████████████████████████████████| 280 kB 78.9 MB/s \n",
            "\u001b[?25h  Downloading pytest-6.2.2-py3-none-any.whl (280 kB)\n",
            "\u001b[K     |████████████████████████████████| 280 kB 80.0 MB/s \n",
            "\u001b[?25h  Downloading pytest-6.2.1-py3-none-any.whl (279 kB)\n",
            "\u001b[K     |████████████████████████████████| 279 kB 77.9 MB/s \n",
            "\u001b[?25h  Downloading pytest-6.2.0-py3-none-any.whl (279 kB)\n",
            "\u001b[K     |████████████████████████████████| 279 kB 82.5 MB/s \n",
            "\u001b[?25h  Downloading pytest-6.1.2-py3-none-any.whl (272 kB)\n",
            "\u001b[K     |████████████████████████████████| 272 kB 81.8 MB/s \n",
            "\u001b[?25h  Downloading pytest-6.1.1-py3-none-any.whl (272 kB)\n",
            "\u001b[K     |████████████████████████████████| 272 kB 80.2 MB/s \n",
            "\u001b[?25h  Downloading pytest-6.1.0-py3-none-any.whl (272 kB)\n",
            "\u001b[K     |████████████████████████████████| 272 kB 78.4 MB/s \n",
            "\u001b[?25h  Downloading pytest-6.0.2-py3-none-any.whl (270 kB)\n",
            "\u001b[K     |████████████████████████████████| 270 kB 67.2 MB/s \n",
            "\u001b[?25h  Downloading pytest-6.0.1-py3-none-any.whl (270 kB)\n",
            "\u001b[K     |████████████████████████████████| 270 kB 82.8 MB/s \n",
            "\u001b[?25h  Downloading pytest-6.0.0-py3-none-any.whl (270 kB)\n",
            "\u001b[K     |████████████████████████████████| 270 kB 81.1 MB/s \n",
            "\u001b[?25h  Downloading pytest-5.4.3-py3-none-any.whl (248 kB)\n",
            "\u001b[K     |████████████████████████████████| 248 kB 76.8 MB/s \n",
            "\u001b[?25hRequirement already satisfied: wcwidth in /usr/local/lib/python3.7/dist-packages (from pytest->-r requirements/tests.txt (line 7)) (0.2.5)\n",
            "  Downloading pytest-5.4.2-py3-none-any.whl (247 kB)\n",
            "\u001b[K     |████████████████████████████████| 247 kB 70.6 MB/s \n",
            "\u001b[?25h  Downloading pytest-5.4.1-py3-none-any.whl (246 kB)\n",
            "\u001b[K     |████████████████████████████████| 246 kB 81.0 MB/s \n",
            "\u001b[?25h  Downloading pytest-5.4.0-py3-none-any.whl (247 kB)\n",
            "\u001b[K     |████████████████████████████████| 247 kB 80.2 MB/s \n",
            "\u001b[?25h  Downloading pytest-5.3.5-py3-none-any.whl (235 kB)\n",
            "\u001b[K     |████████████████████████████████| 235 kB 74.7 MB/s \n",
            "\u001b[?25h  Downloading pytest-5.3.4-py3-none-any.whl (235 kB)\n",
            "\u001b[K     |████████████████████████████████| 235 kB 77.0 MB/s \n",
            "\u001b[?25h  Downloading pytest-5.3.3-py3-none-any.whl (235 kB)\n",
            "\u001b[K     |████████████████████████████████| 235 kB 78.6 MB/s \n",
            "\u001b[?25h  Downloading pytest-5.3.2-py3-none-any.whl (234 kB)\n",
            "\u001b[K     |████████████████████████████████| 234 kB 79.9 MB/s \n",
            "\u001b[?25h  Downloading pytest-5.3.1-py3-none-any.whl (233 kB)\n",
            "\u001b[K     |████████████████████████████████| 233 kB 76.3 MB/s \n",
            "\u001b[?25h  Downloading pytest-5.3.0-py3-none-any.whl (233 kB)\n",
            "\u001b[K     |████████████████████████████████| 233 kB 80.1 MB/s \n",
            "\u001b[?25h  Downloading pytest-5.2.4-py3-none-any.whl (227 kB)\n",
            "\u001b[K     |████████████████████████████████| 227 kB 59.2 MB/s \n",
            "\u001b[?25h  Downloading pytest-5.2.3-py3-none-any.whl (227 kB)\n",
            "\u001b[K     |████████████████████████████████| 227 kB 78.0 MB/s \n",
            "\u001b[?25h  Downloading pytest-5.2.2-py3-none-any.whl (227 kB)\n",
            "\u001b[K     |████████████████████████████████| 227 kB 79.7 MB/s \n",
            "\u001b[?25h  Downloading pytest-5.2.1-py3-none-any.whl (226 kB)\n",
            "\u001b[K     |████████████████████████████████| 226 kB 81.7 MB/s \n",
            "\u001b[?25h  Downloading pytest-5.2.0-py3-none-any.whl (226 kB)\n",
            "\u001b[K     |████████████████████████████████| 226 kB 79.6 MB/s \n",
            "\u001b[?25h  Downloading pytest-5.1.3-py3-none-any.whl (224 kB)\n",
            "\u001b[K     |████████████████████████████████| 224 kB 55.7 MB/s \n",
            "\u001b[?25h  Downloading pytest-5.1.2-py3-none-any.whl (224 kB)\n",
            "\u001b[K     |████████████████████████████████| 224 kB 80.8 MB/s \n",
            "\u001b[?25h  Downloading pytest-5.1.1-py3-none-any.whl (223 kB)\n",
            "\u001b[K     |████████████████████████████████| 223 kB 81.0 MB/s \n",
            "\u001b[?25h  Downloading pytest-5.1.0-py3-none-any.whl (223 kB)\n",
            "\u001b[K     |████████████████████████████████| 223 kB 74.4 MB/s \n",
            "\u001b[?25h  Downloading pytest-5.0.1-py3-none-any.whl (221 kB)\n",
            "\u001b[K     |████████████████████████████████| 221 kB 78.8 MB/s \n",
            "\u001b[?25h  Downloading pytest-5.0.0-py3-none-any.whl (221 kB)\n",
            "\u001b[K     |████████████████████████████████| 221 kB 73.7 MB/s \n",
            "\u001b[?25h  Downloading pytest-4.6.11-py2.py3-none-any.whl (231 kB)\n",
            "\u001b[K     |████████████████████████████████| 231 kB 57.9 MB/s \n",
            "\u001b[?25h  Downloading pytest-4.6.10-py2.py3-none-any.whl (231 kB)\n",
            "\u001b[K     |████████████████████████████████| 231 kB 79.9 MB/s \n",
            "\u001b[?25h  Downloading pytest-4.6.9-py2.py3-none-any.whl (231 kB)\n",
            "\u001b[K     |████████████████████████████████| 231 kB 76.3 MB/s \n",
            "\u001b[?25h  Downloading pytest-4.6.8-py2.py3-none-any.whl (230 kB)\n",
            "\u001b[K     |████████████████████████████████| 230 kB 78.0 MB/s \n",
            "\u001b[?25h  Downloading pytest-4.6.7-py2.py3-none-any.whl (230 kB)\n",
            "\u001b[K     |████████████████████████████████| 230 kB 74.3 MB/s \n",
            "\u001b[?25h  Downloading pytest-4.6.6-py2.py3-none-any.whl (230 kB)\n",
            "\u001b[K     |████████████████████████████████| 230 kB 71.7 MB/s \n",
            "\u001b[?25h  Downloading pytest-4.6.5-py2.py3-none-any.whl (230 kB)\n",
            "\u001b[K     |████████████████████████████████| 230 kB 79.5 MB/s \n",
            "\u001b[?25h  Downloading pytest-4.6.4-py2.py3-none-any.whl (229 kB)\n",
            "\u001b[K     |████████████████████████████████| 229 kB 72.2 MB/s \n",
            "\u001b[?25h  Downloading pytest-4.6.3-py2.py3-none-any.whl (229 kB)\n",
            "\u001b[K     |████████████████████████████████| 229 kB 81.0 MB/s \n",
            "\u001b[?25h  Downloading pytest-4.6.2-py2.py3-none-any.whl (229 kB)\n",
            "\u001b[K     |████████████████████████████████| 229 kB 79.9 MB/s \n",
            "\u001b[?25h  Downloading pytest-4.6.1-py2.py3-none-any.whl (229 kB)\n",
            "\u001b[K     |████████████████████████████████| 229 kB 70.4 MB/s \n",
            "\u001b[?25h  Downloading pytest-4.6.0-py2.py3-none-any.whl (229 kB)\n",
            "\u001b[K     |████████████████████████████████| 229 kB 63.4 MB/s \n",
            "\u001b[?25hINFO: pip is looking at multiple versions of pytest-cov to determine which version is compatible with other requirements. This could take a while.\n",
            "Collecting pytest-cov\n",
            "  Downloading pytest_cov-2.12.1-py2.py3-none-any.whl (20 kB)\n",
            "  Downloading pytest_cov-2.12.0-py2.py3-none-any.whl (20 kB)\n",
            "  Downloading pytest_cov-2.11.1-py2.py3-none-any.whl (20 kB)\n",
            "  Downloading pytest_cov-2.11.0-py2.py3-none-any.whl (20 kB)\n",
            "  Downloading pytest_cov-2.10.1-py2.py3-none-any.whl (19 kB)\n",
            "  Downloading pytest_cov-2.10.0-py2.py3-none-any.whl (19 kB)\n",
            "  Downloading pytest_cov-2.9.0-py2.py3-none-any.whl (19 kB)\n",
            "Collecting ordered-set\n",
            "  Downloading ordered_set-4.1.0-py3-none-any.whl (7.6 kB)\n",
            "Building wheels for collected packages: lanms-neo\n",
            "  Building wheel for lanms-neo (PEP 517) ... \u001b[?25l\u001b[?25hdone\n",
            "  Created wheel for lanms-neo: filename=lanms_neo-1.0.2-cp37-cp37m-linux_x86_64.whl size=107341 sha256=069066d592024fb070c58dcd9f275b63db86f74e0e1587fc597756295491371c\n",
            "  Stored in directory: /root/.cache/pip/wheels/09/7b/5e/1e4d24a8f94c1116afa284ce2968ef2f72b986a5457164b340\n",
            "Successfully built lanms-neo\n",
            "Installing collected packages: ordered-set, ubelt, pyflakes, pycodestyle, mccabe, jarowinkler, importlib-metadata, coverage, xdoctest, rapidfuzz, pytest-runner, pytest-cov, pyclipper, lanms-neo, kwarray, isort, flake8, codecov, asynctest\n",
            "  Attempting uninstall: importlib-metadata\n",
            "    Found existing installation: importlib-metadata 4.11.3\n",
            "    Uninstalling importlib-metadata-4.11.3:\n",
            "      Successfully uninstalled importlib-metadata-4.11.3\n",
            "  Attempting uninstall: coverage\n",
            "    Found existing installation: coverage 3.7.1\n",
            "    Uninstalling coverage-3.7.1:\n",
            "      Successfully uninstalled coverage-3.7.1\n",
            "\u001b[31mERROR: pip's dependency resolver does not currently take into account all the packages that are installed. This behaviour is the source of the following dependency conflicts.\n",
            "markdown 3.3.7 requires importlib-metadata>=4.4; python_version < \"3.10\", but you have importlib-metadata 4.2.0 which is incompatible.\n",
            "datascience 0.10.6 requires coverage==3.7.1, but you have coverage 6.3.3 which is incompatible.\n",
            "datascience 0.10.6 requires folium==0.2.1, but you have folium 0.8.3 which is incompatible.\n",
            "coveralls 0.5 requires coverage<3.999,>=3.6, but you have coverage 6.3.3 which is incompatible.\u001b[0m\n",
            "Successfully installed asynctest-0.13.0 codecov-2.1.12 coverage-6.3.3 flake8-4.0.1 importlib-metadata-4.2.0 isort-5.10.1 jarowinkler-1.0.2 kwarray-0.6.0 lanms-neo-1.0.2 mccabe-0.6.1 ordered-set-4.1.0 pyclipper-1.3.0.post2 pycodestyle-2.8.0 pyflakes-2.4.0 pytest-cov-2.9.0 pytest-runner-6.0.0 rapidfuzz-2.0.11 ubelt-1.0.1 xdoctest-1.0.0\n",
            "Using pip 21.1.3 from /usr/local/lib/python3.7/dist-packages/pip (python 3.7)\n",
            "Value for scheme.platlib does not match. Please report this to <https://github.com/pypa/pip/issues/9617>\n",
            "distutils: /usr/local/lib/python3.7/dist-packages\n",
            "sysconfig: /usr/lib/python3.7/site-packages\n",
            "Value for scheme.purelib does not match. Please report this to <https://github.com/pypa/pip/issues/9617>\n",
            "distutils: /usr/local/lib/python3.7/dist-packages\n",
            "sysconfig: /usr/lib/python3.7/site-packages\n",
            "Value for scheme.headers does not match. Please report this to <https://github.com/pypa/pip/issues/9617>\n",
            "distutils: /usr/local/include/python3.7/UNKNOWN\n",
            "sysconfig: /usr/include/python3.7m/UNKNOWN\n",
            "Value for scheme.scripts does not match. Please report this to <https://github.com/pypa/pip/issues/9617>\n",
            "distutils: /usr/local/bin\n",
            "sysconfig: /usr/bin\n",
            "Value for scheme.data does not match. Please report this to <https://github.com/pypa/pip/issues/9617>\n",
            "distutils: /usr/local\n",
            "sysconfig: /usr\n",
            "Additional context:\n",
            "user = False\n",
            "home = None\n",
            "root = None\n",
            "prefix = None\n",
            "Non-user install because site-packages writeable\n",
            "Created temporary directory: /tmp/pip-ephem-wheel-cache-73hulhml\n",
            "Created temporary directory: /tmp/pip-req-tracker-ca71yvhf\n",
            "Initialized build tracking at /tmp/pip-req-tracker-ca71yvhf\n",
            "Created build tracker: /tmp/pip-req-tracker-ca71yvhf\n",
            "Entered build tracker: /tmp/pip-req-tracker-ca71yvhf\n",
            "Created temporary directory: /tmp/pip-install-8vjqgder\n",
            "Obtaining file:///mmocr\n",
            "  Added file:///mmocr to build tracker '/tmp/pip-req-tracker-ca71yvhf'\n",
            "    Running setup.py (path:/mmocr/setup.py) egg_info for package from file:///mmocr\n",
            "    Created temporary directory: /tmp/pip-pip-egg-info-n9tv5k2x\n",
            "    Running command python setup.py egg_info\n",
            "    running egg_info\n",
            "    creating /tmp/pip-pip-egg-info-n9tv5k2x/mmocr.egg-info\n",
            "    writing /tmp/pip-pip-egg-info-n9tv5k2x/mmocr.egg-info/PKG-INFO\n",
            "    writing dependency_links to /tmp/pip-pip-egg-info-n9tv5k2x/mmocr.egg-info/dependency_links.txt\n",
            "    writing requirements to /tmp/pip-pip-egg-info-n9tv5k2x/mmocr.egg-info/requires.txt\n",
            "    writing top-level names to /tmp/pip-pip-egg-info-n9tv5k2x/mmocr.egg-info/top_level.txt\n",
            "    writing manifest file '/tmp/pip-pip-egg-info-n9tv5k2x/mmocr.egg-info/SOURCES.txt'\n",
            "    reading manifest template 'MANIFEST.in'\n",
            "    warning: no files found matching 'mmocr/.mim/model-index.yml'\n",
            "    warning: no files found matching '*.py' under directory 'mmocr/.mim/configs'\n",
            "    warning: no files found matching '*.yml' under directory 'mmocr/.mim/configs'\n",
            "    warning: no files found matching '*.sh' under directory 'mmocr/.mim/tools'\n",
            "    warning: no files found matching '*.py' under directory 'mmocr/.mim/tools'\n",
            "    adding license file 'LICENSE'\n",
            "    writing manifest file '/tmp/pip-pip-egg-info-n9tv5k2x/mmocr.egg-info/SOURCES.txt'\n",
            "  Source in /mmocr has version 0.6.0, which satisfies requirement mmocr==0.6.0 from file:///mmocr\n",
            "  Removed mmocr==0.6.0 from file:///mmocr from build tracker '/tmp/pip-req-tracker-ca71yvhf'\n",
            "Requirement already satisfied: imgaug in /usr/local/lib/python3.7/dist-packages (from mmocr==0.6.0) (0.2.9)\n",
            "Requirement already satisfied: lanms-neo==1.0.2 in /usr/local/lib/python3.7/dist-packages (from mmocr==0.6.0) (1.0.2)\n",
            "Requirement already satisfied: lmdb in /usr/local/lib/python3.7/dist-packages (from mmocr==0.6.0) (0.99)\n",
            "Requirement already satisfied: matplotlib in /usr/local/lib/python3.7/dist-packages (from mmocr==0.6.0) (3.2.2)\n",
            "Requirement already satisfied: numpy in /usr/local/lib/python3.7/dist-packages (from mmocr==0.6.0) (1.21.6)\n",
            "Requirement already satisfied: opencv-python<=4.5.4.60 in /usr/local/lib/python3.7/dist-packages (from mmocr==0.6.0) (4.1.2.30)\n",
            "Requirement already satisfied: pyclipper in /usr/local/lib/python3.7/dist-packages (from mmocr==0.6.0) (1.3.0.post2)\n",
            "Requirement already satisfied: pycocotools in /usr/local/lib/python3.7/dist-packages (from mmocr==0.6.0) (2.0.4)\n",
            "Requirement already satisfied: rapidfuzz in /usr/local/lib/python3.7/dist-packages (from mmocr==0.6.0) (2.0.11)\n",
            "Requirement already satisfied: scikit-image in /usr/local/lib/python3.7/dist-packages (from mmocr==0.6.0) (0.18.3)\n",
            "Requirement already satisfied: Pillow in /usr/local/lib/python3.7/dist-packages (from imgaug->mmocr==0.6.0) (7.1.2)\n",
            "Requirement already satisfied: scipy in /usr/local/lib/python3.7/dist-packages (from imgaug->mmocr==0.6.0) (1.4.1)\n",
            "Requirement already satisfied: six in /usr/local/lib/python3.7/dist-packages (from imgaug->mmocr==0.6.0) (1.15.0)\n",
            "Requirement already satisfied: Shapely in /usr/local/lib/python3.7/dist-packages (from imgaug->mmocr==0.6.0) (1.8.2)\n",
            "Requirement already satisfied: imageio in /usr/local/lib/python3.7/dist-packages (from imgaug->mmocr==0.6.0) (2.4.1)\n",
            "Requirement already satisfied: networkx>=2.0 in /usr/local/lib/python3.7/dist-packages (from scikit-image->mmocr==0.6.0) (2.6.3)\n",
            "Requirement already satisfied: tifffile>=2019.7.26 in /usr/local/lib/python3.7/dist-packages (from scikit-image->mmocr==0.6.0) (2021.11.2)\n",
            "Requirement already satisfied: PyWavelets>=1.1.1 in /usr/local/lib/python3.7/dist-packages (from scikit-image->mmocr==0.6.0) (1.3.0)\n",
            "Requirement already satisfied: pyparsing!=2.0.4,!=2.1.2,!=2.1.6,>=2.0.1 in /usr/local/lib/python3.7/dist-packages (from matplotlib->mmocr==0.6.0) (3.0.9)\n",
            "Requirement already satisfied: python-dateutil>=2.1 in /usr/local/lib/python3.7/dist-packages (from matplotlib->mmocr==0.6.0) (2.8.2)\n",
            "Requirement already satisfied: cycler>=0.10 in /usr/local/lib/python3.7/dist-packages (from matplotlib->mmocr==0.6.0) (0.11.0)\n",
            "Requirement already satisfied: kiwisolver>=1.0.1 in /usr/local/lib/python3.7/dist-packages (from matplotlib->mmocr==0.6.0) (1.4.2)\n",
            "Requirement already satisfied: typing-extensions in /usr/local/lib/python3.7/dist-packages (from kiwisolver>=1.0.1->matplotlib->mmocr==0.6.0) (4.2.0)\n",
            "Requirement already satisfied: jarowinkler<1.1.0,>=1.0.2 in /usr/local/lib/python3.7/dist-packages (from rapidfuzz->mmocr==0.6.0) (1.0.2)\n",
            "Created temporary directory: /tmp/pip-unpack-l4uh7bjt\n",
            "Installing collected packages: mmocr\n",
            "  Value for scheme.platlib does not match. Please report this to <https://github.com/pypa/pip/issues/9617>\n",
            "  distutils: /usr/local/lib/python3.7/dist-packages\n",
            "  sysconfig: /usr/lib/python3.7/site-packages\n",
            "  Value for scheme.purelib does not match. Please report this to <https://github.com/pypa/pip/issues/9617>\n",
            "  distutils: /usr/local/lib/python3.7/dist-packages\n",
            "  sysconfig: /usr/lib/python3.7/site-packages\n",
            "  Value for scheme.headers does not match. Please report this to <https://github.com/pypa/pip/issues/9617>\n",
            "  distutils: /usr/local/include/python3.7/mmocr\n",
            "  sysconfig: /usr/include/python3.7m/mmocr\n",
            "  Value for scheme.scripts does not match. Please report this to <https://github.com/pypa/pip/issues/9617>\n",
            "  distutils: /usr/local/bin\n",
            "  sysconfig: /usr/bin\n",
            "  Value for scheme.data does not match. Please report this to <https://github.com/pypa/pip/issues/9617>\n",
            "  distutils: /usr/local\n",
            "  sysconfig: /usr\n",
            "  Additional context:\n",
            "  user = False\n",
            "  home = None\n",
            "  root = None\n",
            "  prefix = None\n",
            "  Running setup.py develop for mmocr\n",
            "    Running command /usr/bin/python3 -c 'import io, os, sys, setuptools, tokenize; sys.argv[0] = '\"'\"'/mmocr/setup.py'\"'\"'; __file__='\"'\"'/mmocr/setup.py'\"'\"';f = getattr(tokenize, '\"'\"'open'\"'\"', open)(__file__) if os.path.exists(__file__) else io.StringIO('\"'\"'from setuptools import setup; setup()'\"'\"');code = f.read().replace('\"'\"'\\r\\n'\"'\"', '\"'\"'\\n'\"'\"');f.close();exec(compile(code, __file__, '\"'\"'exec'\"'\"'))' develop --no-deps\n",
            "    running develop\n",
            "    running egg_info\n",
            "    creating mmocr.egg-info\n",
            "    writing mmocr.egg-info/PKG-INFO\n",
            "    writing dependency_links to mmocr.egg-info/dependency_links.txt\n",
            "    writing requirements to mmocr.egg-info/requires.txt\n",
            "    writing top-level names to mmocr.egg-info/top_level.txt\n",
            "    writing manifest file 'mmocr.egg-info/SOURCES.txt'\n",
            "    reading manifest template 'MANIFEST.in'\n",
            "    adding license file 'LICENSE'\n",
            "    writing manifest file 'mmocr.egg-info/SOURCES.txt'\n",
            "    running build_ext\n",
            "    Creating /usr/local/lib/python3.7/dist-packages/mmocr.egg-link (link to .)\n",
            "    Adding mmocr 0.6.0 to easy-install.pth file\n",
            "\n",
            "    Installed /mmocr\n",
            "Value for scheme.platlib does not match. Please report this to <https://github.com/pypa/pip/issues/9617>\n",
            "distutils: /usr/local/lib/python3.7/dist-packages\n",
            "sysconfig: /usr/lib/python3.7/site-packages\n",
            "Value for scheme.purelib does not match. Please report this to <https://github.com/pypa/pip/issues/9617>\n",
            "distutils: /usr/local/lib/python3.7/dist-packages\n",
            "sysconfig: /usr/lib/python3.7/site-packages\n",
            "Value for scheme.headers does not match. Please report this to <https://github.com/pypa/pip/issues/9617>\n",
            "distutils: /usr/local/include/python3.7/UNKNOWN\n",
            "sysconfig: /usr/include/python3.7m/UNKNOWN\n",
            "Value for scheme.scripts does not match. Please report this to <https://github.com/pypa/pip/issues/9617>\n",
            "distutils: /usr/local/bin\n",
            "sysconfig: /usr/bin\n",
            "Value for scheme.data does not match. Please report this to <https://github.com/pypa/pip/issues/9617>\n",
            "distutils: /usr/local\n",
            "sysconfig: /usr\n",
            "Additional context:\n",
            "user = False\n",
            "home = None\n",
            "root = None\n",
            "prefix = None\n",
            "Successfully installed mmocr-0.6.0\n",
            "Removed build tracker: '/tmp/pip-req-tracker-ca71yvhf'\n"
          ]
        }
      ],
      "metadata": {
        "id": "DwDY3puNNmhe",
        "tags": [
          "outputPrepend"
        ],
        "colab": {
          "base_uri": "https://localhost:8080/"
        },
        "outputId": "ed50fe64-5c62-4d15-e509-d9eb508ee2bb"
      }
    },
    {
      "cell_type": "markdown",
      "source": [
        "### Check Installed Dependencies Versions"
      ],
      "metadata": {
        "id": "DY64JCc0pEUu"
      }
    },
    {
      "cell_type": "code",
      "execution_count": 4,
      "source": [
        "# Check Pytorch installation\n",
        "import torch, torchvision\n",
        "print(torch.__version__, torch.cuda.is_available())\n",
        "\n",
        "# Check MMDetection installation\n",
        "import mmdet\n",
        "print(mmdet.__version__)\n",
        "\n",
        "# Check mmcv installation\n",
        "import mmcv\n",
        "from mmcv.ops import get_compiling_cuda_version, get_compiler_version\n",
        "print(mmcv.__version__)\n",
        "print(get_compiling_cuda_version())\n",
        "print(get_compiler_version())\n",
        "\n",
        "# Check mmocr installation\n",
        "import mmocr\n",
        "print(mmocr.__version__)\n",
        "\n",
        "%cd /mmocr/\n",
        "!ls"
      ],
      "outputs": [
        {
          "output_type": "stream",
          "name": "stdout",
          "text": [
            "1.11.0+cu113 True\n",
            "2.24.1\n",
            "1.5.1\n",
            "11.3\n",
            "GCC 7.3\n",
            "0.6.0\n",
            "/mmocr\n",
            "CITATION.cff  docs\t   mmocr.egg-info   requirements      setup.py\n",
            "configs       LICENSE\t   model-index.yml  requirements.txt  tests\n",
            "demo\t      MANIFEST.in  README.md\t    resources\t      tools\n",
            "docker\t      mmocr\t   README_zh-CN.md  setup.cfg\n"
          ]
        }
      ],
      "metadata": {
        "id": "JABQfPwQN52g",
        "colab": {
          "base_uri": "https://localhost:8080/"
        },
        "outputId": "d041f471-8739-4d2e-a621-bc0775f870f1"
      }
    },
    {
      "cell_type": "markdown",
      "source": [
        "#Perform Training on a Toy Dataset with MMOCR Recognizer\n",
        "We now demonstrate how to perform training with an MMOCR recognizer. Since training a full academic dataset is time consuming (usually takes about several hours), we will train on the toy dataset for the SAR text recognition model and visualize the predictions.\n",
        "\n",
        "Training a dataset usually consists of the following steps:\n",
        "1. Convert the dataset into a format supported by MMOCR (e.g. COCO for text detection). The annotation file can be in either .txt or .lmdb format, depending on the size of the dataset. This step is usually applicable to customized datasets, since the datasets and annotation files we provide are already in supported formats. \n",
        "2. Modify the config for training. \n",
        "3. Train the model. \n",
        "\n"
      ],
      "metadata": {
        "id": "nYon41X7RTOT"
      }
    },
    {
      "cell_type": "markdown",
      "source": [
        "## About the Toy Dataset\n",
        "\n",
        "In this tutorial, we will be working with the dataset under the folder `toy_dataset`. \n",
        "\n",
        "Each of the image have the accompnying `annotation` file generated using the `labelme`\n",
        "\n",
        "The images were stored under the following path\n",
        "\n",
        "`/mmocr/tests/data/toy_dataset/imgs/test`\n",
        "\n",
        "The annotation were stored under  the following path\n",
        "\n",
        "`/mmocr/tests/data/toy_dataset/labelme`\n",
        "\n",
        "\n"
      ],
      "metadata": {
        "id": "FElJSp1vpEUz"
      }
    },
    {
      "cell_type": "code",
      "source": [
        "# Print list of images and annotation available under the`toy_dataset` folder\n",
        "!cat /mmocr/tests/data/toy_dataset/img_list.txt"
      ],
      "metadata": {
        "id": "FzyOZkrwCxEE",
        "colab": {
          "base_uri": "https://localhost:8080/"
        },
        "outputId": "626471ad-9469-4395-f845-842e75b8f2aa"
      },
      "execution_count": 5,
      "outputs": [
        {
          "output_type": "stream",
          "name": "stdout",
          "text": [
            "img_10.jpg\n",
            "img_1.jpg\n",
            "img_2.jpg\n",
            "img_3.jpg\n",
            "img_4.jpg\n",
            "img_5.jpg\n",
            "img_6.jpg\n",
            "img_7.jpg\n",
            "img_8.jpg\n",
            "img_9.jpg\n"
          ]
        }
      ]
    },
    {
      "cell_type": "markdown",
      "source": [
        "We first get a sense of what the toy dataset looks like by visualizing one of the images and labels. "
      ],
      "metadata": {
        "id": "qLEON60YC1Lj"
      }
    },
    {
      "cell_type": "code",
      "execution_count": 6,
      "source": [
        "import mmcv\n",
        "import matplotlib.pyplot as plt \n",
        "\n",
        "#To ensure we are in the root directory\n",
        "%cd .. \n",
        "\n",
        "img = mmcv.imread('/mmocr/tests/data/toy_dataset/imgs/test/img_1.jpg')\n",
        "\n",
        "plt.imshow(mmcv.bgr2rgb(img))\n",
        "plt.show()"
      ],
      "outputs": [
        {
          "output_type": "stream",
          "name": "stdout",
          "text": [
            "/\n"
          ]
        },
        {
          "output_type": "display_data",
          "data": {
            "text/plain": [
              "<Figure size 432x288 with 1 Axes>"
            ],
            "image/png": "[encoded data removed]"
          },
          "metadata": {
            "needs_background": "light"
          }
        }
      ],
      "metadata": {
        "id": "hZfd2pnqN5-Q",
        "colab": {
          "base_uri": "https://localhost:8080/",
          "height": 258
        },
        "outputId": "7d59ad49-4e7b-4237-870a-37f0e823b1e1"
      }
    },
    {
      "cell_type": "markdown",
      "source": [
        "Let visualise the annotation"
      ],
      "metadata": {
        "id": "O1V3V_4L_DHQ"
      }
    },
    {
      "cell_type": "code",
      "source": [
        "!cat /mmocr/tests/data/toy_dataset/labelme/img_1.json"
      ],
      "metadata": {
        "id": "ZP6Y4nLbFsYv",
        "colab": {
          "base_uri": "https://localhost:8080/"
        },
        "outputId": "270ea78e-5f5b-4156-c7b0-895fd90ee9b4"
      },
      "execution_count": 7,
      "outputs": [
        {
          "output_type": "stream",
          "name": "stdout",
          "text": [
            "{\r\n",
            "  \"version\": \"5.0.1\",\r\n",
            "  \"flags\": {},\r\n",
            "  \"shapes\": [\r\n",
            "    {\r\n",
            "      \"label\": \"Genaxis Theatre\",\r\n",
            "      \"points\": [\r\n",
            "        [\r\n",
            "          377,\r\n",
            "          117\r\n",
            "        ],\r\n",
            "        [\r\n",
            "          463,\r\n",
            "          117\r\n",
            "        ],\r\n",
            "        [\r\n",
            "          465,\r\n",
            "          130\r\n",
            "        ],\r\n",
            "        [\r\n",
            "          378,\r\n",
            "          130\r\n",
            "        ]\r\n",
            "      ],\r\n",
            "      \"group_id\": null,\r\n",
            "      \"shape_type\": \"polygon\",\r\n",
            "      \"flags\": {}\r\n",
            "    },\r\n",
            "    {\r\n",
            "      \"label\": \"[06]\",\r\n",
            "      \"points\": [\r\n",
            "        [\r\n",
            "          493,\r\n",
            "          115\r\n",
            "        ],\r\n",
            "        [\r\n",
            "          519,\r\n",
            "          115\r\n",
            "        ],\r\n",
            "        [\r\n",
            "          519,\r\n",
            "          131\r\n",
            "        ],\r\n",
            "        [\r\n",
            "          493,\r\n",
            "          131\r\n",
            "        ]\r\n",
            "      ],\r\n",
            "      \"group_id\": null,\r\n",
            "      \"shape_type\": \"polygon\",\r\n",
            "      \"flags\": {}\r\n",
            "    },\r\n",
            "    {\r\n",
            "      \"label\": \"###\",\r\n",
            "      \"points\": [\r\n",
            "        [\r\n",
            "          374,\r\n",
            "          155\r\n",
            "        ],\r\n",
            "        [\r\n",
            "          409,\r\n",
            "          155\r\n",
            "        ],\r\n",
            "        [\r\n",
            "          409,\r\n",
            "          170\r\n",
            "        ],\r\n",
            "        [\r\n",
            "          374,\r\n",
            "          170\r\n",
            "        ]\r\n",
            "      ],\r\n",
            "      \"group_id\": null,\r\n",
            "      \"shape_type\": \"polygon\",\r\n",
            "      \"flags\": {}\r\n",
            "    },\r\n",
            "    {\r\n",
            "      \"label\": \"62-03\",\r\n",
            "      \"points\": [\r\n",
            "        [\r\n",
            "          492,\r\n",
            "          151\r\n",
            "        ],\r\n",
            "        [\r\n",
            "          551,\r\n",
            "          151\r\n",
            "        ],\r\n",
            "        [\r\n",
            "          551,\r\n",
            "          170\r\n",
            "        ],\r\n",
            "        [\r\n",
            "          492,\r\n",
            "          170\r\n",
            "        ]\r\n",
            "      ],\r\n",
            "      \"group_id\": null,\r\n",
            "      \"shape_type\": \"polygon\",\r\n",
            "      \"flags\": {}\r\n",
            "    },\r\n",
            "    {\r\n",
            "      \"label\": \"Carpark\",\r\n",
            "      \"points\": [\r\n",
            "        [\r\n",
            "          376,\r\n",
            "          198\r\n",
            "        ],\r\n",
            "        [\r\n",
            "          422,\r\n",
            "          198\r\n",
            "        ],\r\n",
            "        [\r\n",
            "          422,\r\n",
            "          212\r\n",
            "        ],\r\n",
            "        [\r\n",
            "          376,\r\n",
            "          212\r\n",
            "        ]\r\n",
            "      ],\r\n",
            "      \"group_id\": null,\r\n",
            "      \"shape_type\": \"polygon\",\r\n",
            "      \"flags\": {}\r\n",
            "    },\r\n",
            "    {\r\n",
            "      \"label\": \"###\",\r\n",
            "      \"points\": [\r\n",
            "        [\r\n",
            "          494,\r\n",
            "          190\r\n",
            "        ],\r\n",
            "        [\r\n",
            "          539,\r\n",
            "          189\r\n",
            "        ],\r\n",
            "        [\r\n",
            "          539,\r\n",
            "          205\r\n",
            "        ],\r\n",
            "        [\r\n",
            "          494,\r\n",
            "          206\r\n",
            "        ]\r\n",
            "      ],\r\n",
            "      \"group_id\": null,\r\n",
            "      \"shape_type\": \"polygon\",\r\n",
            "      \"flags\": {}\r\n",
            "    },\r\n",
            "    {\r\n",
            "      \"label\": \"###\",\r\n",
            "      \"points\": [\r\n",
            "        [\r\n",
            "          374,\r\n",
            "          1\r\n",
            "        ],\r\n",
            "        [\r\n",
            "          494,\r\n",
            "          0\r\n",
            "        ],\r\n",
            "        [\r\n",
            "          492,\r\n",
            "          85\r\n",
            "        ],\r\n",
            "        [\r\n",
            "          372,\r\n",
            "          86\r\n",
            "        ]\r\n",
            "      ],\r\n",
            "      \"group_id\": null,\r\n",
            "      \"shape_type\": \"polygon\",\r\n",
            "      \"flags\": {}\r\n",
            "    }\r\n",
            "  ],\r\n",
            "  \"imagePath\": \"tests/data/toy_dataset/imgs/test/img_1.jpg\",\r\n",
            "  \"imageData\": \"\",\r\n",
            "  \"imageHeight\": 720,\r\n",
            "  \"imageWidth\": 1280\r\n",
            "}"
          ]
        }
      ]
    },
    {
      "cell_type": "markdown",
      "source": [
        "## Prepare Annotation to MMOCR format \n",
        "\n",
        "Since the annotations are in COCO format, we need to firstly convert annotation in labelme format to MMOCR's annotation format using the `labelme_converter.py`.\n",
        "\n",
        "For this particular example, we will convert the labelme format annotation in `/mmocr/tests/data/toy_dataset/labelme` to MMOCR detection labels instances_training `.txt` and export the cropped image patches for recognition task to `/mmocr/tests/data/toy_dataset/crops`. It is worth to note that the following setting would not output the `test_label.txt` as there is no test set. This information is important  when assigning  `test_anno_file1` to `train_label.txt` in subsequent step.\n",
        "\n",
        "In Google colab, it is essential to add a `!` before the Python command.\n"
      ],
      "metadata": {
        "id": "HDjdg6L8ziYS"
      }
    },
    {
      "cell_type": "code",
      "source": [
        "\"\"\"\n",
        "Setting `--format txt` will cause some issue\n",
        " Particularly at the \n",
        " train_detector(model, datasets, cfg, distributed=False, validate=True)\n",
        "\n",
        " which output\n",
        "\n",
        "UserWarning: More than two blank spaces were detected. Please use LineJsonParser to handle annotations with blanks. Check Doc https://mmocr.readthedocs.io/en/latest/tutorials/blank_recog.html for details.\n",
        "  warnings.warn(msg)\n",
        "\"\"\"\n",
        "# !python /mmocr/tools/data/common/labelme_converter.py /mmocr/tests/data/toy_dataset/labelme /mmocr/tests/data/toy_dataset/imgs/test /mmocr/tests/data/toy_dataset --tasks recog --format txt"
      ],
      "metadata": {
        "id": "TT6LyieYrt-s",
        "colab": {
          "base_uri": "https://localhost:8080/",
          "height": 71
        },
        "outputId": "ceaeea23-72eb-4993-86ae-a5016c9b09f8"
      },
      "execution_count": 8,
      "outputs": [
        {
          "output_type": "execute_result",
          "data": {
            "text/plain": [
              "'\\nSetting `--format txt` will cause some issue\\n Particularly at the \\n train_detector(model, datasets, cfg, distributed=False, validate=True)\\n\\n which output\\n\\nUserWarning: More than two blank spaces were detected. Please use LineJsonParser to handle annotations with blanks. Check Doc https://mmocr.readthedocs.io/en/latest/tutorials/blank_recog.html for details.\\n  warnings.warn(msg)\\n'"
            ],
            "application/vnd.google.colaboratory.intrinsic+json": {
              "type": "string"
            }
          },
          "metadata": {},
          "execution_count": 8
        }
      ]
    },
    {
      "cell_type": "markdown",
      "source": [
        "For this particular dataset, preferable to use the `.jsonl` as the annotation output"
      ],
      "metadata": {
        "id": "K1gpyMVAgOg1"
      }
    },
    {
      "cell_type": "code",
      "source": [
        "!python /mmocr/tools/data/common/labelme_converter.py /mmocr/tests/data/toy_dataset/labelme /mmocr/tests/data/toy_dataset/imgs/test /mmocr/tests/data/toy_dataset --tasks recog --format jsonl"
      ],
      "metadata": {
        "colab": {
          "base_uri": "https://localhost:8080/"
        },
        "id": "Fur1PcDpgOCX",
        "outputId": "c20e85b3-34b6-461f-b5dd-84448988e644"
      },
      "execution_count": 9,
      "outputs": [
        {
          "output_type": "stream",
          "name": "stdout",
          "text": [
            "[>>] 10/10, 84.8 task/s, elapsed: 0s, ETA:     0s\n",
            "finish\n"
          ]
        }
      ]
    },
    {
      "cell_type": "markdown",
      "source": [
        "Let have a look what files has been generated from the previous calling"
      ],
      "metadata": {
        "id": "NVsw-hMkETbp"
      }
    },
    {
      "cell_type": "code",
      "source": [
        "# List of crop images that being crop in accordance to the bounding box\n",
        "import os\n",
        "root = '/mmocr/tests/data/toy_dataset' # Location where the annotation and crop images are being stored\n",
        "path_crop_img=os.path.join(root,'crops')\n",
        "print([os.path.join(path, name) for path, subdirs, files in os.walk(path_crop_img) for name in files])"
      ],
      "metadata": {
        "id": "X8kvWR3UE4KG",
        "colab": {
          "base_uri": "https://localhost:8080/"
        },
        "outputId": "a0ec839f-0ddf-4cdd-91a2-26437002b40d"
      },
      "execution_count": 10,
      "outputs": [
        {
          "output_type": "stream",
          "name": "stdout",
          "text": [
            "['/mmocr/tests/data/toy_dataset/crops/img_2/crop_0.jpg', '/mmocr/tests/data/toy_dataset/crops/img_2/crop_1.jpg', '/mmocr/tests/data/toy_dataset/crops/img_7/crop_0.jpg', '/mmocr/tests/data/toy_dataset/crops/img_7/crop_1.jpg', '/mmocr/tests/data/toy_dataset/crops/img_1/crop_3.jpg', '/mmocr/tests/data/toy_dataset/crops/img_1/crop_2.jpg', '/mmocr/tests/data/toy_dataset/crops/img_1/crop_0.jpg', '/mmocr/tests/data/toy_dataset/crops/img_1/crop_1.jpg', '/mmocr/tests/data/toy_dataset/crops/img_10/crop_2.jpg', '/mmocr/tests/data/toy_dataset/crops/img_10/crop_0.jpg', '/mmocr/tests/data/toy_dataset/crops/img_10/crop_1.jpg', '/mmocr/tests/data/toy_dataset/crops/img_3/crop_0.jpg', '/mmocr/tests/data/toy_dataset/crops/img_3/crop_1.jpg', '/mmocr/tests/data/toy_dataset/crops/img_9/crop_0.jpg', '/mmocr/tests/data/toy_dataset/crops/img_9/crop_1.jpg', '/mmocr/tests/data/toy_dataset/crops/img_8/crop_3.jpg', '/mmocr/tests/data/toy_dataset/crops/img_8/crop_2.jpg', '/mmocr/tests/data/toy_dataset/crops/img_8/crop_0.jpg', '/mmocr/tests/data/toy_dataset/crops/img_8/crop_1.jpg', '/mmocr/tests/data/toy_dataset/crops/img_6/crop_0.jpg', '/mmocr/tests/data/toy_dataset/crops/img_6/crop_1.jpg']\n"
          ]
        }
      ]
    },
    {
      "cell_type": "markdown",
      "source": [
        "Lets visualise the MMOCR detection labels instances_training `.jsonl`"
      ],
      "metadata": {
        "id": "VmsBm8txF06t"
      }
    },
    {
      "cell_type": "code",
      "source": [
        "# !cat /mmocr/tests/data/toy_dataset/train_label.txt # Similarly, if you had made the annotation in `txt`, you can viz the annotation by decomment this line\n",
        "\n",
        "\n",
        "!cat /mmocr/tests/data/toy_dataset/train_label.jsonl\n"
      ],
      "metadata": {
        "id": "RFhKFgJZGJW-",
        "colab": {
          "base_uri": "https://localhost:8080/"
        },
        "outputId": "f972b2ce-4f22-4a7b-fead-8cbbca7f3929"
      },
      "execution_count": 11,
      "outputs": [
        {
          "output_type": "stream",
          "name": "stdout",
          "text": [
            "{\"filename\": \"/mmocr/tests/data/toy_dataset/crops/img_1/crop_0.jpg\", \"text\": \"Genaxis Theatre\"}\n",
            "{\"filename\": \"/mmocr/tests/data/toy_dataset/crops/img_1/crop_1.jpg\", \"text\": \"[06]\"}\n",
            "{\"filename\": \"/mmocr/tests/data/toy_dataset/crops/img_1/crop_2.jpg\", \"text\": \"62-03\"}\n",
            "{\"filename\": \"/mmocr/tests/data/toy_dataset/crops/img_1/crop_3.jpg\", \"text\": \"Carpark\"}\n",
            "{\"filename\": \"/mmocr/tests/data/toy_dataset/crops/img_6/crop_0.jpg\", \"text\": \"Reserve\"}\n",
            "{\"filename\": \"/mmocr/tests/data/toy_dataset/crops/img_6/crop_1.jpg\", \"text\": \"CAUTION\"}\n",
            "{\"filename\": \"/mmocr/tests/data/toy_dataset/crops/img_10/crop_0.jpg\", \"text\": \"HarbourFront\"}\n",
            "{\"filename\": \"/mmocr/tests/data/toy_dataset/crops/img_10/crop_1.jpg\", \"text\": \"CC22\"}\n",
            "{\"filename\": \"/mmocr/tests/data/toy_dataset/crops/img_10/crop_2.jpg\", \"text\": \"bua\"}\n",
            "{\"filename\": \"/mmocr/tests/data/toy_dataset/crops/img_2/crop_0.jpg\", \"text\": \"EXIT\"}\n",
            "{\"filename\": \"/mmocr/tests/data/toy_dataset/crops/img_2/crop_1.jpg\", \"text\": \"I2R\"}\n",
            "{\"filename\": \"/mmocr/tests/data/toy_dataset/crops/img_9/crop_0.jpg\", \"text\": \"EXIT\"}\n",
            "{\"filename\": \"/mmocr/tests/data/toy_dataset/crops/img_9/crop_1.jpg\", \"text\": \"STAGE\"}\n",
            "{\"filename\": \"/mmocr/tests/data/toy_dataset/crops/img_7/crop_0.jpg\", \"text\": \"citi\"}\n",
            "{\"filename\": \"/mmocr/tests/data/toy_dataset/crops/img_7/crop_1.jpg\", \"text\": \"smrt\"}\n",
            "{\"filename\": \"/mmocr/tests/data/toy_dataset/crops/img_8/crop_0.jpg\", \"text\": \"WHY\"}\n",
            "{\"filename\": \"/mmocr/tests/data/toy_dataset/crops/img_8/crop_1.jpg\", \"text\": \"PAY\"}\n",
            "{\"filename\": \"/mmocr/tests/data/toy_dataset/crops/img_8/crop_2.jpg\", \"text\": \"FOR\"}\n",
            "{\"filename\": \"/mmocr/tests/data/toy_dataset/crops/img_8/crop_3.jpg\", \"text\": \"NOTHING?\"}\n",
            "{\"filename\": \"/mmocr/tests/data/toy_dataset/crops/img_3/crop_0.jpg\", \"text\": \"fusionopolis\"}\n",
            "{\"filename\": \"/mmocr/tests/data/toy_dataset/crops/img_3/crop_1.jpg\", \"text\": \"fusionopolis\"}\n"
          ]
        }
      ]
    },
    {
      "cell_type": "markdown",
      "source": [
        "## Configuration file\n",
        "\n",
        "The MMOCR's config system incorporate modular and inheritance design, which is convenient to conduct various experiments. \n",
        "\n",
        "Lets visualise the `sar_r31_parallel_decoder_toy_dataset` config."
      ],
      "metadata": {
        "id": "i-GrV0xSkAc3"
      }
    },
    {
      "cell_type": "code",
      "source": [
        "from mmcv import Config\n",
        "\n",
        "# Note the addition of /mmocr preceding text\n",
        "# cfg = Config.fromfile('/mmocr/configs/textrecog/sar/sar_r31_parallel_decoder_toy_dataset.py') \n",
        "# print(f'Config:\\n{cfg.pretty_text}')"
      ],
      "metadata": {
        "id": "VO3_9X_6Yaxy"
      },
      "execution_count": 32,
      "outputs": []
    },
    {
      "cell_type": "markdown",
      "source": [
        "The MMOCR have the build-in facility to generate the configfor config and config files.\n",
        "\n",
        "The config file structure consist on the parameter `model`, `data & pipeline`, `training schedule`, and `runtime setting`. Please refer to [config file structure](https://mmocr.readthedocs.io/en/latest/tutorials/config.html#config-file-structure) for detailed documentation"
      ],
      "metadata": {
        "id": "NvU8d9q-ZbcJ"
      }
    },
    {
      "cell_type": "markdown",
      "source": [
        "Set custom configuration file. Most of the values are based on \n",
        " `sar_r31_parallel_decoder_toy_dataset` config value."
      ],
      "metadata": {
        "id": "uzra5ObPagF9"
      }
    },
    {
      "cell_type": "markdown",
      "source": [
        "Adjust the path reflecting where the crop images and annotation being saved"
      ],
      "metadata": {
        "id": "dV2_VCGOhZ7O"
      }
    },
    {
      "cell_type": "code",
      "source": [
        "dataset_type = 'OCRDataset'\n",
        "root = '/mmocr/tests/data/toy_dataset' # Location where the annotation and crop images are being stored\n",
        "\n",
        "img_prefix =os.path.join(root,'crops')\n",
        "train_anno_file1 = os.path.join(root,'train_label.jsonl')\n",
        "test_anno_file1 = os.path.join(root,'train_label.jsonl')\n",
        "\n",
        "# Set up working dir to save files and logs.\n",
        "work_dir = '/mmocr/demo/tutorial_exps'\n",
        "\n",
        "\n",
        "\n",
        "loader_dt_train = dict(type='AnnFileLoader',\n",
        "                            repeat=1,                   \n",
        "                            file_format='txt',  # only txt and lmdb\n",
        "                            file_storage_backend='disk',\n",
        "                            parser=dict(type='LineJsonParser',\n",
        "                                        keys=['filename', 'text']))\n",
        "\n",
        "loader_dt_test = dict(type = 'AnnFileLoader',\n",
        "                        repeat = 1,\n",
        "                        file_format = 'txt',  # only txt and lmdb\n",
        "                        file_storage_backend = 'disk',\n",
        "                        parser = dict(type = 'LineJsonParser',\n",
        "                                    keys = ['filename', 'text']))\n",
        "\n",
        "\n",
        "train_datasets1 = dict(type='OCRDataset',\n",
        "                       img_prefix=img_prefix,\n",
        "                       ann_file=train_anno_file1,\n",
        "                       loader=loader_dt_train,\n",
        "                       pipeline=None,           # why the pipeline is set to None?\n",
        "                       test_mode=False)\n",
        "\n",
        "\n",
        "\n",
        "\n",
        "# For time being, assume the setting for training and validation is the same, though practically we can separate both testing sets\n",
        "val_dataset = dict(type='OCRDataset',\n",
        "                   img_prefix=img_prefix,\n",
        "                   ann_file=test_anno_file1,\n",
        "                   loader=loader_dt_test,\n",
        "                   pipeline=None,               # why the pipeline is set to None?\n",
        "                   test_mode=True)\n",
        "\n",
        "## It is possible to have two list [train1, train2]\n",
        "train_list = [train_datasets1]\n",
        "test_list = [val_dataset]\n",
        "\n",
        "transformer_val = [dict(type='ResizeOCR',\n",
        "                        height=48,\n",
        "                        min_width=48,\n",
        "                        max_width=160,\n",
        "                        keep_aspect_ratio=True,\n",
        "                        width_downsample_ratio=0.25),\n",
        "                   dict(type='ToTensorOCR'),\n",
        "                   dict(type='NormalizeOCR',\n",
        "                        mean=[0.5, 0.5, 0.5],\n",
        "                        std=[0.5, 0.5, 0.5]),\n",
        "                   dict(type='Collect',\n",
        "                        keys=['img'],\n",
        "                        meta_keys=[\n",
        "                            'filename', 'ori_shape', 'resize_shape',\n",
        "                            'valid_ratio', 'img_norm_cfg', 'ori_filename',\n",
        "                            'img_shape'\n",
        "                        ])\n",
        "                   ]\n",
        "\n",
        "data_test_pipeline = [\n",
        "    dict(type='LoadImageFromFile'),\n",
        "    dict(\n",
        "        type='MultiRotateAugOCR',\n",
        "        rotate_degrees=[0, 90, 270],\n",
        "        transforms=[\n",
        "            dict(\n",
        "                type='ResizeOCR',\n",
        "                height=48,\n",
        "                min_width=48,\n",
        "                max_width=160,\n",
        "                keep_aspect_ratio=True,\n",
        "                width_downsample_ratio=0.25),\n",
        "            dict(type='ToTensorOCR'),\n",
        "            dict(\n",
        "                type='NormalizeOCR',\n",
        "                mean=[0.5, 0.5, 0.5],\n",
        "                std=[0.5, 0.5, 0.5]),\n",
        "            dict(\n",
        "                type='Collect',\n",
        "                keys=['img'],\n",
        "                meta_keys=[\n",
        "                    'filename', 'ori_shape', 'resize_shape',\n",
        "                    'valid_ratio', 'img_norm_cfg', 'ori_filename',\n",
        "                    'img_shape'\n",
        "                ])\n",
        "        ])\n",
        "]\n",
        "\n",
        "loader_test_dt=dict(\n",
        "            type='AnnFileLoader',\n",
        "            repeat=1,\n",
        "            file_format='txt',\n",
        "            file_storage_backend='disk',\n",
        "            parser=dict(\n",
        "                type='LineJsonParser' ,\n",
        "                keys=['filename', 'text']))\n",
        "\n",
        "data_test_datasets = [\n",
        "    dict(\n",
        "        type='OCRDataset',\n",
        "        img_prefix=img_prefix,\n",
        "        ann_file=train_anno_file1,\n",
        "        loader=loader_test_dt,\n",
        "        pipeline=None,\n",
        "        test_mode=True)\n",
        "]\n",
        "\n",
        "data_val = dict(type='UniformConcatDataset',\n",
        "                datasets=[val_dataset],\n",
        "                pipeline=[dict(type='LoadImageFromFile'),\n",
        "                          dict(type='MultiRotateAugOCR',\n",
        "                               rotate_degrees=[0, 90, 270],\n",
        "                               transforms=transformer_val)\n",
        "                          ])\n",
        "\n",
        "data_train = dict(  # train data config\n",
        "    type='UniformConcatDataset',\n",
        "    datasets=[train_datasets1], # It is possible to have two train datasets here\n",
        "    pipeline=[\n",
        "        dict(type='LoadImageFromFile'),\n",
        "        dict(\n",
        "            type='ResizeOCR',\n",
        "            height=48,\n",
        "            min_width=48,\n",
        "            max_width=160,\n",
        "            keep_aspect_ratio=True,\n",
        "            width_downsample_ratio=0.25),\n",
        "        dict(type='ToTensorOCR'),\n",
        "        dict(type='NormalizeOCR',\n",
        "             mean=[0.5, 0.5, 0.5],\n",
        "             std=[0.5, 0.5, 0.5]),\n",
        "        dict(type='Collect',\n",
        "             keys=['img'],\n",
        "             meta_keys=[\n",
        "                 'filename', 'ori_shape', 'resize_shape', 'text',\n",
        "                 'valid_ratio'\n",
        "             ])\n",
        "    ])\n",
        "\n",
        "data = dict(\n",
        "    workers_per_gpu=2,  # Worker to pre-fetch data for each single GPU\n",
        "    samples_per_gpu=8,  # Batch size of a single GPU\n",
        "    train=data_train,\n",
        "    val=data_val,\n",
        "    test=dict(type='UniformConcatDataset',\n",
        "              datasets=data_test_datasets,\n",
        "              pipeline=data_test_pipeline))\n"
      ],
      "metadata": {
        "id": "VeVIW6_ThWAt"
      },
      "execution_count": 33,
      "outputs": []
    },
    {
      "cell_type": "code",
      "source": [
        "dist_params = dict(backend = 'nccl')\n",
        "log_level = 'INFO'\n",
        "\n",
        "load_from = None  # We start from zero\n",
        "\n",
        "resume_from = None  # We start from zero\n",
        "\n",
        "workflow = [('train', 1)]\n",
        "\n",
        "opencv_num_threads = 0\n",
        "\n",
        "mp_start_method = 'fork'\n",
        "\n",
        "label_convertor = dict(type = 'AttnConvertor', \n",
        "                       dict_type = 'DICT90', \n",
        "                       with_unknown = True)\n",
        "\n",
        "model = dict(type = 'SARNet',\n",
        "            backbone = dict(type = 'ResNet31OCR'),\n",
        "            encoder = dict(type = 'SAREncoder', \n",
        "                           enc_bi_rnn = False, \n",
        "                           enc_do_rnn = 0.1, \n",
        "                           enc_gru = False),\n",
        "            decoder = dict(type = 'ParallelSARDecoder',\n",
        "                          enc_bi_rnn = False,\n",
        "                          dec_bi_rnn = False,\n",
        "                          dec_do_rnn = 0,\n",
        "                          dec_gru = False,\n",
        "                          pred_dropout = 0.1,\n",
        "                          d_k = 512,\n",
        "                          pred_concat = True),\n",
        "          loss = dict(type = 'SARLoss'),\n",
        "          label_convertor = dict(type = 'AttnConvertor', \n",
        "                               dict_type = 'DICT90', \n",
        "                               with_unknown = True),\n",
        "          max_seq_len = 30)\n",
        "\n",
        "\n",
        "optimizer_config = dict(grad_clip = None)\n",
        "\n",
        "\n",
        "\n",
        "\n",
        "runner = dict(type = 'EpochBasedRunner', \n",
        "              max_epochs = 5)             # For speed consideration, we limit number of epochs to only 5\n",
        "\n",
        "checkpoint_config = dict(interval = 1)\n",
        "\n",
        "img_norm_cfg = dict(mean = [0.5, 0.5, 0.5], \n",
        "                    std = [0.5, 0.5, 0.5])\n",
        "\n",
        "train_pipeline = [                                            # Training pipeline\n",
        "                  dict(type = 'LoadImageFromFile'),           # First pipeline to load images from file path\n",
        "                  dict(type = 'ResizeOCR',\n",
        "                      height = 48,\n",
        "                      min_width = 48,\n",
        "                      max_width = 160,\n",
        "                      keep_aspect_ratio = True,\n",
        "                      width_downsample_ratio = 0.25),\n",
        "                  dict(type = 'ToTensorOCR'),\n",
        "                  dict(type = 'NormalizeOCR', \n",
        "                       mean = [0.5, 0.5, 0.5], \n",
        "                       std = [0.5, 0.5, 0.5]),\n",
        "                  dict(type = 'Collect',\n",
        "                      keys = ['img'],\n",
        "                      meta_keys = ['filename', 'ori_shape', \n",
        "                                   'resize_shape',  'text', 'valid_ratio'])\n",
        "                  ]\n",
        "\n",
        "\n",
        "# Parameter for test\n",
        "transform_test_pl=[dict(\n",
        "                    type = 'ResizeOCR',\n",
        "                    height = 48,\n",
        "                    min_width = 48,\n",
        "                    max_width = 160,\n",
        "                    keep_aspect_ratio = True,\n",
        "                    width_downsample_ratio = 0.25),\n",
        "                  dict(type = 'ToTensorOCR'),\n",
        "                  dict(type = 'NormalizeOCR', \n",
        "                       mean = [0.5, 0.5, 0.5], \n",
        "                       std = [0.5, 0.5,0.5]),\n",
        "                dict(type = 'Collect',\n",
        "                    keys = ['img'],\n",
        "                    meta_keys = ['filename', 'ori_shape', \n",
        "                                 'resize_shape', 'valid_ratio',\n",
        "                                 'img_norm_cfg', 'ori_filename', \n",
        "                                 'img_shape'\n",
        "                                ])]\n",
        "\n",
        "\n",
        "test_pipeline = [ dict(type = 'LoadImageFromFile'),\n",
        "                  dict(type = 'MultiRotateAugOCR',\n",
        "                  rotate_degrees = [0, 90, 270],\n",
        "                  transforms = transform_test_pl)\n",
        "                ]\n",
        "\n",
        "evaluation = dict(interval = 1, \n",
        "                  metric = 'acc')\n",
        "\n"
      ],
      "metadata": {
        "id": "Kqvdt6KchPZy"
      },
      "execution_count": 34,
      "outputs": []
    },
    {
      "cell_type": "markdown",
      "source": [
        "In order to perform inference for SAR on colab, we need to adjust the config values to accommodate some of the settings of colab such as the number of GPU available. "
      ],
      "metadata": {
        "id": "AOLdCnfeYlu0"
      }
    },
    {
      "cell_type": "code",
      "execution_count": 35,
      "source": [
        "from mmdet.apis import set_random_seed\n",
        "\n",
        "\n",
        "# The original learning rate (LR) is set for 8-GPU training.\n",
        "# We divide it by 8 since we only use one GPU.\n",
        "\n",
        "optimizer = dict(type = 'Adam', \n",
        "                 lr = 0.001 / 8)\n",
        "\n",
        "\n",
        "lr_config = dict(policy = 'step', \n",
        "                 step = [3, 4], \n",
        "                 warmup = None  # Set warmup to None when work in Colab\n",
        "                 ) \n",
        "\n",
        "\n",
        "log_config = dict(\n",
        "                  interval = 40,  # Choose to log training results every 40 images to reduce the size of log file. \n",
        "                  hooks = [dict(type = 'TextLoggerHook')])\n",
        "\n",
        "# Set seed thus the results are more reproducible\n",
        "seed = 0\n",
        "set_random_seed(0, deterministic=False)\n",
        "gpu_ids = range(1)\n"
      ],
      "outputs": [],
      "metadata": {
        "id": "67OJ6oAvN6NA"
      }
    },
    {
      "cell_type": "markdown",
      "source": [
        "Lets create the configration file"
      ],
      "metadata": {
        "id": "Tp2_REBignfH"
      }
    },
    {
      "cell_type": "code",
      "source": [
        "from mmcv import Config\n",
        "\n",
        "\n",
        "cfg = Config(dict( work_dir=work_dir,\n",
        "                  log_config = log_config,dataset_type=dataset_type,\n",
        "                  root=root,\n",
        "                  img_prefix=img_prefix,\n",
        "                  train_anno_file1=train_anno_file1,\n",
        "                  # train1=train1,\n",
        "                  test_anno_file1=test_anno_file1,\n",
        "                  # test=test,                            \n",
        "                  train_list=train_list,\n",
        "                  test_list=test_list,\n",
        "                  data=data,\n",
        "                  evaluation=evaluation,\n",
        "                  dist_params=dist_params,\n",
        "                  log_level =log_level,\n",
        "                  load_from=load_from,\n",
        "                  resume_from=resume_from,\n",
        "                  workflow=workflow,\n",
        "                  opencv_num_threads=opencv_num_threads,\n",
        "                  mp_start_method=mp_start_method,\n",
        "                  label_convertor=label_convertor,\n",
        "                  model=model,\n",
        "                  optimizer=optimizer,                # Specially tweak for Google Colab particularly the  lr\n",
        "                  optimizer_config=optimizer_config,\n",
        "                  lr_config=lr_config,\n",
        "                  runner=runner,\n",
        "                  checkpoint_config=checkpoint_config,\n",
        "                  img_norm_cfg=img_norm_cfg,\n",
        "                  train_pipeline=train_pipeline,\n",
        "                  test_pipeline=test_pipeline,\n",
        "                  seed =seed,                           # Specially tweak for Google Colab\n",
        "                  gpu_ids =gpu_ids,                     # Specially tweak for Google Colab\n",
        "                  ))\n",
        "\n",
        "\n",
        "print(f'Config:\\n{cfg.pretty_text}')"
      ],
      "metadata": {
        "id": "XUzHEOHBVWr1",
        "colab": {
          "base_uri": "https://localhost:8080/"
        },
        "outputId": "bcb1e121-039d-4da2-d557-c21b8eb1ed98"
      },
      "execution_count": 36,
      "outputs": [
        {
          "output_type": "stream",
          "name": "stdout",
          "text": [
            "Config:\n",
            "work_dir = '/mmocr/demo/tutorial_exps'\n",
            "log_config = dict(interval=40, hooks=[dict(type='TextLoggerHook')])\n",
            "dataset_type = 'OCRDataset'\n",
            "root = '/mmocr/tests/data/toy_dataset'\n",
            "img_prefix = '/mmocr/tests/data/toy_dataset/crops'\n",
            "train_anno_file1 = '/mmocr/tests/data/toy_dataset/train_label.jsonl'\n",
            "test_anno_file1 = '/mmocr/tests/data/toy_dataset/train_label.jsonl'\n",
            "train_list = [\n",
            "    dict(\n",
            "        type='OCRDataset',\n",
            "        img_prefix='/mmocr/tests/data/toy_dataset/crops',\n",
            "        ann_file='/mmocr/tests/data/toy_dataset/train_label.jsonl',\n",
            "        loader=dict(\n",
            "            type='AnnFileLoader',\n",
            "            repeat=1,\n",
            "            file_format='txt',\n",
            "            file_storage_backend='disk',\n",
            "            parser=dict(type='LineJsonParser', keys=['filename', 'text'])),\n",
            "        pipeline=None,\n",
            "        test_mode=False)\n",
            "]\n",
            "test_list = [\n",
            "    dict(\n",
            "        type='OCRDataset',\n",
            "        img_prefix='/mmocr/tests/data/toy_dataset/crops',\n",
            "        ann_file='/mmocr/tests/data/toy_dataset/train_label.jsonl',\n",
            "        loader=dict(\n",
            "            type='AnnFileLoader',\n",
            "            repeat=1,\n",
            "            file_format='txt',\n",
            "            file_storage_backend='disk',\n",
            "            parser=dict(type='LineJsonParser', keys=['filename', 'text'])),\n",
            "        pipeline=None,\n",
            "        test_mode=True)\n",
            "]\n",
            "data = dict(\n",
            "    workers_per_gpu=2,\n",
            "    samples_per_gpu=8,\n",
            "    train=dict(\n",
            "        type='UniformConcatDataset',\n",
            "        datasets=[\n",
            "            dict(\n",
            "                type='OCRDataset',\n",
            "                img_prefix='/mmocr/tests/data/toy_dataset/crops',\n",
            "                ann_file='/mmocr/tests/data/toy_dataset/train_label.jsonl',\n",
            "                loader=dict(\n",
            "                    type='AnnFileLoader',\n",
            "                    repeat=1,\n",
            "                    file_format='txt',\n",
            "                    file_storage_backend='disk',\n",
            "                    parser=dict(\n",
            "                        type='LineJsonParser', keys=['filename', 'text'])),\n",
            "                pipeline=None,\n",
            "                test_mode=False)\n",
            "        ],\n",
            "        pipeline=[\n",
            "            dict(type='LoadImageFromFile'),\n",
            "            dict(\n",
            "                type='ResizeOCR',\n",
            "                height=48,\n",
            "                min_width=48,\n",
            "                max_width=160,\n",
            "                keep_aspect_ratio=True,\n",
            "                width_downsample_ratio=0.25),\n",
            "            dict(type='ToTensorOCR'),\n",
            "            dict(\n",
            "                type='NormalizeOCR', mean=[0.5, 0.5, 0.5], std=[0.5, 0.5,\n",
            "                                                                0.5]),\n",
            "            dict(\n",
            "                type='Collect',\n",
            "                keys=['img'],\n",
            "                meta_keys=[\n",
            "                    'filename', 'ori_shape', 'resize_shape', 'text',\n",
            "                    'valid_ratio'\n",
            "                ])\n",
            "        ]),\n",
            "    val=dict(\n",
            "        type='UniformConcatDataset',\n",
            "        datasets=[\n",
            "            dict(\n",
            "                type='OCRDataset',\n",
            "                img_prefix='/mmocr/tests/data/toy_dataset/crops',\n",
            "                ann_file='/mmocr/tests/data/toy_dataset/train_label.jsonl',\n",
            "                loader=dict(\n",
            "                    type='AnnFileLoader',\n",
            "                    repeat=1,\n",
            "                    file_format='txt',\n",
            "                    file_storage_backend='disk',\n",
            "                    parser=dict(\n",
            "                        type='LineJsonParser', keys=['filename', 'text'])),\n",
            "                pipeline=None,\n",
            "                test_mode=True)\n",
            "        ],\n",
            "        pipeline=[\n",
            "            dict(type='LoadImageFromFile'),\n",
            "            dict(\n",
            "                type='MultiRotateAugOCR',\n",
            "                rotate_degrees=[0, 90, 270],\n",
            "                transforms=[\n",
            "                    dict(\n",
            "                        type='ResizeOCR',\n",
            "                        height=48,\n",
            "                        min_width=48,\n",
            "                        max_width=160,\n",
            "                        keep_aspect_ratio=True,\n",
            "                        width_downsample_ratio=0.25),\n",
            "                    dict(type='ToTensorOCR'),\n",
            "                    dict(\n",
            "                        type='NormalizeOCR',\n",
            "                        mean=[0.5, 0.5, 0.5],\n",
            "                        std=[0.5, 0.5, 0.5]),\n",
            "                    dict(\n",
            "                        type='Collect',\n",
            "                        keys=['img'],\n",
            "                        meta_keys=[\n",
            "                            'filename', 'ori_shape', 'resize_shape',\n",
            "                            'valid_ratio', 'img_norm_cfg', 'ori_filename',\n",
            "                            'img_shape'\n",
            "                        ])\n",
            "                ])\n",
            "        ]),\n",
            "    test=dict(\n",
            "        type='UniformConcatDataset',\n",
            "        datasets=[\n",
            "            dict(\n",
            "                type='OCRDataset',\n",
            "                img_prefix='/mmocr/tests/data/toy_dataset/crops',\n",
            "                ann_file='/mmocr/tests/data/toy_dataset/train_label.jsonl',\n",
            "                loader=dict(\n",
            "                    type='AnnFileLoader',\n",
            "                    repeat=1,\n",
            "                    file_format='txt',\n",
            "                    file_storage_backend='disk',\n",
            "                    parser=dict(\n",
            "                        type='LineJsonParser', keys=['filename', 'text'])),\n",
            "                pipeline=None,\n",
            "                test_mode=True)\n",
            "        ],\n",
            "        pipeline=[\n",
            "            dict(type='LoadImageFromFile'),\n",
            "            dict(\n",
            "                type='MultiRotateAugOCR',\n",
            "                rotate_degrees=[0, 90, 270],\n",
            "                transforms=[\n",
            "                    dict(\n",
            "                        type='ResizeOCR',\n",
            "                        height=48,\n",
            "                        min_width=48,\n",
            "                        max_width=160,\n",
            "                        keep_aspect_ratio=True,\n",
            "                        width_downsample_ratio=0.25),\n",
            "                    dict(type='ToTensorOCR'),\n",
            "                    dict(\n",
            "                        type='NormalizeOCR',\n",
            "                        mean=[0.5, 0.5, 0.5],\n",
            "                        std=[0.5, 0.5, 0.5]),\n",
            "                    dict(\n",
            "                        type='Collect',\n",
            "                        keys=['img'],\n",
            "                        meta_keys=[\n",
            "                            'filename', 'ori_shape', 'resize_shape',\n",
            "                            'valid_ratio', 'img_norm_cfg', 'ori_filename',\n",
            "                            'img_shape'\n",
            "                        ])\n",
            "                ])\n",
            "        ]))\n",
            "evaluation = dict(interval=1, metric='acc')\n",
            "dist_params = dict(backend='nccl')\n",
            "log_level = 'INFO'\n",
            "load_from = None\n",
            "resume_from = None\n",
            "workflow = [('train', 1)]\n",
            "opencv_num_threads = 0\n",
            "mp_start_method = 'fork'\n",
            "label_convertor = dict(\n",
            "    type='AttnConvertor', dict_type='DICT90', with_unknown=True)\n",
            "model = dict(\n",
            "    type='SARNet',\n",
            "    backbone=dict(type='ResNet31OCR'),\n",
            "    encoder=dict(\n",
            "        type='SAREncoder', enc_bi_rnn=False, enc_do_rnn=0.1, enc_gru=False),\n",
            "    decoder=dict(\n",
            "        type='ParallelSARDecoder',\n",
            "        enc_bi_rnn=False,\n",
            "        dec_bi_rnn=False,\n",
            "        dec_do_rnn=0,\n",
            "        dec_gru=False,\n",
            "        pred_dropout=0.1,\n",
            "        d_k=512,\n",
            "        pred_concat=True),\n",
            "    loss=dict(type='SARLoss'),\n",
            "    label_convertor=dict(\n",
            "        type='AttnConvertor', dict_type='DICT90', with_unknown=True),\n",
            "    max_seq_len=30)\n",
            "optimizer = dict(type='Adam', lr=0.000125)\n",
            "optimizer_config = dict(grad_clip=None)\n",
            "lr_config = dict(policy='step', step=[3, 4], warmup=None)\n",
            "runner = dict(type='EpochBasedRunner', max_epochs=5)\n",
            "checkpoint_config = dict(interval=1)\n",
            "img_norm_cfg = dict(mean=[0.5, 0.5, 0.5], std=[0.5, 0.5, 0.5])\n",
            "train_pipeline = [\n",
            "    dict(type='LoadImageFromFile'),\n",
            "    dict(\n",
            "        type='ResizeOCR',\n",
            "        height=48,\n",
            "        min_width=48,\n",
            "        max_width=160,\n",
            "        keep_aspect_ratio=True,\n",
            "        width_downsample_ratio=0.25),\n",
            "    dict(type='ToTensorOCR'),\n",
            "    dict(type='NormalizeOCR', mean=[0.5, 0.5, 0.5], std=[0.5, 0.5, 0.5]),\n",
            "    dict(\n",
            "        type='Collect',\n",
            "        keys=['img'],\n",
            "        meta_keys=[\n",
            "            'filename', 'ori_shape', 'resize_shape', 'text', 'valid_ratio'\n",
            "        ])\n",
            "]\n",
            "test_pipeline = [\n",
            "    dict(type='LoadImageFromFile'),\n",
            "    dict(\n",
            "        type='MultiRotateAugOCR',\n",
            "        rotate_degrees=[0, 90, 270],\n",
            "        transforms=[\n",
            "            dict(\n",
            "                type='ResizeOCR',\n",
            "                height=48,\n",
            "                min_width=48,\n",
            "                max_width=160,\n",
            "                keep_aspect_ratio=True,\n",
            "                width_downsample_ratio=0.25),\n",
            "            dict(type='ToTensorOCR'),\n",
            "            dict(\n",
            "                type='NormalizeOCR', mean=[0.5, 0.5, 0.5], std=[0.5, 0.5,\n",
            "                                                                0.5]),\n",
            "            dict(\n",
            "                type='Collect',\n",
            "                keys=['img'],\n",
            "                meta_keys=[\n",
            "                    'filename', 'ori_shape', 'resize_shape', 'valid_ratio',\n",
            "                    'img_norm_cfg', 'ori_filename', 'img_shape'\n",
            "                ])\n",
            "        ])\n",
            "]\n",
            "seed = 0\n",
            "gpu_ids = range(0, 1)\n",
            "\n"
          ]
        }
      ]
    },
    {
      "cell_type": "code",
      "source": [
        "# print(cfg.work_dir)"
      ],
      "metadata": {
        "id": "9AP-YGC9Efb5"
      },
      "execution_count": 37,
      "outputs": []
    },
    {
      "cell_type": "markdown",
      "source": [
        "## Train the SAR Text Recognizer \n",
        "Finally, we train the SAR text recognizer on the toy dataset for five epochs. \n",
        "\n",
        "This steps took about ~ 5 minutes to complete or <15 if Colab is connected with GPU \n"
      ],
      "metadata": {
        "id": "TZj5vyqEmulE"
      }
    },
    {
      "cell_type": "code",
      "source": [
        "#@title Default title text\n",
        "from mmocr.datasets import build_dataset\n",
        "from mmocr.models import build_detector\n",
        "from mmocr.apis import train_detector\n",
        "import os.path as osp\n",
        "\n",
        "# Build dataset\n",
        "datasets = [build_dataset(cfg.data.train)] \n",
        "\n",
        "# Build the detector\n",
        "model = build_detector(cfg.model, train_cfg=cfg.get('train_cfg'), test_cfg=cfg.get('test_cfg'))\n",
        "\n",
        "# Add an attribute for visualization convenience\n",
        "model.CLASSES = datasets[0].CLASSES\n",
        "\n",
        "# Create work_dir\n",
        "mmcv.mkdir_or_exist(osp.abspath(cfg.work_dir))\n",
        "train_detector(model, datasets, cfg, distributed=False, validate=True)"
      ],
      "metadata": {
        "id": "aGtuC29ys8Ej",
        "cellView": "code",
        "colab": {
          "base_uri": "https://localhost:8080/"
        },
        "outputId": "ec8e43ec-bf9e-459d-97a5-a799a4a09058"
      },
      "execution_count": 38,
      "outputs": [
        {
          "output_type": "stream",
          "name": "stderr",
          "text": [
            "/mmocr/mmocr/apis/utils.py:53: UserWarning: Remove \"MultiRotateAugOCR\" to support batch inference since samples_per_gpu > 1.\n",
            "  warnings.warn(warning_msg)\n",
            "2022-05-21 06:04:10,903 - mmocr - INFO - Start running, host: root@53a6a3ba29bc, work_dir: /mmocr/demo/tutorial_exps\n",
            "2022-05-21 06:04:10,904 - mmocr - INFO - Hooks will be executed in the following order:\n",
            "before_run:\n",
            "(VERY_HIGH   ) StepLrUpdaterHook                  \n",
            "(NORMAL      ) CheckpointHook                     \n",
            "(NORMAL      ) EvalHook                           \n",
            "(VERY_LOW    ) TextLoggerHook                     \n",
            " -------------------- \n",
            "before_train_epoch:\n",
            "(VERY_HIGH   ) StepLrUpdaterHook                  \n",
            "(NORMAL      ) EvalHook                           \n",
            "(LOW         ) IterTimerHook                      \n",
            "(VERY_LOW    ) TextLoggerHook                     \n",
            " -------------------- \n",
            "before_train_iter:\n",
            "(VERY_HIGH   ) StepLrUpdaterHook                  \n",
            "(NORMAL      ) EvalHook                           \n",
            "(LOW         ) IterTimerHook                      \n",
            " -------------------- \n",
            "after_train_iter:\n",
            "(ABOVE_NORMAL) OptimizerHook                      \n",
            "(NORMAL      ) CheckpointHook                     \n",
            "(NORMAL      ) EvalHook                           \n",
            "(LOW         ) IterTimerHook                      \n",
            "(VERY_LOW    ) TextLoggerHook                     \n",
            " -------------------- \n",
            "after_train_epoch:\n",
            "(NORMAL      ) CheckpointHook                     \n",
            "(NORMAL      ) EvalHook                           \n",
            "(VERY_LOW    ) TextLoggerHook                     \n",
            " -------------------- \n",
            "before_val_epoch:\n",
            "(LOW         ) IterTimerHook                      \n",
            "(VERY_LOW    ) TextLoggerHook                     \n",
            " -------------------- \n",
            "before_val_iter:\n",
            "(LOW         ) IterTimerHook                      \n",
            " -------------------- \n",
            "after_val_iter:\n",
            "(LOW         ) IterTimerHook                      \n",
            " -------------------- \n",
            "after_val_epoch:\n",
            "(VERY_LOW    ) TextLoggerHook                     \n",
            " -------------------- \n",
            "after_run:\n",
            "(VERY_LOW    ) TextLoggerHook                     \n",
            " -------------------- \n",
            "2022-05-21 06:04:10,906 - mmocr - INFO - workflow: [('train', 1)], max: 5 epochs\n",
            "2022-05-21 06:04:10,909 - mmocr - INFO - Checkpoints will be saved to /mmocr/demo/tutorial_exps by HardDiskBackend.\n",
            "/usr/local/lib/python3.7/dist-packages/torch/nn/functional.py:780: UserWarning: Note that order of the arguments: ceil_mode and return_indices will changeto match the args list in nn.MaxPool2d in a future release.\n",
            "  warnings.warn(\"Note that order of the arguments: ceil_mode and return_indices will change\"\n",
            "2022-05-21 06:04:13,745 - mmocr - INFO - Saving checkpoint at 1 epochs\n"
          ]
        },
        {
          "output_type": "stream",
          "name": "stdout",
          "text": [
            "[>>>>>>>>>>>>>>>>>>>>>>>>>>>>>>>>] 21/21, 18.7 task/s, elapsed: 1s, ETA:     0s"
          ]
        },
        {
          "output_type": "stream",
          "name": "stderr",
          "text": [
            "2022-05-21 06:04:19,279 - mmocr - INFO - \n",
            "Evaluating /mmocr/tests/data/toy_dataset/train_label.jsonl with 21 images now\n",
            "2022-05-21 06:04:19,283 - mmocr - INFO - Epoch(val) [1][3]\t0_char_recall: 0.1290, 0_char_precision: 0.0254, 0_word_acc: 0.0000, 0_word_acc_ignore_case: 0.0000, 0_word_acc_ignore_case_symbol: 0.0000, 0_1-N.E.D: 0.0302\n",
            "2022-05-21 06:04:22,122 - mmocr - INFO - Saving checkpoint at 2 epochs\n"
          ]
        },
        {
          "output_type": "stream",
          "name": "stdout",
          "text": [
            "[>>>>>>>>>>>>>>>>>>>>>>>>>>>>>>>>] 21/21, 18.0 task/s, elapsed: 1s, ETA:     0s"
          ]
        },
        {
          "output_type": "stream",
          "name": "stderr",
          "text": [
            "2022-05-21 06:04:27,717 - mmocr - INFO - \n",
            "Evaluating /mmocr/tests/data/toy_dataset/train_label.jsonl with 21 images now\n",
            "2022-05-21 06:04:27,720 - mmocr - INFO - Epoch(val) [2][3]\t0_char_recall: 0.0565, 0_char_precision: 0.0111, 0_word_acc: 0.0000, 0_word_acc_ignore_case: 0.0000, 0_word_acc_ignore_case_symbol: 0.0000, 0_1-N.E.D: 0.0111\n",
            "2022-05-21 06:04:30,555 - mmocr - INFO - Saving checkpoint at 3 epochs\n"
          ]
        },
        {
          "output_type": "stream",
          "name": "stdout",
          "text": [
            "[>>>>>>>>>>>>>>>>>>>>>>>>>>>>>>>>] 21/21, 17.8 task/s, elapsed: 1s, ETA:     0s"
          ]
        },
        {
          "output_type": "stream",
          "name": "stderr",
          "text": [
            "2022-05-21 06:04:36,352 - mmocr - INFO - \n",
            "Evaluating /mmocr/tests/data/toy_dataset/train_label.jsonl with 21 images now\n",
            "2022-05-21 06:04:36,358 - mmocr - INFO - Epoch(val) [3][3]\t0_char_recall: 0.0726, 0_char_precision: 0.0143, 0_word_acc: 0.0000, 0_word_acc_ignore_case: 0.0000, 0_word_acc_ignore_case_symbol: 0.0000, 0_1-N.E.D: 0.0127\n",
            "2022-05-21 06:04:39,206 - mmocr - INFO - Saving checkpoint at 4 epochs\n"
          ]
        },
        {
          "output_type": "stream",
          "name": "stdout",
          "text": [
            "[>>>>>>>>>>>>>>>>>>>>>>>>>>>>>>>>] 21/21, 18.2 task/s, elapsed: 1s, ETA:     0s"
          ]
        },
        {
          "output_type": "stream",
          "name": "stderr",
          "text": [
            "2022-05-21 06:04:44,756 - mmocr - INFO - \n",
            "Evaluating /mmocr/tests/data/toy_dataset/train_label.jsonl with 21 images now\n",
            "2022-05-21 06:04:44,763 - mmocr - INFO - Epoch(val) [4][3]\t0_char_recall: 0.0565, 0_char_precision: 0.0111, 0_word_acc: 0.0000, 0_word_acc_ignore_case: 0.0000, 0_word_acc_ignore_case_symbol: 0.0000, 0_1-N.E.D: 0.0079\n",
            "2022-05-21 06:04:47,603 - mmocr - INFO - Saving checkpoint at 5 epochs\n"
          ]
        },
        {
          "output_type": "stream",
          "name": "stdout",
          "text": [
            "[>>>>>>>>>>>>>>>>>>>>>>>>>>>>>>>>] 21/21, 17.6 task/s, elapsed: 1s, ETA:     0s"
          ]
        },
        {
          "output_type": "stream",
          "name": "stderr",
          "text": [
            "2022-05-21 06:04:53,310 - mmocr - INFO - \n",
            "Evaluating /mmocr/tests/data/toy_dataset/train_label.jsonl with 21 images now\n",
            "2022-05-21 06:04:53,312 - mmocr - INFO - Epoch(val) [5][3]\t0_char_recall: 0.0403, 0_char_precision: 0.0079, 0_word_acc: 0.0000, 0_word_acc_ignore_case: 0.0000, 0_word_acc_ignore_case_symbol: 0.0000, 0_1-N.E.D: 0.0063\n"
          ]
        }
      ]
    },
    {
      "cell_type": "markdown",
      "source": [
        "## Test and Visualize the Predictions\n",
        "\n",
        "For completeness, we also perform testing on the latest checkpoint and evaluate the results with hmean-iou metrics. The predictions are saved in the ./outputs file. "
      ],
      "metadata": {
        "id": "sklydRNXnfJk"
      }
    },
    {
      "cell_type": "code",
      "source": [
        "# Visualize the testing image.\n",
        "img='/mmocr/tests/data/toy_dataset/imgs/test/img_1.jpg' # This should be an overfit, since we testing an image that has been used for training!\n",
        "\n",
        "_img = mmcv.imread(img)\n",
        "plt.figure(figsize=(4, 4))\n",
        "plt.imshow(mmcv.bgr2rgb(_img))\n",
        "plt.show()"
      ],
      "metadata": {
        "id": "UcaZm7qY3yGT",
        "colab": {
          "base_uri": "https://localhost:8080/",
          "height": 177
        },
        "outputId": "0667e54e-08dc-4a61-c034-bfa5922d0b0b"
      },
      "execution_count": 39,
      "outputs": [
        {
          "output_type": "display_data",
          "data": {
            "text/plain": [
              "<Figure size 288x288 with 1 Axes>"
            ],
            "image/png": "[encoded data removed]"
          },
          "metadata": {
            "needs_background": "light"
          }
        }
      ]
    },
    {
      "cell_type": "code",
      "source": [
        "print(cfg.work_dir)"
      ],
      "metadata": {
        "colab": {
          "base_uri": "https://localhost:8080/"
        },
        "id": "zFRom8nBEppE",
        "outputId": "772de652-1f38-4b91-8b97-6172f71c86d3"
      },
      "execution_count": 41,
      "outputs": [
        {
          "output_type": "stream",
          "name": "stdout",
          "text": [
            "/mmocr/demo/tutorial_exps\n"
          ]
        }
      ]
    },
    {
      "cell_type": "code",
      "execution_count": 42,
      "source": [
        "from mmocr.apis import init_detector, model_inference\n",
        "\n",
        "\n",
        "img='/mmocr/tests/data/toy_dataset/imgs/test/img_1.jpg'  # This should be an overfit, since we testing an image that has been used for training!\n",
        "\n",
        "\n",
        "\n",
        "checkpoint=os.path.join(cfg.work_dir,'epoch_5.pth')\n",
        "\n",
        "\n",
        "out_file = 'outputs/1036169s.jpg'   # Rendered image save location\n",
        "\n",
        "model = init_detector(cfg, checkpoint, device=\"cuda:0\")\n",
        "if model.cfg.data.test['type'] == 'ConcatDataset':\n",
        "    model.cfg.data.test.pipeline = model.cfg.data.test['datasets'][0].pipeline\n",
        "\n",
        "# Lets do inference to the image using the model that we just train.\n",
        "result = model_inference(model, img)\n",
        "print(f'result: {result}')\n",
        "\n",
        "img = model.show_result(img, result, \n",
        "                        out_file=out_file, \n",
        "                        show=False)\n",
        "\n",
        "mmcv.imwrite(img, out_file)"
      ],
      "outputs": [
        {
          "output_type": "stream",
          "name": "stdout",
          "text": [
            "load checkpoint from local path: /mmocr/demo/tutorial_exps/epoch_5.pth\n",
            "result: {'text': 'Nhhhhhhhhhhhhhhhhhhhhhhhhhhhhh', 'score': 0.015963149319092432}\n"
          ]
        },
        {
          "output_type": "stream",
          "name": "stderr",
          "text": [
            "/usr/local/lib/python3.7/dist-packages/torch/nn/functional.py:780: UserWarning: Note that order of the arguments: ceil_mode and return_indices will changeto match the args list in nn.MaxPool2d in a future release.\n",
            "  warnings.warn(\"Note that order of the arguments: ceil_mode and return_indices will change\"\n"
          ]
        },
        {
          "output_type": "execute_result",
          "data": {
            "text/plain": [
              "True"
            ]
          },
          "metadata": {},
          "execution_count": 42
        }
      ],
      "metadata": {
        "id": "-HbXY7uUpEU1",
        "colab": {
          "base_uri": "https://localhost:8080/"
        },
        "outputId": "21efe7b9-173f-4772-8218-2d4140910dfb"
      }
    },
    {
      "cell_type": "code",
      "execution_count": 43,
      "source": [
        "# Visualize the results\n",
        "predicted_img = mmcv.imread('./outputs/1036169s.jpg')\n",
        "plt.figure(figsize=(4, 4))\n",
        "plt.imshow(mmcv.bgr2rgb(predicted_img))\n",
        "plt.show()"
      ],
      "outputs": [
        {
          "output_type": "display_data",
          "data": {
            "text/plain": [
              "<Figure size 288x288 with 1 Axes>"
            ],
            "image/png": "[encoded data removed]"
          },
          "metadata": {
            "needs_background": "light"
          }
        }
      ],
      "metadata": {
        "id": "k3s27QIGQCnT",
        "colab": {
          "base_uri": "https://localhost:8080/",
          "height": 268
        },
        "outputId": "e52b8617-804c-4815-bc70-2f0afb3ae2c4"
      }
    },
    {
      "cell_type": "markdown",
      "source": [
        "# Training from existing training point"
      ],
      "metadata": {
        "id": "xzVev3FMGc3q"
      }
    }
  ]
}